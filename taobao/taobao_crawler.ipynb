{
 "cells": [
  {
   "cell_type": "code",
   "execution_count": 1,
   "metadata": {
    "ExecuteTime": {
     "end_time": "2020-06-14T13:32:06.883596Z",
     "start_time": "2020-06-14T13:32:06.808466Z"
    }
   },
   "outputs": [],
   "source": [
    "from taobao_ver4 import ProductCrawler"
   ]
  },
  {
   "cell_type": "code",
   "execution_count": 2,
   "metadata": {
    "ExecuteTime": {
     "end_time": "2020-06-14T13:32:06.889287Z",
     "start_time": "2020-06-14T13:32:06.885720Z"
    }
   },
   "outputs": [],
   "source": [
    "crawler = ProductCrawler()"
   ]
  },
  {
   "cell_type": "code",
   "execution_count": 3,
   "metadata": {
    "ExecuteTime": {
     "end_time": "2020-06-14T13:32:36.334927Z",
     "start_time": "2020-06-14T13:32:06.892759Z"
    }
   },
   "outputs": [
    {
     "name": "stdout",
     "output_type": "stream",
     "text": [
      "프록시 가져옴\n",
      "로그인 완료\n",
      "가격 정보 가져옴\n"
     ]
    }
   ],
   "source": [
    "result = crawler.taobao_crawler(566287151204,\"yoohowon90\",\"ghdnjs77\")"
   ]
  },
  {
   "cell_type": "code",
   "execution_count": 4,
   "metadata": {
    "ExecuteTime": {
     "end_time": "2020-06-14T13:32:36.342752Z",
     "start_time": "2020-06-14T13:32:36.337279Z"
    }
   },
   "outputs": [
    {
     "data": {
      "text/plain": [
       "{'item_id': 566287151204,\n",
       " 'title': '毕亨特·珠宝猎人 S925纯银之蝴蝶龙虾扣 双头扣头',\n",
       " 'og_price': '¥58.00',\n",
       " 'promo_price': '할인 가격 정보 없음',\n",
       " 'item_title': '毕亨特·珠宝猎人   S925纯银之蝴蝶龙虾扣 双头扣头',\n",
       " 'options': '옵션 정보 없음'}"
      ]
     },
     "execution_count": 4,
     "metadata": {},
     "output_type": "execute_result"
    }
   ],
   "source": [
    "result"
   ]
  },
  {
   "cell_type": "code",
   "execution_count": null,
   "metadata": {},
   "outputs": [],
   "source": []
  },
  {
   "cell_type": "code",
   "execution_count": null,
   "metadata": {},
   "outputs": [],
   "source": []
  },
  {
   "cell_type": "code",
   "execution_count": null,
   "metadata": {},
   "outputs": [],
   "source": []
  },
  {
   "cell_type": "code",
   "execution_count": null,
   "metadata": {},
   "outputs": [],
   "source": []
  },
  {
   "cell_type": "code",
   "execution_count": null,
   "metadata": {},
   "outputs": [],
   "source": []
  },
  {
   "cell_type": "code",
   "execution_count": null,
   "metadata": {},
   "outputs": [],
   "source": []
  },
  {
   "cell_type": "code",
   "execution_count": null,
   "metadata": {},
   "outputs": [],
   "source": []
  },
  {
   "cell_type": "code",
   "execution_count": 137,
   "metadata": {
    "ExecuteTime": {
     "end_time": "2020-06-14T08:34:32.834767Z",
     "start_time": "2020-06-14T08:34:32.832204Z"
    }
   },
   "outputs": [],
   "source": [
    "itemId = 43975691029"
   ]
  },
  {
   "cell_type": "code",
   "execution_count": 156,
   "metadata": {
    "ExecuteTime": {
     "end_time": "2020-06-14T08:57:58.831786Z",
     "start_time": "2020-06-14T08:57:58.826289Z"
    }
   },
   "outputs": [],
   "source": [
    "from taobao_ver2 import ProductCrawler"
   ]
  },
  {
   "cell_type": "code",
   "execution_count": 157,
   "metadata": {
    "ExecuteTime": {
     "end_time": "2020-06-14T08:57:59.427966Z",
     "start_time": "2020-06-14T08:57:59.425461Z"
    }
   },
   "outputs": [],
   "source": [
    "crawler = ProductCrawler()"
   ]
  },
  {
   "cell_type": "code",
   "execution_count": null,
   "metadata": {},
   "outputs": [],
   "source": [
    "crawler."
   ]
  },
  {
   "cell_type": "code",
   "execution_count": 140,
   "metadata": {
    "ExecuteTime": {
     "end_time": "2020-06-14T08:35:05.370345Z",
     "start_time": "2020-06-14T08:34:34.183416Z"
    },
    "scrolled": true
   },
   "outputs": [
    {
     "name": "stdout",
     "output_type": "stream",
     "text": [
      "사이트 체크 완료 https://item.taobao.com/item.htm?id=43975691029\n"
     ]
    }
   ],
   "source": [
    "result = crawler.product_crawler(itemId)"
   ]
  },
  {
   "cell_type": "code",
   "execution_count": 141,
   "metadata": {
    "ExecuteTime": {
     "end_time": "2020-06-14T08:35:05.377354Z",
     "start_time": "2020-06-14T08:35:05.372841Z"
    },
    "scrolled": true
   },
   "outputs": [
    {
     "data": {
      "text/plain": [
       "{'item_id': 43975691029,\n",
       " 'promo_price': '할인 가격 없음',\n",
       " 'item_title': '时尚潮流女包大包包2019新款潮牛皮真皮磨砂皮单肩包简约手提大包',\n",
       " 'options': [{'option_title': '颜色分类',\n",
       "   'option_details': ['黑色-大号',\n",
       "    '灰色-大号',\n",
       "    '红色-大号',\n",
       "    '墨绿色-大号',\n",
       "    '蓝色-大号',\n",
       "    '深棕色-大号',\n",
       "    '卡其色-大号',\n",
       "    '黑色-小号',\n",
       "    '灰色-小号',\n",
       "    '红色-小号',\n",
       "    '墨绿色-小号',\n",
       "    '蓝色-小号',\n",
       "    '深棕色-小号',\n",
       "    '卡其色小号',\n",
       "    '酒红小号'],\n",
       "   'option_image_urls': ['gd1.alicdn.com/imgextra/i4/279754207/TB27.A2cFXXXXahXXXXXXXXXXXX_!!279754207.jpg',\n",
       "    'gd2.alicdn.com/imgextra/i3/279754207/TB2XcEHcFXXXXX2XpXXXXXXXXXX_!!279754207.jpg',\n",
       "    'gd4.alicdn.com/imgextra/i3/279754207/TB2oSsTcFXXXXcwXXXXXXXXXXXX_!!279754207.jpg',\n",
       "    'gd1.alicdn.com/imgextra/i1/279754207/TB2glM3cFXXXXX7XXXXXXXXXXXX_!!279754207.jpg',\n",
       "    'gd1.alicdn.com/imgextra/i2/279754207/TB23w.rbVXXXXcCXXXXXXXXXXXX_!!279754207.jpg',\n",
       "    'gd1.alicdn.com/imgextra/i1/279754207/TB2Y17wbVXXXXXyXXXXXXXXXXXX_!!279754207.jpg',\n",
       "    'gd1.alicdn.com/imgextra/i1/279754207/TB2yp0OeVXXXXcWXXXXXXXXXXXX_!!279754207.jpg']}]}"
      ]
     },
     "execution_count": 141,
     "metadata": {},
     "output_type": "execute_result"
    }
   ],
   "source": [
    "result"
   ]
  },
  {
   "cell_type": "code",
   "execution_count": null,
   "metadata": {},
   "outputs": [],
   "source": []
  },
  {
   "cell_type": "code",
   "execution_count": null,
   "metadata": {},
   "outputs": [],
   "source": []
  },
  {
   "cell_type": "code",
   "execution_count": null,
   "metadata": {},
   "outputs": [],
   "source": []
  },
  {
   "cell_type": "code",
   "execution_count": null,
   "metadata": {},
   "outputs": [],
   "source": []
  },
  {
   "cell_type": "code",
   "execution_count": null,
   "metadata": {},
   "outputs": [],
   "source": []
  },
  {
   "cell_type": "code",
   "execution_count": null,
   "metadata": {},
   "outputs": [],
   "source": []
  },
  {
   "cell_type": "code",
   "execution_count": null,
   "metadata": {},
   "outputs": [],
   "source": []
  },
  {
   "cell_type": "code",
   "execution_count": null,
   "metadata": {},
   "outputs": [],
   "source": []
  },
  {
   "cell_type": "code",
   "execution_count": null,
   "metadata": {},
   "outputs": [],
   "source": []
  },
  {
   "cell_type": "code",
   "execution_count": 34,
   "metadata": {
    "ExecuteTime": {
     "end_time": "2020-06-14T06:33:38.194648Z",
     "start_time": "2020-06-14T06:33:38.188869Z"
    }
   },
   "outputs": [],
   "source": [
    "from selenium import webdriver\n",
    "from selenium.webdriver.chrome.options import DesiredCapabilities\n",
    "from selenium.webdriver.common.proxy import Proxy, ProxyType\n",
    "\n",
    "import time\n",
    "\n",
    "\n",
    "co = webdriver.ChromeOptions()\n",
    "co.add_argument(\"log-level=3\")\n",
    "co.add_argument(\"--headless\")\n",
    "\n",
    "def get_proxies(co=co):\n",
    "    driver = webdriver.Chrome('./chromedriver',chrome_options=co)\n",
    "    driver.get(\"https://free-proxy-list.net/\")\n",
    "\n",
    "    PROXIES = []\n",
    "    proxies = driver.find_elements_by_css_selector(\"tr[role='row']\")\n",
    "    for p in proxies:\n",
    "        result = p.text.split(\" \")\n",
    "\n",
    "        if result[-1] == \"yes\":\n",
    "            PROXIES.append(result[0]+\":\"+result[1])\n",
    "\n",
    "    driver.close()\n",
    "    return PROXIES\n",
    "\n"
   ]
  },
  {
   "cell_type": "code",
   "execution_count": 35,
   "metadata": {
    "ExecuteTime": {
     "end_time": "2020-06-14T06:33:42.148736Z",
     "start_time": "2020-06-14T06:33:38.566671Z"
    }
   },
   "outputs": [],
   "source": [
    "proxies = get_proxies()"
   ]
  },
  {
   "cell_type": "code",
   "execution_count": 36,
   "metadata": {
    "ExecuteTime": {
     "end_time": "2020-06-14T06:33:42.156414Z",
     "start_time": "2020-06-14T06:33:42.151261Z"
    }
   },
   "outputs": [
    {
     "data": {
      "text/plain": [
       "['196.1.184.6:52963',\n",
       " '86.125.112.230:57373',\n",
       " '75.109.249.111:1111',\n",
       " '154.66.241.27:52004',\n",
       " '125.26.7.124:61642']"
      ]
     },
     "execution_count": 36,
     "metadata": {},
     "output_type": "execute_result"
    }
   ],
   "source": [
    "proxies"
   ]
  },
  {
   "cell_type": "code",
   "execution_count": 5,
   "metadata": {
    "ExecuteTime": {
     "end_time": "2020-06-14T06:27:12.401773Z",
     "start_time": "2020-06-14T06:27:12.398842Z"
    }
   },
   "outputs": [],
   "source": [
    "http_proxy  = \"http://\"+ proxies[3]\n",
    "https_proxy = \"https://\" + proxies[3]\n",
    "ftp_proxy   = \"ftp://\" + proxies[3]\n",
    "\n",
    "proxyDict = { \n",
    "              \"https\" : https_proxy, \n",
    "            }"
   ]
  },
  {
   "cell_type": "code",
   "execution_count": 6,
   "metadata": {
    "ExecuteTime": {
     "end_time": "2020-06-14T06:27:12.407573Z",
     "start_time": "2020-06-14T06:27:12.404592Z"
    }
   },
   "outputs": [],
   "source": [
    "import pickle\n",
    "f = open('cookie_taobao.dat', 'rb') \n",
    "cookies = pickle.load(f) "
   ]
  },
  {
   "cell_type": "code",
   "execution_count": 8,
   "metadata": {
    "ExecuteTime": {
     "end_time": "2020-06-14T06:27:31.372065Z",
     "start_time": "2020-06-14T06:27:16.915543Z"
    }
   },
   "outputs": [],
   "source": [
    "from selenium import webdriver\n",
    "from scrapy.http import TextResponse     \n",
    "from fake_useragent import UserAgent\n",
    "\n",
    "import requests\n",
    "import pickle\n",
    "\n",
    "\n",
    "f = open('cookie_taobao.dat', 'rb') \n",
    "cookies = pickle.load(f) \n",
    "\n",
    "url = \"https://item.taobao.com/item.htm?id={}\".format(itemId)\n",
    "\n",
    "ua = UserAgent(verify_ssl=False)\n",
    "userAgent = ua.random\n",
    "\n",
    "headers = {\n",
    "    'User-Agent': userAgent,\n",
    "    'Cookies': str(cookies)[1:-1]\n",
    "}\n",
    "\n",
    "response = requests.get(url=url, headers=headers, proxies=proxyDict)\n"
   ]
  },
  {
   "cell_type": "code",
   "execution_count": 9,
   "metadata": {
    "ExecuteTime": {
     "end_time": "2020-06-14T06:27:33.692406Z",
     "start_time": "2020-06-14T06:27:33.686995Z"
    }
   },
   "outputs": [],
   "source": [
    "req = TextResponse(response.url, body=response.text, encoding=\"utf-8\")  "
   ]
  },
  {
   "cell_type": "code",
   "execution_count": 10,
   "metadata": {
    "ExecuteTime": {
     "end_time": "2020-06-14T06:27:34.271113Z",
     "start_time": "2020-06-14T06:27:34.263988Z"
    }
   },
   "outputs": [
    {
     "data": {
      "text/plain": [
       "'手工复古牛皮长款钱包日韩卡包男士长款大容量拉链手机包男士手包'"
      ]
     },
     "execution_count": 10,
     "metadata": {},
     "output_type": "execute_result"
    }
   ],
   "source": [
    "# title\n",
    "req.xpath('//*[@id=\"J_Title\"]/h3/text()').extract_first().strip()"
   ]
  },
  {
   "cell_type": "code",
   "execution_count": 33,
   "metadata": {
    "ExecuteTime": {
     "end_time": "2020-06-14T06:31:13.889600Z",
     "start_time": "2020-06-14T06:31:13.885148Z"
    }
   },
   "outputs": [
    {
     "data": {
      "text/plain": [
       "[<Selector xpath='//*[@id=\"J_PromoHd\"]' data='<div id=\"J_PromoHd\" class=\"tb-promo-h...'>]"
      ]
     },
     "execution_count": 33,
     "metadata": {},
     "output_type": "execute_result"
    }
   ],
   "source": [
    "req.xpath('//*[@id=\"J_PromoHd\"]')"
   ]
  },
  {
   "cell_type": "code",
   "execution_count": 42,
   "metadata": {
    "ExecuteTime": {
     "end_time": "2020-06-14T06:18:02.851709Z",
     "start_time": "2020-06-14T06:18:02.843323Z"
    }
   },
   "outputs": [],
   "source": [
    "result = {}\n",
    "result['item_id'] = itemId\n",
    "\n",
    "# 할인 가격\n",
    "try:\n",
    "    result['promo_price'] = req.xpath('//*[@id=\"J_PromoPriceNum\"]').text\n",
    "except:\n",
    "    result['promo_price'] = '할인 가격 없음'\n",
    "\n",
    "\n",
    "\n",
    "# item_title\n",
    "result['item_title'] = req.xpath('//*[@id=\"J_DetailMeta\"]/div[@class=\"tm-clear\"]/div[@class=\"tb-property\"]/div/div[@class=\"tb-detail-hd\"]/h1/text()').extract_first()\n",
    "\n",
    "option_path = req.xpath('//*[@id=\"J_DetailMeta\"]/div/div/div/div[@class=\"tb-key\"]/div[@class=\"tb-skin\"]/div[@class=\"tb-sku\"]/dl[contains(@class, \"tm-sale-prop\") and contains(@class, \"tb-prop\") and contains(@class, \"tm-clear\")]')\n",
    "\n",
    "option_ls = []\n",
    "for path in option_path:\n",
    "    option = {}\n",
    "    option['option_title'] = path.xpath('dt/text()').extract_first()\n",
    "    option['option_detail'] = path.xpath('dd/ul/li/a/span/text()').extract()\n",
    "    image_elements = path.xpath('dd/ul[contains(@class, \"tb-img\")]/li/a')\n",
    "    option['option_image_urls'] = [element.xpath('@style').extract_first()[19:-40] for element in image_elements]\n",
    "    option_ls.append(option)\n",
    "    result['options'] = option_ls"
   ]
  },
  {
   "cell_type": "code",
   "execution_count": null,
   "metadata": {},
   "outputs": [],
   "source": []
  },
  {
   "cell_type": "code",
   "execution_count": 1,
   "metadata": {
    "ExecuteTime": {
     "end_time": "2020-06-14T05:33:02.287891Z",
     "start_time": "2020-06-14T05:33:02.284257Z"
    }
   },
   "outputs": [],
   "source": [
    "from taobao import ProductCrawler"
   ]
  },
  {
   "cell_type": "code",
   "execution_count": 2,
   "metadata": {
    "ExecuteTime": {
     "end_time": "2020-06-14T05:33:02.293408Z",
     "start_time": "2020-06-14T05:33:02.290672Z"
    }
   },
   "outputs": [],
   "source": [
    "crawler = ProductCrawler()"
   ]
  },
  {
   "cell_type": "code",
   "execution_count": 1,
   "metadata": {
    "ExecuteTime": {
     "end_time": "2020-06-14T05:52:20.489638Z",
     "start_time": "2020-06-14T05:52:13.379492Z"
    }
   },
   "outputs": [
    {
     "name": "stdout",
     "output_type": "stream",
     "text": [
      "['51.158.111.229:8811', '188.165.16.230:3129', '103.116.203.242:43520', '190.90.45.2:50482', '51.158.123.250:8811']\n",
      "<class 'selenium.webdriver.chrome.webdriver.WebDriver'>\n"
     ]
    }
   ],
   "source": [
    "from selenium import webdriver\n",
    "from selenium.webdriver.chrome.options import DesiredCapabilities\n",
    "from selenium.webdriver.common.proxy import Proxy, ProxyType\n",
    "\n",
    "import time\n",
    "\n",
    "\n",
    "co = webdriver.ChromeOptions()\n",
    "co.add_argument(\"log-level=3\")\n",
    "co.add_argument(\"--headless\")\n",
    "\n",
    "def get_proxies(co=co):\n",
    "    driver = webdriver.Chrome('./chromedriver',chrome_options=co)\n",
    "    driver.get(\"https://free-proxy-list.net/\")\n",
    "\n",
    "    PROXIES = []\n",
    "    proxies = driver.find_elements_by_css_selector(\"tr[role='row']\")\n",
    "    for p in proxies:\n",
    "        result = p.text.split(\" \")\n",
    "\n",
    "        if result[-1] == \"yes\":\n",
    "            PROXIES.append(result[0]+\":\"+result[1])\n",
    "\n",
    "    driver.close()\n",
    "    return PROXIES\n",
    "\n",
    "\n",
    "ALL_PROXIES = get_proxies()\n",
    "\n",
    "print(ALL_PROXIES)\n",
    "\n",
    "def proxy_driver(PROXIES, co=co):\n",
    "    prox = Proxy()\n",
    "\n",
    "    if PROXIES:\n",
    "        pxy = PROXIES[-1]\n",
    "    else:\n",
    "        print(\"--- Proxies used up (%s)\" % len(PROXIES))\n",
    "        PROXIES = get_proxies()\n",
    "\n",
    "    prox.proxy_type = ProxyType.MANUAL\n",
    "    prox.http_proxy = pxy\n",
    "    prox.socks_proxy = pxy\n",
    "    prox.ssl_proxy = pxy\n",
    "\n",
    "    capabilities = webdriver.DesiredCapabilities.CHROME\n",
    "    prox.add_to_capabilities(capabilities)\n",
    "\n",
    "    driver = webdriver.Chrome('./chromedriver',chrome_options=co, desired_capabilities=capabilities)\n",
    "\n",
    "    return driver\n",
    "\n",
    "\n",
    "\n",
    "\n",
    "\n",
    "\n",
    "# --- YOU ONLY NEED TO CARE FROM THIS LINE ---\n",
    "# creating new driver to use proxy\n",
    "pd = proxy_driver(ALL_PROXIES)\n",
    "print(type(pd))\n",
    "# pd.get(\"https://www.naver.com/\")\n",
    "\n",
    "# # code must be in a while loop with a try to keep trying with different proxies\n",
    "# running = True\n",
    "\n",
    "# while running:\n",
    "#     try:\n",
    "#         pd.get(\"https://www.naver.com/\")\n",
    "        \n",
    "#     except:\n",
    "#         new = ALL_PROXIES.pop()\n",
    "        \n",
    "#         # reassign driver if fail to switch proxy\n",
    "#         pd = proxy_driver(ALL_PROXIES)\n",
    "#         print(\"--- Switched proxy to: %s\" % new)\n",
    "#         time.sleep(1)"
   ]
  },
  {
   "cell_type": "code",
   "execution_count": 2,
   "metadata": {
    "ExecuteTime": {
     "end_time": "2020-06-14T05:53:08.535718Z",
     "start_time": "2020-06-14T05:52:52.659760Z"
    }
   },
   "outputs": [],
   "source": [
    "pd.get(\"https://www.naver.com/\")"
   ]
  },
  {
   "cell_type": "code",
   "execution_count": null,
   "metadata": {},
   "outputs": [],
   "source": []
  },
  {
   "cell_type": "code",
   "execution_count": 11,
   "metadata": {
    "ExecuteTime": {
     "end_time": "2020-06-13T08:36:01.540062Z",
     "start_time": "2020-06-13T08:35:56.023475Z"
    }
   },
   "outputs": [
    {
     "name": "stdout",
     "output_type": "stream",
     "text": [
      "<html><head><link rel=\"stylesheet\" href=\"resource://content-accessible/plaintext.css\"></head><body><pre>119.196.49.215\n",
      "</pre></body></html>\n"
     ]
    }
   ],
   "source": [
    "from selenium import webdriver\n",
    "driver = webdriver.Firefox(executable_path='./geckodriver')\n",
    "\n",
    "driver.get('http://icanhazip.com/')\n",
    "\n",
    "print(driver.page_source)\n",
    "\n",
    "driver.quit()"
   ]
  },
  {
   "cell_type": "code",
   "execution_count": 16,
   "metadata": {
    "ExecuteTime": {
     "end_time": "2020-06-13T09:49:34.455370Z",
     "start_time": "2020-06-13T09:49:30.139113Z"
    }
   },
   "outputs": [
    {
     "name": "stdout",
     "output_type": "stream",
     "text": [
      "<html><head><link rel=\"stylesheet\" href=\"resource://content-accessible/plaintext.css\"></head><body><pre>185.220.101.2\n",
      "</pre></body></html>\n"
     ]
    }
   ],
   "source": [
    "from selenium import webdriver\n",
    "\n",
    "profile = webdriver.FirefoxProfile()\n",
    "profile.set_preference(\"network.proxy.type\", 1)\n",
    "profile.set_preference(\"network.proxy.socks\", \"127.0.0.1\")\n",
    "profile.set_preference(\"network.proxy.socks_port\", 9050)\n",
    "\n",
    "\n",
    "profile.update_preferences()\n",
    "\n",
    "driver = webdriver.Firefox(firefox_profile=profile, executable_path='./geckodriver')\n",
    "\n",
    "driver.get('http://icanhazip.com/')\n",
    "\n",
    "print(driver.page_source)"
   ]
  },
  {
   "cell_type": "code",
   "execution_count": 38,
   "metadata": {
    "ExecuteTime": {
     "end_time": "2020-06-14T06:34:23.105750Z",
     "start_time": "2020-06-14T06:34:23.102450Z"
    }
   },
   "outputs": [
    {
     "data": {
      "text/plain": [
       "'86.125.112.230:57373'"
      ]
     },
     "execution_count": 38,
     "metadata": {},
     "output_type": "execute_result"
    }
   ],
   "source": [
    "proxies[1]"
   ]
  },
  {
   "cell_type": "code",
   "execution_count": 41,
   "metadata": {
    "ExecuteTime": {
     "end_time": "2020-06-14T06:34:57.798400Z",
     "start_time": "2020-06-14T06:34:55.531240Z"
    }
   },
   "outputs": [],
   "source": [
    "chrome_options = webdriver.ChromeOptions()\n",
    "chrome_options.add_argument('--proxy-server=' + proxies[1])\n",
    "driver = webdriver.Chrome('./chromedriver',chrome_options=chrome_options)"
   ]
  },
  {
   "cell_type": "code",
   "execution_count": null,
   "metadata": {},
   "outputs": [],
   "source": []
  },
  {
   "cell_type": "code",
   "execution_count": null,
   "metadata": {},
   "outputs": [],
   "source": []
  },
  {
   "cell_type": "code",
   "execution_count": 2,
   "metadata": {
    "ExecuteTime": {
     "end_time": "2020-06-14T05:22:57.858274Z",
     "start_time": "2020-06-14T05:22:57.855091Z"
    }
   },
   "outputs": [],
   "source": [
    "from taobao import ProductCrawler"
   ]
  },
  {
   "cell_type": "code",
   "execution_count": 3,
   "metadata": {
    "ExecuteTime": {
     "end_time": "2020-06-14T05:22:58.137018Z",
     "start_time": "2020-06-14T05:22:58.134019Z"
    }
   },
   "outputs": [],
   "source": [
    "crawler = ProductCrawler()"
   ]
  },
  {
   "cell_type": "code",
   "execution_count": 3,
   "metadata": {
    "ExecuteTime": {
     "end_time": "2020-06-14T05:18:19.575688Z",
     "start_time": "2020-06-14T05:18:04.376864Z"
    }
   },
   "outputs": [
    {
     "name": "stdout",
     "output_type": "stream",
     "text": [
      "사이트 체크 완료\n"
     ]
    }
   ],
   "source": [
    "result = crawler.product_crawler(555738059543)"
   ]
  },
  {
   "cell_type": "code",
   "execution_count": null,
   "metadata": {},
   "outputs": [],
   "source": []
  },
  {
   "cell_type": "code",
   "execution_count": 3,
   "metadata": {
    "ExecuteTime": {
     "end_time": "2020-06-13T11:41:24.999801Z",
     "start_time": "2020-06-13T11:41:16.869506Z"
    },
    "scrolled": true
   },
   "outputs": [
    {
     "ename": "SSLError",
     "evalue": "HTTPSConnectionPool(host='item.taobao.com', port=443): Max retries exceeded with url: /item.htm?id=555738059543 (Caused by SSLError(SSLError(\"bad handshake: Error([('SSL routines', 'ssl3_read_bytes', 'tlsv1 alert internal error')])\")))",
     "output_type": "error",
     "traceback": [
      "\u001b[0;31m---------------------------------------------------------------------------\u001b[0m",
      "\u001b[0;31mError\u001b[0m                                     Traceback (most recent call last)",
      "\u001b[0;32m~/opt/anaconda3/envs/fastcampus/lib/python3.7/site-packages/urllib3/contrib/pyopenssl.py\u001b[0m in \u001b[0;36mwrap_socket\u001b[0;34m(self, sock, server_side, do_handshake_on_connect, suppress_ragged_eofs, server_hostname)\u001b[0m\n\u001b[1;32m    455\u001b[0m             \u001b[0;32mtry\u001b[0m\u001b[0;34m:\u001b[0m\u001b[0;34m\u001b[0m\u001b[0;34m\u001b[0m\u001b[0m\n\u001b[0;32m--> 456\u001b[0;31m                 \u001b[0mcnx\u001b[0m\u001b[0;34m.\u001b[0m\u001b[0mdo_handshake\u001b[0m\u001b[0;34m(\u001b[0m\u001b[0;34m)\u001b[0m\u001b[0;34m\u001b[0m\u001b[0;34m\u001b[0m\u001b[0m\n\u001b[0m\u001b[1;32m    457\u001b[0m             \u001b[0;32mexcept\u001b[0m \u001b[0mOpenSSL\u001b[0m\u001b[0;34m.\u001b[0m\u001b[0mSSL\u001b[0m\u001b[0;34m.\u001b[0m\u001b[0mWantReadError\u001b[0m\u001b[0;34m:\u001b[0m\u001b[0;34m\u001b[0m\u001b[0;34m\u001b[0m\u001b[0m\n",
      "\u001b[0;32m~/opt/anaconda3/envs/fastcampus/lib/python3.7/site-packages/OpenSSL/SSL.py\u001b[0m in \u001b[0;36mdo_handshake\u001b[0;34m(self)\u001b[0m\n\u001b[1;32m   1914\u001b[0m         \u001b[0mresult\u001b[0m \u001b[0;34m=\u001b[0m \u001b[0m_lib\u001b[0m\u001b[0;34m.\u001b[0m\u001b[0mSSL_do_handshake\u001b[0m\u001b[0;34m(\u001b[0m\u001b[0mself\u001b[0m\u001b[0;34m.\u001b[0m\u001b[0m_ssl\u001b[0m\u001b[0;34m)\u001b[0m\u001b[0;34m\u001b[0m\u001b[0;34m\u001b[0m\u001b[0m\n\u001b[0;32m-> 1915\u001b[0;31m         \u001b[0mself\u001b[0m\u001b[0;34m.\u001b[0m\u001b[0m_raise_ssl_error\u001b[0m\u001b[0;34m(\u001b[0m\u001b[0mself\u001b[0m\u001b[0;34m.\u001b[0m\u001b[0m_ssl\u001b[0m\u001b[0;34m,\u001b[0m \u001b[0mresult\u001b[0m\u001b[0;34m)\u001b[0m\u001b[0;34m\u001b[0m\u001b[0;34m\u001b[0m\u001b[0m\n\u001b[0m\u001b[1;32m   1916\u001b[0m \u001b[0;34m\u001b[0m\u001b[0m\n",
      "\u001b[0;32m~/opt/anaconda3/envs/fastcampus/lib/python3.7/site-packages/OpenSSL/SSL.py\u001b[0m in \u001b[0;36m_raise_ssl_error\u001b[0;34m(self, ssl, result)\u001b[0m\n\u001b[1;32m   1646\u001b[0m         \u001b[0;32melse\u001b[0m\u001b[0;34m:\u001b[0m\u001b[0;34m\u001b[0m\u001b[0;34m\u001b[0m\u001b[0m\n\u001b[0;32m-> 1647\u001b[0;31m             \u001b[0m_raise_current_error\u001b[0m\u001b[0;34m(\u001b[0m\u001b[0;34m)\u001b[0m\u001b[0;34m\u001b[0m\u001b[0;34m\u001b[0m\u001b[0m\n\u001b[0m\u001b[1;32m   1648\u001b[0m \u001b[0;34m\u001b[0m\u001b[0m\n",
      "\u001b[0;32m~/opt/anaconda3/envs/fastcampus/lib/python3.7/site-packages/OpenSSL/_util.py\u001b[0m in \u001b[0;36mexception_from_error_queue\u001b[0;34m(exception_type)\u001b[0m\n\u001b[1;32m     53\u001b[0m \u001b[0;34m\u001b[0m\u001b[0m\n\u001b[0;32m---> 54\u001b[0;31m     \u001b[0;32mraise\u001b[0m \u001b[0mexception_type\u001b[0m\u001b[0;34m(\u001b[0m\u001b[0merrors\u001b[0m\u001b[0;34m)\u001b[0m\u001b[0;34m\u001b[0m\u001b[0;34m\u001b[0m\u001b[0m\n\u001b[0m\u001b[1;32m     55\u001b[0m \u001b[0;34m\u001b[0m\u001b[0m\n",
      "\u001b[0;31mError\u001b[0m: [('SSL routines', 'ssl3_read_bytes', 'tlsv1 alert internal error')]",
      "\nDuring handling of the above exception, another exception occurred:\n",
      "\u001b[0;31mSSLError\u001b[0m                                  Traceback (most recent call last)",
      "\u001b[0;32m~/opt/anaconda3/envs/fastcampus/lib/python3.7/site-packages/urllib3/connectionpool.py\u001b[0m in \u001b[0;36murlopen\u001b[0;34m(self, method, url, body, headers, retries, redirect, assert_same_host, timeout, pool_timeout, release_conn, chunked, body_pos, **response_kw)\u001b[0m\n\u001b[1;32m    599\u001b[0m                                                   \u001b[0mbody\u001b[0m\u001b[0;34m=\u001b[0m\u001b[0mbody\u001b[0m\u001b[0;34m,\u001b[0m \u001b[0mheaders\u001b[0m\u001b[0;34m=\u001b[0m\u001b[0mheaders\u001b[0m\u001b[0;34m,\u001b[0m\u001b[0;34m\u001b[0m\u001b[0;34m\u001b[0m\u001b[0m\n\u001b[0;32m--> 600\u001b[0;31m                                                   chunked=chunked)\n\u001b[0m\u001b[1;32m    601\u001b[0m \u001b[0;34m\u001b[0m\u001b[0m\n",
      "\u001b[0;32m~/opt/anaconda3/envs/fastcampus/lib/python3.7/site-packages/urllib3/connectionpool.py\u001b[0m in \u001b[0;36m_make_request\u001b[0;34m(self, conn, method, url, timeout, chunked, **httplib_request_kw)\u001b[0m\n\u001b[1;32m    342\u001b[0m         \u001b[0;32mtry\u001b[0m\u001b[0;34m:\u001b[0m\u001b[0;34m\u001b[0m\u001b[0;34m\u001b[0m\u001b[0m\n\u001b[0;32m--> 343\u001b[0;31m             \u001b[0mself\u001b[0m\u001b[0;34m.\u001b[0m\u001b[0m_validate_conn\u001b[0m\u001b[0;34m(\u001b[0m\u001b[0mconn\u001b[0m\u001b[0;34m)\u001b[0m\u001b[0;34m\u001b[0m\u001b[0;34m\u001b[0m\u001b[0m\n\u001b[0m\u001b[1;32m    344\u001b[0m         \u001b[0;32mexcept\u001b[0m \u001b[0;34m(\u001b[0m\u001b[0mSocketTimeout\u001b[0m\u001b[0;34m,\u001b[0m \u001b[0mBaseSSLError\u001b[0m\u001b[0;34m)\u001b[0m \u001b[0;32mas\u001b[0m \u001b[0me\u001b[0m\u001b[0;34m:\u001b[0m\u001b[0;34m\u001b[0m\u001b[0;34m\u001b[0m\u001b[0m\n",
      "\u001b[0;32m~/opt/anaconda3/envs/fastcampus/lib/python3.7/site-packages/urllib3/connectionpool.py\u001b[0m in \u001b[0;36m_validate_conn\u001b[0;34m(self, conn)\u001b[0m\n\u001b[1;32m    838\u001b[0m         \u001b[0;32mif\u001b[0m \u001b[0;32mnot\u001b[0m \u001b[0mgetattr\u001b[0m\u001b[0;34m(\u001b[0m\u001b[0mconn\u001b[0m\u001b[0;34m,\u001b[0m \u001b[0;34m'sock'\u001b[0m\u001b[0;34m,\u001b[0m \u001b[0;32mNone\u001b[0m\u001b[0;34m)\u001b[0m\u001b[0;34m:\u001b[0m  \u001b[0;31m# AppEngine might not have  `.sock`\u001b[0m\u001b[0;34m\u001b[0m\u001b[0;34m\u001b[0m\u001b[0m\n\u001b[0;32m--> 839\u001b[0;31m             \u001b[0mconn\u001b[0m\u001b[0;34m.\u001b[0m\u001b[0mconnect\u001b[0m\u001b[0;34m(\u001b[0m\u001b[0;34m)\u001b[0m\u001b[0;34m\u001b[0m\u001b[0;34m\u001b[0m\u001b[0m\n\u001b[0m\u001b[1;32m    840\u001b[0m \u001b[0;34m\u001b[0m\u001b[0m\n",
      "\u001b[0;32m~/opt/anaconda3/envs/fastcampus/lib/python3.7/site-packages/urllib3/connection.py\u001b[0m in \u001b[0;36mconnect\u001b[0;34m(self)\u001b[0m\n\u001b[1;32m    343\u001b[0m             \u001b[0mserver_hostname\u001b[0m\u001b[0;34m=\u001b[0m\u001b[0mserver_hostname\u001b[0m\u001b[0;34m,\u001b[0m\u001b[0;34m\u001b[0m\u001b[0;34m\u001b[0m\u001b[0m\n\u001b[0;32m--> 344\u001b[0;31m             ssl_context=context)\n\u001b[0m\u001b[1;32m    345\u001b[0m \u001b[0;34m\u001b[0m\u001b[0m\n",
      "\u001b[0;32m~/opt/anaconda3/envs/fastcampus/lib/python3.7/site-packages/urllib3/util/ssl_.py\u001b[0m in \u001b[0;36mssl_wrap_socket\u001b[0;34m(sock, keyfile, certfile, cert_reqs, ca_certs, server_hostname, ssl_version, ciphers, ssl_context, ca_cert_dir)\u001b[0m\n\u001b[1;32m    346\u001b[0m         \u001b[0;32mif\u001b[0m \u001b[0mHAS_SNI\u001b[0m \u001b[0;32mand\u001b[0m \u001b[0mserver_hostname\u001b[0m \u001b[0;32mis\u001b[0m \u001b[0;32mnot\u001b[0m \u001b[0;32mNone\u001b[0m\u001b[0;34m:\u001b[0m\u001b[0;34m\u001b[0m\u001b[0;34m\u001b[0m\u001b[0m\n\u001b[0;32m--> 347\u001b[0;31m             \u001b[0;32mreturn\u001b[0m \u001b[0mcontext\u001b[0m\u001b[0;34m.\u001b[0m\u001b[0mwrap_socket\u001b[0m\u001b[0;34m(\u001b[0m\u001b[0msock\u001b[0m\u001b[0;34m,\u001b[0m \u001b[0mserver_hostname\u001b[0m\u001b[0;34m=\u001b[0m\u001b[0mserver_hostname\u001b[0m\u001b[0;34m)\u001b[0m\u001b[0;34m\u001b[0m\u001b[0;34m\u001b[0m\u001b[0m\n\u001b[0m\u001b[1;32m    348\u001b[0m \u001b[0;34m\u001b[0m\u001b[0m\n",
      "\u001b[0;32m~/opt/anaconda3/envs/fastcampus/lib/python3.7/site-packages/urllib3/contrib/pyopenssl.py\u001b[0m in \u001b[0;36mwrap_socket\u001b[0;34m(self, sock, server_side, do_handshake_on_connect, suppress_ragged_eofs, server_hostname)\u001b[0m\n\u001b[1;32m    461\u001b[0m             \u001b[0;32mexcept\u001b[0m \u001b[0mOpenSSL\u001b[0m\u001b[0;34m.\u001b[0m\u001b[0mSSL\u001b[0m\u001b[0;34m.\u001b[0m\u001b[0mError\u001b[0m \u001b[0;32mas\u001b[0m \u001b[0me\u001b[0m\u001b[0;34m:\u001b[0m\u001b[0;34m\u001b[0m\u001b[0;34m\u001b[0m\u001b[0m\n\u001b[0;32m--> 462\u001b[0;31m                 \u001b[0;32mraise\u001b[0m \u001b[0mssl\u001b[0m\u001b[0;34m.\u001b[0m\u001b[0mSSLError\u001b[0m\u001b[0;34m(\u001b[0m\u001b[0;34m'bad handshake: %r'\u001b[0m \u001b[0;34m%\u001b[0m \u001b[0me\u001b[0m\u001b[0;34m)\u001b[0m\u001b[0;34m\u001b[0m\u001b[0;34m\u001b[0m\u001b[0m\n\u001b[0m\u001b[1;32m    463\u001b[0m             \u001b[0;32mbreak\u001b[0m\u001b[0;34m\u001b[0m\u001b[0;34m\u001b[0m\u001b[0m\n",
      "\u001b[0;31mSSLError\u001b[0m: (\"bad handshake: Error([('SSL routines', 'ssl3_read_bytes', 'tlsv1 alert internal error')])\",)",
      "\nDuring handling of the above exception, another exception occurred:\n",
      "\u001b[0;31mMaxRetryError\u001b[0m                             Traceback (most recent call last)",
      "\u001b[0;32m~/opt/anaconda3/envs/fastcampus/lib/python3.7/site-packages/requests/adapters.py\u001b[0m in \u001b[0;36msend\u001b[0;34m(self, request, stream, timeout, verify, cert, proxies)\u001b[0m\n\u001b[1;32m    448\u001b[0m                     \u001b[0mretries\u001b[0m\u001b[0;34m=\u001b[0m\u001b[0mself\u001b[0m\u001b[0;34m.\u001b[0m\u001b[0mmax_retries\u001b[0m\u001b[0;34m,\u001b[0m\u001b[0;34m\u001b[0m\u001b[0;34m\u001b[0m\u001b[0m\n\u001b[0;32m--> 449\u001b[0;31m                     \u001b[0mtimeout\u001b[0m\u001b[0;34m=\u001b[0m\u001b[0mtimeout\u001b[0m\u001b[0;34m\u001b[0m\u001b[0;34m\u001b[0m\u001b[0m\n\u001b[0m\u001b[1;32m    450\u001b[0m                 )\n",
      "\u001b[0;32m~/opt/anaconda3/envs/fastcampus/lib/python3.7/site-packages/urllib3/connectionpool.py\u001b[0m in \u001b[0;36murlopen\u001b[0;34m(self, method, url, body, headers, retries, redirect, assert_same_host, timeout, pool_timeout, release_conn, chunked, body_pos, **response_kw)\u001b[0m\n\u001b[1;32m    637\u001b[0m             retries = retries.increment(method, url, error=e, _pool=self,\n\u001b[0;32m--> 638\u001b[0;31m                                         _stacktrace=sys.exc_info()[2])\n\u001b[0m\u001b[1;32m    639\u001b[0m             \u001b[0mretries\u001b[0m\u001b[0;34m.\u001b[0m\u001b[0msleep\u001b[0m\u001b[0;34m(\u001b[0m\u001b[0;34m)\u001b[0m\u001b[0;34m\u001b[0m\u001b[0;34m\u001b[0m\u001b[0m\n",
      "\u001b[0;32m~/opt/anaconda3/envs/fastcampus/lib/python3.7/site-packages/urllib3/util/retry.py\u001b[0m in \u001b[0;36mincrement\u001b[0;34m(self, method, url, response, error, _pool, _stacktrace)\u001b[0m\n\u001b[1;32m    398\u001b[0m         \u001b[0;32mif\u001b[0m \u001b[0mnew_retry\u001b[0m\u001b[0;34m.\u001b[0m\u001b[0mis_exhausted\u001b[0m\u001b[0;34m(\u001b[0m\u001b[0;34m)\u001b[0m\u001b[0;34m:\u001b[0m\u001b[0;34m\u001b[0m\u001b[0;34m\u001b[0m\u001b[0m\n\u001b[0;32m--> 399\u001b[0;31m             \u001b[0;32mraise\u001b[0m \u001b[0mMaxRetryError\u001b[0m\u001b[0;34m(\u001b[0m\u001b[0m_pool\u001b[0m\u001b[0;34m,\u001b[0m \u001b[0murl\u001b[0m\u001b[0;34m,\u001b[0m \u001b[0merror\u001b[0m \u001b[0;32mor\u001b[0m \u001b[0mResponseError\u001b[0m\u001b[0;34m(\u001b[0m\u001b[0mcause\u001b[0m\u001b[0;34m)\u001b[0m\u001b[0;34m)\u001b[0m\u001b[0;34m\u001b[0m\u001b[0;34m\u001b[0m\u001b[0m\n\u001b[0m\u001b[1;32m    400\u001b[0m \u001b[0;34m\u001b[0m\u001b[0m\n",
      "\u001b[0;31mMaxRetryError\u001b[0m: HTTPSConnectionPool(host='item.taobao.com', port=443): Max retries exceeded with url: /item.htm?id=555738059543 (Caused by SSLError(SSLError(\"bad handshake: Error([('SSL routines', 'ssl3_read_bytes', 'tlsv1 alert internal error')])\")))",
      "\nDuring handling of the above exception, another exception occurred:\n",
      "\u001b[0;31mSSLError\u001b[0m                                  Traceback (most recent call last)",
      "\u001b[0;32m<ipython-input-3-a0b3f8d42556>\u001b[0m in \u001b[0;36m<module>\u001b[0;34m\u001b[0m\n\u001b[0;32m----> 1\u001b[0;31m \u001b[0mresult\u001b[0m \u001b[0;34m=\u001b[0m \u001b[0mcrawler\u001b[0m\u001b[0;34m.\u001b[0m\u001b[0mtaobao_crawler\u001b[0m\u001b[0;34m(\u001b[0m\u001b[0;36m555738059543\u001b[0m\u001b[0;34m)\u001b[0m\u001b[0;34m\u001b[0m\u001b[0;34m\u001b[0m\u001b[0m\n\u001b[0m",
      "\u001b[0;32m~/Desktop/taobao/taobao.py\u001b[0m in \u001b[0;36mtaobao_crawler\u001b[0;34m(self, itemid)\u001b[0m\n\u001b[1;32m    163\u001b[0m         \u001b[0;31m# requests.packages.urllib3.util.ssl_.DEFAULT_CIPHERS = 'DH+AESGCM:ECDH+AES256:DH+AES256:ECDH+AES128:DH+AES:ECDH+HIGH:DH+HIGH:ECDH+3DES:DH+3DES:RSA+AESGCM:RSA+AES:RSA+HIGH:RSA+3DES:!aNULL:!eNULL:!MD5'\u001b[0m\u001b[0;34m\u001b[0m\u001b[0;34m\u001b[0m\u001b[0;34m\u001b[0m\u001b[0m\n\u001b[1;32m    164\u001b[0m \u001b[0;34m\u001b[0m\u001b[0m\n\u001b[0;32m--> 165\u001b[0;31m         \u001b[0mresponse\u001b[0m \u001b[0;34m=\u001b[0m \u001b[0mrequests\u001b[0m\u001b[0;34m.\u001b[0m\u001b[0mget\u001b[0m\u001b[0;34m(\u001b[0m\u001b[0murl\u001b[0m\u001b[0;34m=\u001b[0m\u001b[0murl\u001b[0m\u001b[0;34m,\u001b[0m \u001b[0mheaders\u001b[0m\u001b[0;34m=\u001b[0m\u001b[0mheaders\u001b[0m\u001b[0;34m)\u001b[0m\u001b[0;34m\u001b[0m\u001b[0;34m\u001b[0m\u001b[0m\n\u001b[0m\u001b[1;32m    166\u001b[0m         \u001b[0mreq\u001b[0m \u001b[0;34m=\u001b[0m \u001b[0mTextResponse\u001b[0m\u001b[0;34m(\u001b[0m\u001b[0mresponse\u001b[0m\u001b[0;34m.\u001b[0m\u001b[0murl\u001b[0m\u001b[0;34m,\u001b[0m \u001b[0mbody\u001b[0m\u001b[0;34m=\u001b[0m\u001b[0mresponse\u001b[0m\u001b[0;34m.\u001b[0m\u001b[0mtext\u001b[0m\u001b[0;34m,\u001b[0m \u001b[0mencoding\u001b[0m\u001b[0;34m=\u001b[0m\u001b[0;34m\"utf-8\"\u001b[0m\u001b[0;34m)\u001b[0m\u001b[0;34m\u001b[0m\u001b[0;34m\u001b[0m\u001b[0m\n\u001b[1;32m    167\u001b[0m         result['item_title'] = req.xpath(\n",
      "\u001b[0;32m~/opt/anaconda3/envs/fastcampus/lib/python3.7/site-packages/requests/api.py\u001b[0m in \u001b[0;36mget\u001b[0;34m(url, params, **kwargs)\u001b[0m\n\u001b[1;32m     73\u001b[0m \u001b[0;34m\u001b[0m\u001b[0m\n\u001b[1;32m     74\u001b[0m     \u001b[0mkwargs\u001b[0m\u001b[0;34m.\u001b[0m\u001b[0msetdefault\u001b[0m\u001b[0;34m(\u001b[0m\u001b[0;34m'allow_redirects'\u001b[0m\u001b[0;34m,\u001b[0m \u001b[0;32mTrue\u001b[0m\u001b[0;34m)\u001b[0m\u001b[0;34m\u001b[0m\u001b[0;34m\u001b[0m\u001b[0m\n\u001b[0;32m---> 75\u001b[0;31m     \u001b[0;32mreturn\u001b[0m \u001b[0mrequest\u001b[0m\u001b[0;34m(\u001b[0m\u001b[0;34m'get'\u001b[0m\u001b[0;34m,\u001b[0m \u001b[0murl\u001b[0m\u001b[0;34m,\u001b[0m \u001b[0mparams\u001b[0m\u001b[0;34m=\u001b[0m\u001b[0mparams\u001b[0m\u001b[0;34m,\u001b[0m \u001b[0;34m**\u001b[0m\u001b[0mkwargs\u001b[0m\u001b[0;34m)\u001b[0m\u001b[0;34m\u001b[0m\u001b[0;34m\u001b[0m\u001b[0m\n\u001b[0m\u001b[1;32m     76\u001b[0m \u001b[0;34m\u001b[0m\u001b[0m\n\u001b[1;32m     77\u001b[0m \u001b[0;34m\u001b[0m\u001b[0m\n",
      "\u001b[0;32m~/opt/anaconda3/envs/fastcampus/lib/python3.7/site-packages/requests/api.py\u001b[0m in \u001b[0;36mrequest\u001b[0;34m(method, url, **kwargs)\u001b[0m\n\u001b[1;32m     58\u001b[0m     \u001b[0;31m# cases, and look like a memory leak in others.\u001b[0m\u001b[0;34m\u001b[0m\u001b[0;34m\u001b[0m\u001b[0;34m\u001b[0m\u001b[0m\n\u001b[1;32m     59\u001b[0m     \u001b[0;32mwith\u001b[0m \u001b[0msessions\u001b[0m\u001b[0;34m.\u001b[0m\u001b[0mSession\u001b[0m\u001b[0;34m(\u001b[0m\u001b[0;34m)\u001b[0m \u001b[0;32mas\u001b[0m \u001b[0msession\u001b[0m\u001b[0;34m:\u001b[0m\u001b[0;34m\u001b[0m\u001b[0;34m\u001b[0m\u001b[0m\n\u001b[0;32m---> 60\u001b[0;31m         \u001b[0;32mreturn\u001b[0m \u001b[0msession\u001b[0m\u001b[0;34m.\u001b[0m\u001b[0mrequest\u001b[0m\u001b[0;34m(\u001b[0m\u001b[0mmethod\u001b[0m\u001b[0;34m=\u001b[0m\u001b[0mmethod\u001b[0m\u001b[0;34m,\u001b[0m \u001b[0murl\u001b[0m\u001b[0;34m=\u001b[0m\u001b[0murl\u001b[0m\u001b[0;34m,\u001b[0m \u001b[0;34m**\u001b[0m\u001b[0mkwargs\u001b[0m\u001b[0;34m)\u001b[0m\u001b[0;34m\u001b[0m\u001b[0;34m\u001b[0m\u001b[0m\n\u001b[0m\u001b[1;32m     61\u001b[0m \u001b[0;34m\u001b[0m\u001b[0m\n\u001b[1;32m     62\u001b[0m \u001b[0;34m\u001b[0m\u001b[0m\n",
      "\u001b[0;32m~/opt/anaconda3/envs/fastcampus/lib/python3.7/site-packages/requests/sessions.py\u001b[0m in \u001b[0;36mrequest\u001b[0;34m(self, method, url, params, data, headers, cookies, files, auth, timeout, allow_redirects, proxies, hooks, stream, verify, cert, json)\u001b[0m\n\u001b[1;32m    531\u001b[0m         }\n\u001b[1;32m    532\u001b[0m         \u001b[0msend_kwargs\u001b[0m\u001b[0;34m.\u001b[0m\u001b[0mupdate\u001b[0m\u001b[0;34m(\u001b[0m\u001b[0msettings\u001b[0m\u001b[0;34m)\u001b[0m\u001b[0;34m\u001b[0m\u001b[0;34m\u001b[0m\u001b[0m\n\u001b[0;32m--> 533\u001b[0;31m         \u001b[0mresp\u001b[0m \u001b[0;34m=\u001b[0m \u001b[0mself\u001b[0m\u001b[0;34m.\u001b[0m\u001b[0msend\u001b[0m\u001b[0;34m(\u001b[0m\u001b[0mprep\u001b[0m\u001b[0;34m,\u001b[0m \u001b[0;34m**\u001b[0m\u001b[0msend_kwargs\u001b[0m\u001b[0;34m)\u001b[0m\u001b[0;34m\u001b[0m\u001b[0;34m\u001b[0m\u001b[0m\n\u001b[0m\u001b[1;32m    534\u001b[0m \u001b[0;34m\u001b[0m\u001b[0m\n\u001b[1;32m    535\u001b[0m         \u001b[0;32mreturn\u001b[0m \u001b[0mresp\u001b[0m\u001b[0;34m\u001b[0m\u001b[0;34m\u001b[0m\u001b[0m\n",
      "\u001b[0;32m~/opt/anaconda3/envs/fastcampus/lib/python3.7/site-packages/requests/sessions.py\u001b[0m in \u001b[0;36msend\u001b[0;34m(self, request, **kwargs)\u001b[0m\n\u001b[1;32m    644\u001b[0m \u001b[0;34m\u001b[0m\u001b[0m\n\u001b[1;32m    645\u001b[0m         \u001b[0;31m# Send the request\u001b[0m\u001b[0;34m\u001b[0m\u001b[0;34m\u001b[0m\u001b[0;34m\u001b[0m\u001b[0m\n\u001b[0;32m--> 646\u001b[0;31m         \u001b[0mr\u001b[0m \u001b[0;34m=\u001b[0m \u001b[0madapter\u001b[0m\u001b[0;34m.\u001b[0m\u001b[0msend\u001b[0m\u001b[0;34m(\u001b[0m\u001b[0mrequest\u001b[0m\u001b[0;34m,\u001b[0m \u001b[0;34m**\u001b[0m\u001b[0mkwargs\u001b[0m\u001b[0;34m)\u001b[0m\u001b[0;34m\u001b[0m\u001b[0;34m\u001b[0m\u001b[0m\n\u001b[0m\u001b[1;32m    647\u001b[0m \u001b[0;34m\u001b[0m\u001b[0m\n\u001b[1;32m    648\u001b[0m         \u001b[0;31m# Total elapsed time of the request (approximately)\u001b[0m\u001b[0;34m\u001b[0m\u001b[0;34m\u001b[0m\u001b[0;34m\u001b[0m\u001b[0m\n",
      "\u001b[0;32m~/opt/anaconda3/envs/fastcampus/lib/python3.7/site-packages/requests/adapters.py\u001b[0m in \u001b[0;36msend\u001b[0;34m(self, request, stream, timeout, verify, cert, proxies)\u001b[0m\n\u001b[1;32m    512\u001b[0m             \u001b[0;32mif\u001b[0m \u001b[0misinstance\u001b[0m\u001b[0;34m(\u001b[0m\u001b[0me\u001b[0m\u001b[0;34m.\u001b[0m\u001b[0mreason\u001b[0m\u001b[0;34m,\u001b[0m \u001b[0m_SSLError\u001b[0m\u001b[0;34m)\u001b[0m\u001b[0;34m:\u001b[0m\u001b[0;34m\u001b[0m\u001b[0;34m\u001b[0m\u001b[0m\n\u001b[1;32m    513\u001b[0m                 \u001b[0;31m# This branch is for urllib3 v1.22 and later.\u001b[0m\u001b[0;34m\u001b[0m\u001b[0;34m\u001b[0m\u001b[0;34m\u001b[0m\u001b[0m\n\u001b[0;32m--> 514\u001b[0;31m                 \u001b[0;32mraise\u001b[0m \u001b[0mSSLError\u001b[0m\u001b[0;34m(\u001b[0m\u001b[0me\u001b[0m\u001b[0;34m,\u001b[0m \u001b[0mrequest\u001b[0m\u001b[0;34m=\u001b[0m\u001b[0mrequest\u001b[0m\u001b[0;34m)\u001b[0m\u001b[0;34m\u001b[0m\u001b[0;34m\u001b[0m\u001b[0m\n\u001b[0m\u001b[1;32m    515\u001b[0m \u001b[0;34m\u001b[0m\u001b[0m\n\u001b[1;32m    516\u001b[0m             \u001b[0;32mraise\u001b[0m \u001b[0mConnectionError\u001b[0m\u001b[0;34m(\u001b[0m\u001b[0me\u001b[0m\u001b[0;34m,\u001b[0m \u001b[0mrequest\u001b[0m\u001b[0;34m=\u001b[0m\u001b[0mrequest\u001b[0m\u001b[0;34m)\u001b[0m\u001b[0;34m\u001b[0m\u001b[0;34m\u001b[0m\u001b[0m\n",
      "\u001b[0;31mSSLError\u001b[0m: HTTPSConnectionPool(host='item.taobao.com', port=443): Max retries exceeded with url: /item.htm?id=555738059543 (Caused by SSLError(SSLError(\"bad handshake: Error([('SSL routines', 'ssl3_read_bytes', 'tlsv1 alert internal error')])\")))"
     ]
    }
   ],
   "source": [
    "result = crawler.taobao_crawler(555738059543)"
   ]
  },
  {
   "cell_type": "code",
   "execution_count": 4,
   "metadata": {
    "ExecuteTime": {
     "end_time": "2020-06-13T11:37:36.212518Z",
     "start_time": "2020-06-13T11:37:36.206711Z"
    }
   },
   "outputs": [
    {
     "data": {
      "text/plain": [
       "{'item_id': 555738059543,\n",
       " 'promo_price': '할인 가격 없음',\n",
       " 'item_title': '九城原创手拿包男包帆布手机包大容量男士复古手拎小包防水手抓包',\n",
       " 'options': [{'option_title': '颜色分类',\n",
       "   'option_details': ['深蓝色', '湖绿色'],\n",
       "   'option_image_urls': ['gd1.alicdn.com/imgextra/i3/3223155439/TB25AchXP7jyKJjy1XaXXblnFXa_!!3223155439.jpg',\n",
       "    'gd3.alicdn.com/imgextra/i4/3223155439/O1CN01ZYPkME1q36jTVSRwz_!!3223155439.jpg']}]}"
      ]
     },
     "execution_count": 4,
     "metadata": {},
     "output_type": "execute_result"
    }
   ],
   "source": [
    "result"
   ]
  },
  {
   "cell_type": "code",
   "execution_count": 5,
   "metadata": {
    "ExecuteTime": {
     "end_time": "2020-06-13T11:38:41.864017Z",
     "start_time": "2020-06-13T11:38:30.951307Z"
    }
   },
   "outputs": [],
   "source": [
    "result2 = crawler.taobao_crawler(592628977735)"
   ]
  },
  {
   "cell_type": "code",
   "execution_count": 6,
   "metadata": {
    "ExecuteTime": {
     "end_time": "2020-06-13T11:38:43.657699Z",
     "start_time": "2020-06-13T11:38:43.652956Z"
    }
   },
   "outputs": [
    {
     "data": {
      "text/plain": [
       "{'item_id': 592628977735,\n",
       " 'promo_price': '할인 가격 없음',\n",
       " 'item_title': None,\n",
       " 'options': []}"
      ]
     },
     "execution_count": 6,
     "metadata": {},
     "output_type": "execute_result"
    }
   ],
   "source": [
    "result2"
   ]
  },
  {
   "cell_type": "code",
   "execution_count": 4,
   "metadata": {
    "ExecuteTime": {
     "end_time": "2020-06-13T09:46:38.217197Z",
     "start_time": "2020-06-13T09:46:38.214298Z"
    }
   },
   "outputs": [],
   "source": [
    "from selenium import webdriver\n",
    "from scrapy.http import TextResponse\n",
    "from fake_useragent import UserAgent\n",
    "\n",
    "import requests\n",
    "import pickle"
   ]
  },
  {
   "cell_type": "code",
   "execution_count": 11,
   "metadata": {
    "ExecuteTime": {
     "end_time": "2020-06-13T09:48:27.688214Z",
     "start_time": "2020-06-13T09:48:27.685701Z"
    }
   },
   "outputs": [],
   "source": [
    "itemid = 591606688117"
   ]
  },
  {
   "cell_type": "code",
   "execution_count": 12,
   "metadata": {
    "ExecuteTime": {
     "end_time": "2020-06-13T09:48:28.784890Z",
     "start_time": "2020-06-13T09:48:28.781330Z"
    }
   },
   "outputs": [
    {
     "data": {
      "text/plain": [
       "'https://item.taobao.com/item.htm?id=555738059543'"
      ]
     },
     "execution_count": 12,
     "metadata": {},
     "output_type": "execute_result"
    }
   ],
   "source": [
    "url"
   ]
  },
  {
   "cell_type": "code",
   "execution_count": 14,
   "metadata": {
    "ExecuteTime": {
     "end_time": "2020-06-13T09:48:45.074924Z",
     "start_time": "2020-06-13T09:48:44.814189Z"
    }
   },
   "outputs": [
    {
     "ename": "SSLError",
     "evalue": "HTTPSConnectionPool(host='item.taobao.com', port=443): Max retries exceeded with url: /item.htm?id=591606688117 (Caused by SSLError(SSLError(\"bad handshake: Error([('SSL routines', 'ssl3_read_bytes', 'tlsv1 alert internal error')])\")))",
     "output_type": "error",
     "traceback": [
      "\u001b[0;31m---------------------------------------------------------------------------\u001b[0m",
      "\u001b[0;31mError\u001b[0m                                     Traceback (most recent call last)",
      "\u001b[0;32m~/opt/anaconda3/envs/fastcampus/lib/python3.7/site-packages/urllib3/contrib/pyopenssl.py\u001b[0m in \u001b[0;36mwrap_socket\u001b[0;34m(self, sock, server_side, do_handshake_on_connect, suppress_ragged_eofs, server_hostname)\u001b[0m\n\u001b[1;32m    455\u001b[0m             \u001b[0;32mtry\u001b[0m\u001b[0;34m:\u001b[0m\u001b[0;34m\u001b[0m\u001b[0;34m\u001b[0m\u001b[0m\n\u001b[0;32m--> 456\u001b[0;31m                 \u001b[0mcnx\u001b[0m\u001b[0;34m.\u001b[0m\u001b[0mdo_handshake\u001b[0m\u001b[0;34m(\u001b[0m\u001b[0;34m)\u001b[0m\u001b[0;34m\u001b[0m\u001b[0;34m\u001b[0m\u001b[0m\n\u001b[0m\u001b[1;32m    457\u001b[0m             \u001b[0;32mexcept\u001b[0m \u001b[0mOpenSSL\u001b[0m\u001b[0;34m.\u001b[0m\u001b[0mSSL\u001b[0m\u001b[0;34m.\u001b[0m\u001b[0mWantReadError\u001b[0m\u001b[0;34m:\u001b[0m\u001b[0;34m\u001b[0m\u001b[0;34m\u001b[0m\u001b[0m\n",
      "\u001b[0;32m~/opt/anaconda3/envs/fastcampus/lib/python3.7/site-packages/OpenSSL/SSL.py\u001b[0m in \u001b[0;36mdo_handshake\u001b[0;34m(self)\u001b[0m\n\u001b[1;32m   1914\u001b[0m         \u001b[0mresult\u001b[0m \u001b[0;34m=\u001b[0m \u001b[0m_lib\u001b[0m\u001b[0;34m.\u001b[0m\u001b[0mSSL_do_handshake\u001b[0m\u001b[0;34m(\u001b[0m\u001b[0mself\u001b[0m\u001b[0;34m.\u001b[0m\u001b[0m_ssl\u001b[0m\u001b[0;34m)\u001b[0m\u001b[0;34m\u001b[0m\u001b[0;34m\u001b[0m\u001b[0m\n\u001b[0;32m-> 1915\u001b[0;31m         \u001b[0mself\u001b[0m\u001b[0;34m.\u001b[0m\u001b[0m_raise_ssl_error\u001b[0m\u001b[0;34m(\u001b[0m\u001b[0mself\u001b[0m\u001b[0;34m.\u001b[0m\u001b[0m_ssl\u001b[0m\u001b[0;34m,\u001b[0m \u001b[0mresult\u001b[0m\u001b[0;34m)\u001b[0m\u001b[0;34m\u001b[0m\u001b[0;34m\u001b[0m\u001b[0m\n\u001b[0m\u001b[1;32m   1916\u001b[0m \u001b[0;34m\u001b[0m\u001b[0m\n",
      "\u001b[0;32m~/opt/anaconda3/envs/fastcampus/lib/python3.7/site-packages/OpenSSL/SSL.py\u001b[0m in \u001b[0;36m_raise_ssl_error\u001b[0;34m(self, ssl, result)\u001b[0m\n\u001b[1;32m   1646\u001b[0m         \u001b[0;32melse\u001b[0m\u001b[0;34m:\u001b[0m\u001b[0;34m\u001b[0m\u001b[0;34m\u001b[0m\u001b[0m\n\u001b[0;32m-> 1647\u001b[0;31m             \u001b[0m_raise_current_error\u001b[0m\u001b[0;34m(\u001b[0m\u001b[0;34m)\u001b[0m\u001b[0;34m\u001b[0m\u001b[0;34m\u001b[0m\u001b[0m\n\u001b[0m\u001b[1;32m   1648\u001b[0m \u001b[0;34m\u001b[0m\u001b[0m\n",
      "\u001b[0;32m~/opt/anaconda3/envs/fastcampus/lib/python3.7/site-packages/OpenSSL/_util.py\u001b[0m in \u001b[0;36mexception_from_error_queue\u001b[0;34m(exception_type)\u001b[0m\n\u001b[1;32m     53\u001b[0m \u001b[0;34m\u001b[0m\u001b[0m\n\u001b[0;32m---> 54\u001b[0;31m     \u001b[0;32mraise\u001b[0m \u001b[0mexception_type\u001b[0m\u001b[0;34m(\u001b[0m\u001b[0merrors\u001b[0m\u001b[0;34m)\u001b[0m\u001b[0;34m\u001b[0m\u001b[0;34m\u001b[0m\u001b[0m\n\u001b[0m\u001b[1;32m     55\u001b[0m \u001b[0;34m\u001b[0m\u001b[0m\n",
      "\u001b[0;31mError\u001b[0m: [('SSL routines', 'ssl3_read_bytes', 'tlsv1 alert internal error')]",
      "\nDuring handling of the above exception, another exception occurred:\n",
      "\u001b[0;31mSSLError\u001b[0m                                  Traceback (most recent call last)",
      "\u001b[0;32m~/opt/anaconda3/envs/fastcampus/lib/python3.7/site-packages/urllib3/connectionpool.py\u001b[0m in \u001b[0;36murlopen\u001b[0;34m(self, method, url, body, headers, retries, redirect, assert_same_host, timeout, pool_timeout, release_conn, chunked, body_pos, **response_kw)\u001b[0m\n\u001b[1;32m    599\u001b[0m                                                   \u001b[0mbody\u001b[0m\u001b[0;34m=\u001b[0m\u001b[0mbody\u001b[0m\u001b[0;34m,\u001b[0m \u001b[0mheaders\u001b[0m\u001b[0;34m=\u001b[0m\u001b[0mheaders\u001b[0m\u001b[0;34m,\u001b[0m\u001b[0;34m\u001b[0m\u001b[0;34m\u001b[0m\u001b[0m\n\u001b[0;32m--> 600\u001b[0;31m                                                   chunked=chunked)\n\u001b[0m\u001b[1;32m    601\u001b[0m \u001b[0;34m\u001b[0m\u001b[0m\n",
      "\u001b[0;32m~/opt/anaconda3/envs/fastcampus/lib/python3.7/site-packages/urllib3/connectionpool.py\u001b[0m in \u001b[0;36m_make_request\u001b[0;34m(self, conn, method, url, timeout, chunked, **httplib_request_kw)\u001b[0m\n\u001b[1;32m    342\u001b[0m         \u001b[0;32mtry\u001b[0m\u001b[0;34m:\u001b[0m\u001b[0;34m\u001b[0m\u001b[0;34m\u001b[0m\u001b[0m\n\u001b[0;32m--> 343\u001b[0;31m             \u001b[0mself\u001b[0m\u001b[0;34m.\u001b[0m\u001b[0m_validate_conn\u001b[0m\u001b[0;34m(\u001b[0m\u001b[0mconn\u001b[0m\u001b[0;34m)\u001b[0m\u001b[0;34m\u001b[0m\u001b[0;34m\u001b[0m\u001b[0m\n\u001b[0m\u001b[1;32m    344\u001b[0m         \u001b[0;32mexcept\u001b[0m \u001b[0;34m(\u001b[0m\u001b[0mSocketTimeout\u001b[0m\u001b[0;34m,\u001b[0m \u001b[0mBaseSSLError\u001b[0m\u001b[0;34m)\u001b[0m \u001b[0;32mas\u001b[0m \u001b[0me\u001b[0m\u001b[0;34m:\u001b[0m\u001b[0;34m\u001b[0m\u001b[0;34m\u001b[0m\u001b[0m\n",
      "\u001b[0;32m~/opt/anaconda3/envs/fastcampus/lib/python3.7/site-packages/urllib3/connectionpool.py\u001b[0m in \u001b[0;36m_validate_conn\u001b[0;34m(self, conn)\u001b[0m\n\u001b[1;32m    838\u001b[0m         \u001b[0;32mif\u001b[0m \u001b[0;32mnot\u001b[0m \u001b[0mgetattr\u001b[0m\u001b[0;34m(\u001b[0m\u001b[0mconn\u001b[0m\u001b[0;34m,\u001b[0m \u001b[0;34m'sock'\u001b[0m\u001b[0;34m,\u001b[0m \u001b[0;32mNone\u001b[0m\u001b[0;34m)\u001b[0m\u001b[0;34m:\u001b[0m  \u001b[0;31m# AppEngine might not have  `.sock`\u001b[0m\u001b[0;34m\u001b[0m\u001b[0;34m\u001b[0m\u001b[0m\n\u001b[0;32m--> 839\u001b[0;31m             \u001b[0mconn\u001b[0m\u001b[0;34m.\u001b[0m\u001b[0mconnect\u001b[0m\u001b[0;34m(\u001b[0m\u001b[0;34m)\u001b[0m\u001b[0;34m\u001b[0m\u001b[0;34m\u001b[0m\u001b[0m\n\u001b[0m\u001b[1;32m    840\u001b[0m \u001b[0;34m\u001b[0m\u001b[0m\n",
      "\u001b[0;32m~/opt/anaconda3/envs/fastcampus/lib/python3.7/site-packages/urllib3/connection.py\u001b[0m in \u001b[0;36mconnect\u001b[0;34m(self)\u001b[0m\n\u001b[1;32m    343\u001b[0m             \u001b[0mserver_hostname\u001b[0m\u001b[0;34m=\u001b[0m\u001b[0mserver_hostname\u001b[0m\u001b[0;34m,\u001b[0m\u001b[0;34m\u001b[0m\u001b[0;34m\u001b[0m\u001b[0m\n\u001b[0;32m--> 344\u001b[0;31m             ssl_context=context)\n\u001b[0m\u001b[1;32m    345\u001b[0m \u001b[0;34m\u001b[0m\u001b[0m\n",
      "\u001b[0;32m~/opt/anaconda3/envs/fastcampus/lib/python3.7/site-packages/urllib3/util/ssl_.py\u001b[0m in \u001b[0;36mssl_wrap_socket\u001b[0;34m(sock, keyfile, certfile, cert_reqs, ca_certs, server_hostname, ssl_version, ciphers, ssl_context, ca_cert_dir)\u001b[0m\n\u001b[1;32m    346\u001b[0m         \u001b[0;32mif\u001b[0m \u001b[0mHAS_SNI\u001b[0m \u001b[0;32mand\u001b[0m \u001b[0mserver_hostname\u001b[0m \u001b[0;32mis\u001b[0m \u001b[0;32mnot\u001b[0m \u001b[0;32mNone\u001b[0m\u001b[0;34m:\u001b[0m\u001b[0;34m\u001b[0m\u001b[0;34m\u001b[0m\u001b[0m\n\u001b[0;32m--> 347\u001b[0;31m             \u001b[0;32mreturn\u001b[0m \u001b[0mcontext\u001b[0m\u001b[0;34m.\u001b[0m\u001b[0mwrap_socket\u001b[0m\u001b[0;34m(\u001b[0m\u001b[0msock\u001b[0m\u001b[0;34m,\u001b[0m \u001b[0mserver_hostname\u001b[0m\u001b[0;34m=\u001b[0m\u001b[0mserver_hostname\u001b[0m\u001b[0;34m)\u001b[0m\u001b[0;34m\u001b[0m\u001b[0;34m\u001b[0m\u001b[0m\n\u001b[0m\u001b[1;32m    348\u001b[0m \u001b[0;34m\u001b[0m\u001b[0m\n",
      "\u001b[0;32m~/opt/anaconda3/envs/fastcampus/lib/python3.7/site-packages/urllib3/contrib/pyopenssl.py\u001b[0m in \u001b[0;36mwrap_socket\u001b[0;34m(self, sock, server_side, do_handshake_on_connect, suppress_ragged_eofs, server_hostname)\u001b[0m\n\u001b[1;32m    461\u001b[0m             \u001b[0;32mexcept\u001b[0m \u001b[0mOpenSSL\u001b[0m\u001b[0;34m.\u001b[0m\u001b[0mSSL\u001b[0m\u001b[0;34m.\u001b[0m\u001b[0mError\u001b[0m \u001b[0;32mas\u001b[0m \u001b[0me\u001b[0m\u001b[0;34m:\u001b[0m\u001b[0;34m\u001b[0m\u001b[0;34m\u001b[0m\u001b[0m\n\u001b[0;32m--> 462\u001b[0;31m                 \u001b[0;32mraise\u001b[0m \u001b[0mssl\u001b[0m\u001b[0;34m.\u001b[0m\u001b[0mSSLError\u001b[0m\u001b[0;34m(\u001b[0m\u001b[0;34m'bad handshake: %r'\u001b[0m \u001b[0;34m%\u001b[0m \u001b[0me\u001b[0m\u001b[0;34m)\u001b[0m\u001b[0;34m\u001b[0m\u001b[0;34m\u001b[0m\u001b[0m\n\u001b[0m\u001b[1;32m    463\u001b[0m             \u001b[0;32mbreak\u001b[0m\u001b[0;34m\u001b[0m\u001b[0;34m\u001b[0m\u001b[0m\n",
      "\u001b[0;31mSSLError\u001b[0m: (\"bad handshake: Error([('SSL routines', 'ssl3_read_bytes', 'tlsv1 alert internal error')])\",)",
      "\nDuring handling of the above exception, another exception occurred:\n",
      "\u001b[0;31mMaxRetryError\u001b[0m                             Traceback (most recent call last)",
      "\u001b[0;32m~/opt/anaconda3/envs/fastcampus/lib/python3.7/site-packages/requests/adapters.py\u001b[0m in \u001b[0;36msend\u001b[0;34m(self, request, stream, timeout, verify, cert, proxies)\u001b[0m\n\u001b[1;32m    448\u001b[0m                     \u001b[0mretries\u001b[0m\u001b[0;34m=\u001b[0m\u001b[0mself\u001b[0m\u001b[0;34m.\u001b[0m\u001b[0mmax_retries\u001b[0m\u001b[0;34m,\u001b[0m\u001b[0;34m\u001b[0m\u001b[0;34m\u001b[0m\u001b[0m\n\u001b[0;32m--> 449\u001b[0;31m                     \u001b[0mtimeout\u001b[0m\u001b[0;34m=\u001b[0m\u001b[0mtimeout\u001b[0m\u001b[0;34m\u001b[0m\u001b[0;34m\u001b[0m\u001b[0m\n\u001b[0m\u001b[1;32m    450\u001b[0m                 )\n",
      "\u001b[0;32m~/opt/anaconda3/envs/fastcampus/lib/python3.7/site-packages/urllib3/connectionpool.py\u001b[0m in \u001b[0;36murlopen\u001b[0;34m(self, method, url, body, headers, retries, redirect, assert_same_host, timeout, pool_timeout, release_conn, chunked, body_pos, **response_kw)\u001b[0m\n\u001b[1;32m    637\u001b[0m             retries = retries.increment(method, url, error=e, _pool=self,\n\u001b[0;32m--> 638\u001b[0;31m                                         _stacktrace=sys.exc_info()[2])\n\u001b[0m\u001b[1;32m    639\u001b[0m             \u001b[0mretries\u001b[0m\u001b[0;34m.\u001b[0m\u001b[0msleep\u001b[0m\u001b[0;34m(\u001b[0m\u001b[0;34m)\u001b[0m\u001b[0;34m\u001b[0m\u001b[0;34m\u001b[0m\u001b[0m\n",
      "\u001b[0;32m~/opt/anaconda3/envs/fastcampus/lib/python3.7/site-packages/urllib3/util/retry.py\u001b[0m in \u001b[0;36mincrement\u001b[0;34m(self, method, url, response, error, _pool, _stacktrace)\u001b[0m\n\u001b[1;32m    398\u001b[0m         \u001b[0;32mif\u001b[0m \u001b[0mnew_retry\u001b[0m\u001b[0;34m.\u001b[0m\u001b[0mis_exhausted\u001b[0m\u001b[0;34m(\u001b[0m\u001b[0;34m)\u001b[0m\u001b[0;34m:\u001b[0m\u001b[0;34m\u001b[0m\u001b[0;34m\u001b[0m\u001b[0m\n\u001b[0;32m--> 399\u001b[0;31m             \u001b[0;32mraise\u001b[0m \u001b[0mMaxRetryError\u001b[0m\u001b[0;34m(\u001b[0m\u001b[0m_pool\u001b[0m\u001b[0;34m,\u001b[0m \u001b[0murl\u001b[0m\u001b[0;34m,\u001b[0m \u001b[0merror\u001b[0m \u001b[0;32mor\u001b[0m \u001b[0mResponseError\u001b[0m\u001b[0;34m(\u001b[0m\u001b[0mcause\u001b[0m\u001b[0;34m)\u001b[0m\u001b[0;34m)\u001b[0m\u001b[0;34m\u001b[0m\u001b[0;34m\u001b[0m\u001b[0m\n\u001b[0m\u001b[1;32m    400\u001b[0m \u001b[0;34m\u001b[0m\u001b[0m\n",
      "\u001b[0;31mMaxRetryError\u001b[0m: HTTPSConnectionPool(host='item.taobao.com', port=443): Max retries exceeded with url: /item.htm?id=591606688117 (Caused by SSLError(SSLError(\"bad handshake: Error([('SSL routines', 'ssl3_read_bytes', 'tlsv1 alert internal error')])\")))",
      "\nDuring handling of the above exception, another exception occurred:\n",
      "\u001b[0;31mSSLError\u001b[0m                                  Traceback (most recent call last)",
      "\u001b[0;32m<ipython-input-14-efecfcd84b10>\u001b[0m in \u001b[0;36m<module>\u001b[0;34m\u001b[0m\n\u001b[1;32m     12\u001b[0m \u001b[0;31m# requests.packages.urllib3.util.ssl_.DEFAULT_CIPHERS = 'DH+AESGCM:ECDH+AES256:DH+AES256:ECDH+AES128:DH+AES:ECDH+HIGH:DH+HIGH:ECDH+3DES:DH+3DES:RSA+AESGCM:RSA+AES:RSA+HIGH:RSA+3DES:!aNULL:!eNULL:!MD5'\u001b[0m\u001b[0;34m\u001b[0m\u001b[0;34m\u001b[0m\u001b[0;34m\u001b[0m\u001b[0m\n\u001b[1;32m     13\u001b[0m \u001b[0;34m\u001b[0m\u001b[0m\n\u001b[0;32m---> 14\u001b[0;31m \u001b[0mresponse\u001b[0m \u001b[0;34m=\u001b[0m \u001b[0mrequests\u001b[0m\u001b[0;34m.\u001b[0m\u001b[0mget\u001b[0m\u001b[0;34m(\u001b[0m\u001b[0murl\u001b[0m\u001b[0;34m=\u001b[0m\u001b[0murl\u001b[0m\u001b[0;34m,\u001b[0m \u001b[0mheaders\u001b[0m\u001b[0;34m=\u001b[0m\u001b[0mheaders\u001b[0m\u001b[0;34m)\u001b[0m\u001b[0;34m\u001b[0m\u001b[0;34m\u001b[0m\u001b[0m\n\u001b[0m\u001b[1;32m     15\u001b[0m \u001b[0mreq\u001b[0m \u001b[0;34m=\u001b[0m \u001b[0mTextResponse\u001b[0m\u001b[0;34m(\u001b[0m\u001b[0mresponse\u001b[0m\u001b[0;34m.\u001b[0m\u001b[0murl\u001b[0m\u001b[0;34m,\u001b[0m \u001b[0mbody\u001b[0m\u001b[0;34m=\u001b[0m\u001b[0mresponse\u001b[0m\u001b[0;34m.\u001b[0m\u001b[0mtext\u001b[0m\u001b[0;34m,\u001b[0m \u001b[0mencoding\u001b[0m\u001b[0;34m=\u001b[0m\u001b[0;34m\"utf-8\"\u001b[0m\u001b[0;34m)\u001b[0m\u001b[0;34m\u001b[0m\u001b[0;34m\u001b[0m\u001b[0m\n\u001b[1;32m     16\u001b[0m \u001b[0;34m\u001b[0m\u001b[0m\n",
      "\u001b[0;32m~/opt/anaconda3/envs/fastcampus/lib/python3.7/site-packages/requests/api.py\u001b[0m in \u001b[0;36mget\u001b[0;34m(url, params, **kwargs)\u001b[0m\n\u001b[1;32m     73\u001b[0m \u001b[0;34m\u001b[0m\u001b[0m\n\u001b[1;32m     74\u001b[0m     \u001b[0mkwargs\u001b[0m\u001b[0;34m.\u001b[0m\u001b[0msetdefault\u001b[0m\u001b[0;34m(\u001b[0m\u001b[0;34m'allow_redirects'\u001b[0m\u001b[0;34m,\u001b[0m \u001b[0;32mTrue\u001b[0m\u001b[0;34m)\u001b[0m\u001b[0;34m\u001b[0m\u001b[0;34m\u001b[0m\u001b[0m\n\u001b[0;32m---> 75\u001b[0;31m     \u001b[0;32mreturn\u001b[0m \u001b[0mrequest\u001b[0m\u001b[0;34m(\u001b[0m\u001b[0;34m'get'\u001b[0m\u001b[0;34m,\u001b[0m \u001b[0murl\u001b[0m\u001b[0;34m,\u001b[0m \u001b[0mparams\u001b[0m\u001b[0;34m=\u001b[0m\u001b[0mparams\u001b[0m\u001b[0;34m,\u001b[0m \u001b[0;34m**\u001b[0m\u001b[0mkwargs\u001b[0m\u001b[0;34m)\u001b[0m\u001b[0;34m\u001b[0m\u001b[0;34m\u001b[0m\u001b[0m\n\u001b[0m\u001b[1;32m     76\u001b[0m \u001b[0;34m\u001b[0m\u001b[0m\n\u001b[1;32m     77\u001b[0m \u001b[0;34m\u001b[0m\u001b[0m\n",
      "\u001b[0;32m~/opt/anaconda3/envs/fastcampus/lib/python3.7/site-packages/requests/api.py\u001b[0m in \u001b[0;36mrequest\u001b[0;34m(method, url, **kwargs)\u001b[0m\n\u001b[1;32m     58\u001b[0m     \u001b[0;31m# cases, and look like a memory leak in others.\u001b[0m\u001b[0;34m\u001b[0m\u001b[0;34m\u001b[0m\u001b[0;34m\u001b[0m\u001b[0m\n\u001b[1;32m     59\u001b[0m     \u001b[0;32mwith\u001b[0m \u001b[0msessions\u001b[0m\u001b[0;34m.\u001b[0m\u001b[0mSession\u001b[0m\u001b[0;34m(\u001b[0m\u001b[0;34m)\u001b[0m \u001b[0;32mas\u001b[0m \u001b[0msession\u001b[0m\u001b[0;34m:\u001b[0m\u001b[0;34m\u001b[0m\u001b[0;34m\u001b[0m\u001b[0m\n\u001b[0;32m---> 60\u001b[0;31m         \u001b[0;32mreturn\u001b[0m \u001b[0msession\u001b[0m\u001b[0;34m.\u001b[0m\u001b[0mrequest\u001b[0m\u001b[0;34m(\u001b[0m\u001b[0mmethod\u001b[0m\u001b[0;34m=\u001b[0m\u001b[0mmethod\u001b[0m\u001b[0;34m,\u001b[0m \u001b[0murl\u001b[0m\u001b[0;34m=\u001b[0m\u001b[0murl\u001b[0m\u001b[0;34m,\u001b[0m \u001b[0;34m**\u001b[0m\u001b[0mkwargs\u001b[0m\u001b[0;34m)\u001b[0m\u001b[0;34m\u001b[0m\u001b[0;34m\u001b[0m\u001b[0m\n\u001b[0m\u001b[1;32m     61\u001b[0m \u001b[0;34m\u001b[0m\u001b[0m\n\u001b[1;32m     62\u001b[0m \u001b[0;34m\u001b[0m\u001b[0m\n",
      "\u001b[0;32m~/opt/anaconda3/envs/fastcampus/lib/python3.7/site-packages/requests/sessions.py\u001b[0m in \u001b[0;36mrequest\u001b[0;34m(self, method, url, params, data, headers, cookies, files, auth, timeout, allow_redirects, proxies, hooks, stream, verify, cert, json)\u001b[0m\n\u001b[1;32m    531\u001b[0m         }\n\u001b[1;32m    532\u001b[0m         \u001b[0msend_kwargs\u001b[0m\u001b[0;34m.\u001b[0m\u001b[0mupdate\u001b[0m\u001b[0;34m(\u001b[0m\u001b[0msettings\u001b[0m\u001b[0;34m)\u001b[0m\u001b[0;34m\u001b[0m\u001b[0;34m\u001b[0m\u001b[0m\n\u001b[0;32m--> 533\u001b[0;31m         \u001b[0mresp\u001b[0m \u001b[0;34m=\u001b[0m \u001b[0mself\u001b[0m\u001b[0;34m.\u001b[0m\u001b[0msend\u001b[0m\u001b[0;34m(\u001b[0m\u001b[0mprep\u001b[0m\u001b[0;34m,\u001b[0m \u001b[0;34m**\u001b[0m\u001b[0msend_kwargs\u001b[0m\u001b[0;34m)\u001b[0m\u001b[0;34m\u001b[0m\u001b[0;34m\u001b[0m\u001b[0m\n\u001b[0m\u001b[1;32m    534\u001b[0m \u001b[0;34m\u001b[0m\u001b[0m\n\u001b[1;32m    535\u001b[0m         \u001b[0;32mreturn\u001b[0m \u001b[0mresp\u001b[0m\u001b[0;34m\u001b[0m\u001b[0;34m\u001b[0m\u001b[0m\n",
      "\u001b[0;32m~/opt/anaconda3/envs/fastcampus/lib/python3.7/site-packages/requests/sessions.py\u001b[0m in \u001b[0;36msend\u001b[0;34m(self, request, **kwargs)\u001b[0m\n\u001b[1;32m    644\u001b[0m \u001b[0;34m\u001b[0m\u001b[0m\n\u001b[1;32m    645\u001b[0m         \u001b[0;31m# Send the request\u001b[0m\u001b[0;34m\u001b[0m\u001b[0;34m\u001b[0m\u001b[0;34m\u001b[0m\u001b[0m\n\u001b[0;32m--> 646\u001b[0;31m         \u001b[0mr\u001b[0m \u001b[0;34m=\u001b[0m \u001b[0madapter\u001b[0m\u001b[0;34m.\u001b[0m\u001b[0msend\u001b[0m\u001b[0;34m(\u001b[0m\u001b[0mrequest\u001b[0m\u001b[0;34m,\u001b[0m \u001b[0;34m**\u001b[0m\u001b[0mkwargs\u001b[0m\u001b[0;34m)\u001b[0m\u001b[0;34m\u001b[0m\u001b[0;34m\u001b[0m\u001b[0m\n\u001b[0m\u001b[1;32m    647\u001b[0m \u001b[0;34m\u001b[0m\u001b[0m\n\u001b[1;32m    648\u001b[0m         \u001b[0;31m# Total elapsed time of the request (approximately)\u001b[0m\u001b[0;34m\u001b[0m\u001b[0;34m\u001b[0m\u001b[0;34m\u001b[0m\u001b[0m\n",
      "\u001b[0;32m~/opt/anaconda3/envs/fastcampus/lib/python3.7/site-packages/requests/adapters.py\u001b[0m in \u001b[0;36msend\u001b[0;34m(self, request, stream, timeout, verify, cert, proxies)\u001b[0m\n\u001b[1;32m    512\u001b[0m             \u001b[0;32mif\u001b[0m \u001b[0misinstance\u001b[0m\u001b[0;34m(\u001b[0m\u001b[0me\u001b[0m\u001b[0;34m.\u001b[0m\u001b[0mreason\u001b[0m\u001b[0;34m,\u001b[0m \u001b[0m_SSLError\u001b[0m\u001b[0;34m)\u001b[0m\u001b[0;34m:\u001b[0m\u001b[0;34m\u001b[0m\u001b[0;34m\u001b[0m\u001b[0m\n\u001b[1;32m    513\u001b[0m                 \u001b[0;31m# This branch is for urllib3 v1.22 and later.\u001b[0m\u001b[0;34m\u001b[0m\u001b[0;34m\u001b[0m\u001b[0;34m\u001b[0m\u001b[0m\n\u001b[0;32m--> 514\u001b[0;31m                 \u001b[0;32mraise\u001b[0m \u001b[0mSSLError\u001b[0m\u001b[0;34m(\u001b[0m\u001b[0me\u001b[0m\u001b[0;34m,\u001b[0m \u001b[0mrequest\u001b[0m\u001b[0;34m=\u001b[0m\u001b[0mrequest\u001b[0m\u001b[0;34m)\u001b[0m\u001b[0;34m\u001b[0m\u001b[0;34m\u001b[0m\u001b[0m\n\u001b[0m\u001b[1;32m    515\u001b[0m \u001b[0;34m\u001b[0m\u001b[0m\n\u001b[1;32m    516\u001b[0m             \u001b[0;32mraise\u001b[0m \u001b[0mConnectionError\u001b[0m\u001b[0;34m(\u001b[0m\u001b[0me\u001b[0m\u001b[0;34m,\u001b[0m \u001b[0mrequest\u001b[0m\u001b[0;34m=\u001b[0m\u001b[0mrequest\u001b[0m\u001b[0;34m)\u001b[0m\u001b[0;34m\u001b[0m\u001b[0;34m\u001b[0m\u001b[0m\n",
      "\u001b[0;31mSSLError\u001b[0m: HTTPSConnectionPool(host='item.taobao.com', port=443): Max retries exceeded with url: /item.htm?id=591606688117 (Caused by SSLError(SSLError(\"bad handshake: Error([('SSL routines', 'ssl3_read_bytes', 'tlsv1 alert internal error')])\")))"
     ]
    }
   ],
   "source": [
    "# Use 'requests' to get rest of information\n",
    "url = \"https://item.taobao.com/item.htm?id={}\".format(itemid)\n",
    "\n",
    "ua = UserAgent(verify_ssl=False)\n",
    "userAgent = ua.random\n",
    "\n",
    "headers = {\n",
    "    'User-Agent': userAgent\n",
    "}\n",
    "\n",
    "# https://stackoverflow.com/questions/32910093/python-requests-gets-tlsv1-alert-internal-err\n",
    "# requests.packages.urllib3.util.ssl_.DEFAULT_CIPHERS = 'DH+AESGCM:ECDH+AES256:DH+AES256:ECDH+AES128:DH+AES:ECDH+HIGH:DH+HIGH:ECDH+3DES:DH+3DES:RSA+AESGCM:RSA+AES:RSA+HIGH:RSA+3DES:!aNULL:!eNULL:!MD5'\n",
    "\n",
    "response = requests.get(url=url, headers=headers)\n",
    "req = TextResponse(response.url, body=response.text, encoding=\"utf-8\")\n",
    "\n",
    "result = {}\n",
    "# item_title\n",
    "result['item_title'] = req.xpath(\n",
    "    '//*[@id=\"J_DetailMeta\"]/div[@class=\"tm-clear\"]/div[@class=\"tb-property\"]/div/div[@class=\"tb-detail-hd\"]/h1/text()').extract_first().strip()\n",
    "\n",
    "# options\n",
    "option_path = req.xpath(\n",
    "    '//*[@id=\"J_DetailMeta\"]/div/div/div/div[@class=\"tb-key\"]/div[@class=\"tb-skin\"]/div[@class=\"tb-sku\"]/dl[contains(@class, \"tm-sale-prop\") and contains(@class, \"tb-prop\") and contains(@class, \"tm-clear\")]')\n",
    "option_ls = []\n",
    "for path in option_path:\n",
    "    option = {}\n",
    "    option['option_title'] = path.xpath('dt/text()').extract_first()\n",
    "    option['option_details'] = path.xpath('dd/ul/li/a/span/text()').extract()\n",
    "    image_elements = path.xpath('dd/ul[contains(@class, \"tb-img\")]/li/a')\n",
    "    option['option_image_urls'] = [element.xpath('@style').extract_first()[19:-40] for element in image_elements]\n",
    "    option_ls.append(option)\n",
    "    result['options'] = option_ls"
   ]
  },
  {
   "cell_type": "code",
   "execution_count": 3,
   "metadata": {
    "ExecuteTime": {
     "end_time": "2020-06-13T09:42:58.178491Z",
     "start_time": "2020-06-13T09:42:31.350035Z"
    }
   },
   "outputs": [
    {
     "name": "stdout",
     "output_type": "stream",
     "text": [
      "사이트 체크 완료\n"
     ]
    },
    {
     "ename": "TypeError",
     "evalue": "'NoneType' object is not subscriptable",
     "output_type": "error",
     "traceback": [
      "\u001b[0;31m---------------------------------------------------------------------------\u001b[0m",
      "\u001b[0;31mTypeError\u001b[0m                                 Traceback (most recent call last)",
      "\u001b[0;32m<ipython-input-3-0660158e47fa>\u001b[0m in \u001b[0;36m<module>\u001b[0;34m\u001b[0m\n\u001b[0;32m----> 1\u001b[0;31m \u001b[0mresult3\u001b[0m \u001b[0;34m=\u001b[0m \u001b[0mcrawler\u001b[0m\u001b[0;34m.\u001b[0m\u001b[0mproduct_crawler\u001b[0m\u001b[0;34m(\u001b[0m\u001b[0;36m591606688117\u001b[0m\u001b[0;34m)\u001b[0m\u001b[0;34m\u001b[0m\u001b[0;34m\u001b[0m\u001b[0m\n\u001b[0m",
      "\u001b[0;32m~/Desktop/taobao/taobao.py\u001b[0m in \u001b[0;36mproduct_crawler\u001b[0;34m(self, itemid)\u001b[0m\n\u001b[1;32m     37\u001b[0m \u001b[0;34m\u001b[0m\u001b[0m\n\u001b[1;32m     38\u001b[0m         \u001b[0;32mif\u001b[0m \u001b[0;34m\"tmall\"\u001b[0m \u001b[0;32min\u001b[0m \u001b[0mcurrent_url\u001b[0m\u001b[0;34m:\u001b[0m\u001b[0;34m\u001b[0m\u001b[0;34m\u001b[0m\u001b[0m\n\u001b[0;32m---> 39\u001b[0;31m             \u001b[0;32mreturn\u001b[0m \u001b[0mself\u001b[0m\u001b[0;34m.\u001b[0m\u001b[0mtmall_crawler\u001b[0m\u001b[0;34m(\u001b[0m\u001b[0mitemid\u001b[0m\u001b[0;34m)\u001b[0m\u001b[0;34m\u001b[0m\u001b[0;34m\u001b[0m\u001b[0m\n\u001b[0m\u001b[1;32m     40\u001b[0m         \u001b[0;32melse\u001b[0m\u001b[0;34m:\u001b[0m\u001b[0;34m\u001b[0m\u001b[0;34m\u001b[0m\u001b[0m\n\u001b[1;32m     41\u001b[0m             \u001b[0;32mreturn\u001b[0m \u001b[0mself\u001b[0m\u001b[0;34m.\u001b[0m\u001b[0mtaobao_crawler\u001b[0m\u001b[0;34m(\u001b[0m\u001b[0mitemid\u001b[0m\u001b[0;34m)\u001b[0m\u001b[0;34m\u001b[0m\u001b[0;34m\u001b[0m\u001b[0m\n",
      "\u001b[0;32m~/Desktop/taobao/taobao.py\u001b[0m in \u001b[0;36mtmall_crawler\u001b[0;34m(self, itemid)\u001b[0m\n\u001b[1;32m    112\u001b[0m             \u001b[0moption\u001b[0m\u001b[0;34m[\u001b[0m\u001b[0;34m'option_details'\u001b[0m\u001b[0;34m]\u001b[0m \u001b[0;34m=\u001b[0m \u001b[0mpath\u001b[0m\u001b[0;34m.\u001b[0m\u001b[0mxpath\u001b[0m\u001b[0;34m(\u001b[0m\u001b[0;34m'dd/ul/li/a/span/text()'\u001b[0m\u001b[0;34m)\u001b[0m\u001b[0;34m.\u001b[0m\u001b[0mextract\u001b[0m\u001b[0;34m(\u001b[0m\u001b[0;34m)\u001b[0m\u001b[0;34m\u001b[0m\u001b[0;34m\u001b[0m\u001b[0m\n\u001b[1;32m    113\u001b[0m             \u001b[0mimage_elements\u001b[0m \u001b[0;34m=\u001b[0m \u001b[0mpath\u001b[0m\u001b[0;34m.\u001b[0m\u001b[0mxpath\u001b[0m\u001b[0;34m(\u001b[0m\u001b[0;34m'dd/ul[contains(@class, \"tb-img\")]/li/a'\u001b[0m\u001b[0;34m)\u001b[0m\u001b[0;34m\u001b[0m\u001b[0;34m\u001b[0m\u001b[0m\n\u001b[0;32m--> 114\u001b[0;31m             \u001b[0moption\u001b[0m\u001b[0;34m[\u001b[0m\u001b[0;34m'option_image_urls'\u001b[0m\u001b[0;34m]\u001b[0m \u001b[0;34m=\u001b[0m \u001b[0;34m[\u001b[0m\u001b[0melement\u001b[0m\u001b[0;34m.\u001b[0m\u001b[0mxpath\u001b[0m\u001b[0;34m(\u001b[0m\u001b[0;34m'@style'\u001b[0m\u001b[0;34m)\u001b[0m\u001b[0;34m.\u001b[0m\u001b[0mextract_first\u001b[0m\u001b[0;34m(\u001b[0m\u001b[0;34m)\u001b[0m\u001b[0;34m[\u001b[0m\u001b[0;36m19\u001b[0m\u001b[0;34m:\u001b[0m\u001b[0;34m-\u001b[0m\u001b[0;36m40\u001b[0m\u001b[0;34m]\u001b[0m \u001b[0;32mfor\u001b[0m \u001b[0melement\u001b[0m \u001b[0;32min\u001b[0m \u001b[0mimage_elements\u001b[0m\u001b[0;34m]\u001b[0m\u001b[0;34m\u001b[0m\u001b[0;34m\u001b[0m\u001b[0m\n\u001b[0m\u001b[1;32m    115\u001b[0m             \u001b[0moption_ls\u001b[0m\u001b[0;34m.\u001b[0m\u001b[0mappend\u001b[0m\u001b[0;34m(\u001b[0m\u001b[0moption\u001b[0m\u001b[0;34m)\u001b[0m\u001b[0;34m\u001b[0m\u001b[0;34m\u001b[0m\u001b[0m\n\u001b[1;32m    116\u001b[0m             \u001b[0mresult\u001b[0m\u001b[0;34m[\u001b[0m\u001b[0;34m'options'\u001b[0m\u001b[0;34m]\u001b[0m \u001b[0;34m=\u001b[0m \u001b[0moption_ls\u001b[0m\u001b[0;34m\u001b[0m\u001b[0;34m\u001b[0m\u001b[0m\n",
      "\u001b[0;32m~/Desktop/taobao/taobao.py\u001b[0m in \u001b[0;36m<listcomp>\u001b[0;34m(.0)\u001b[0m\n\u001b[1;32m    112\u001b[0m             \u001b[0moption\u001b[0m\u001b[0;34m[\u001b[0m\u001b[0;34m'option_details'\u001b[0m\u001b[0;34m]\u001b[0m \u001b[0;34m=\u001b[0m \u001b[0mpath\u001b[0m\u001b[0;34m.\u001b[0m\u001b[0mxpath\u001b[0m\u001b[0;34m(\u001b[0m\u001b[0;34m'dd/ul/li/a/span/text()'\u001b[0m\u001b[0;34m)\u001b[0m\u001b[0;34m.\u001b[0m\u001b[0mextract\u001b[0m\u001b[0;34m(\u001b[0m\u001b[0;34m)\u001b[0m\u001b[0;34m\u001b[0m\u001b[0;34m\u001b[0m\u001b[0m\n\u001b[1;32m    113\u001b[0m             \u001b[0mimage_elements\u001b[0m \u001b[0;34m=\u001b[0m \u001b[0mpath\u001b[0m\u001b[0;34m.\u001b[0m\u001b[0mxpath\u001b[0m\u001b[0;34m(\u001b[0m\u001b[0;34m'dd/ul[contains(@class, \"tb-img\")]/li/a'\u001b[0m\u001b[0;34m)\u001b[0m\u001b[0;34m\u001b[0m\u001b[0;34m\u001b[0m\u001b[0m\n\u001b[0;32m--> 114\u001b[0;31m             \u001b[0moption\u001b[0m\u001b[0;34m[\u001b[0m\u001b[0;34m'option_image_urls'\u001b[0m\u001b[0;34m]\u001b[0m \u001b[0;34m=\u001b[0m \u001b[0;34m[\u001b[0m\u001b[0melement\u001b[0m\u001b[0;34m.\u001b[0m\u001b[0mxpath\u001b[0m\u001b[0;34m(\u001b[0m\u001b[0;34m'@style'\u001b[0m\u001b[0;34m)\u001b[0m\u001b[0;34m.\u001b[0m\u001b[0mextract_first\u001b[0m\u001b[0;34m(\u001b[0m\u001b[0;34m)\u001b[0m\u001b[0;34m[\u001b[0m\u001b[0;36m19\u001b[0m\u001b[0;34m:\u001b[0m\u001b[0;34m-\u001b[0m\u001b[0;36m40\u001b[0m\u001b[0;34m]\u001b[0m \u001b[0;32mfor\u001b[0m \u001b[0melement\u001b[0m \u001b[0;32min\u001b[0m \u001b[0mimage_elements\u001b[0m\u001b[0;34m]\u001b[0m\u001b[0;34m\u001b[0m\u001b[0;34m\u001b[0m\u001b[0m\n\u001b[0m\u001b[1;32m    115\u001b[0m             \u001b[0moption_ls\u001b[0m\u001b[0;34m.\u001b[0m\u001b[0mappend\u001b[0m\u001b[0;34m(\u001b[0m\u001b[0moption\u001b[0m\u001b[0;34m)\u001b[0m\u001b[0;34m\u001b[0m\u001b[0;34m\u001b[0m\u001b[0m\n\u001b[1;32m    116\u001b[0m             \u001b[0mresult\u001b[0m\u001b[0;34m[\u001b[0m\u001b[0;34m'options'\u001b[0m\u001b[0;34m]\u001b[0m \u001b[0;34m=\u001b[0m \u001b[0moption_ls\u001b[0m\u001b[0;34m\u001b[0m\u001b[0;34m\u001b[0m\u001b[0m\n",
      "\u001b[0;31mTypeError\u001b[0m: 'NoneType' object is not subscriptable"
     ]
    }
   ],
   "source": [
    "result3 = crawler.product_crawler(591606688117)"
   ]
  },
  {
   "cell_type": "code",
   "execution_count": 5,
   "metadata": {
    "ExecuteTime": {
     "end_time": "2020-06-13T09:23:47.332717Z",
     "start_time": "2020-06-13T09:23:47.327436Z"
    }
   },
   "outputs": [
    {
     "data": {
      "text/plain": [
       "{'item_id': 555738059543,\n",
       " 'promo_price': '99.00',\n",
       " 'item_title': '九城原创手拿包男包帆布手机包大容量男士复古手拎小包防水手抓包',\n",
       " 'options': [{'option_title': '颜色分类',\n",
       "   'option_details': ['深蓝色', '湖绿色'],\n",
       "   'option_image_urls': ['gd1.alicdn.com/imgextra/i3/3223155439/TB25AchXP7jyKJjy1XaXXblnFXa_!!3223155439.jpg',\n",
       "    'gd3.alicdn.com/imgextra/i4/3223155439/O1CN01ZYPkME1q36jTVSRwz_!!3223155439.jpg']}]}"
      ]
     },
     "execution_count": 5,
     "metadata": {},
     "output_type": "execute_result"
    }
   ],
   "source": [
    "result"
   ]
  },
  {
   "cell_type": "code",
   "execution_count": 9,
   "metadata": {
    "ExecuteTime": {
     "end_time": "2020-06-13T09:24:32.112551Z",
     "start_time": "2020-06-13T09:24:32.108574Z"
    }
   },
   "outputs": [
    {
     "data": {
      "text/plain": [
       "{'item_id': 555738059543,\n",
       " 'promo_price': '99.00',\n",
       " 'item_title': '九城原创手拿包男包帆布手机包大容量男士复古手拎小包防水手抓包',\n",
       " 'options': [{'option_title': '颜色分类',\n",
       "   'option_details': ['深蓝色', '湖绿色'],\n",
       "   'option_image_urls': ['gd1.alicdn.com/imgextra/i3/3223155439/TB25AchXP7jyKJjy1XaXXblnFXa_!!3223155439.jpg',\n",
       "    'gd3.alicdn.com/imgextra/i4/3223155439/O1CN01ZYPkME1q36jTVSRwz_!!3223155439.jpg']}]}"
      ]
     },
     "execution_count": 9,
     "metadata": {},
     "output_type": "execute_result"
    }
   ],
   "source": [
    "result2"
   ]
  },
  {
   "cell_type": "code",
   "execution_count": null,
   "metadata": {},
   "outputs": [],
   "source": []
  },
  {
   "cell_type": "markdown",
   "metadata": {},
   "source": [
    "# 로그인창 입력"
   ]
  },
  {
   "cell_type": "code",
   "execution_count": 364,
   "metadata": {
    "ExecuteTime": {
     "end_time": "2020-06-14T12:49:56.774590Z",
     "start_time": "2020-06-14T12:49:48.986587Z"
    }
   },
   "outputs": [],
   "source": [
    "from selenium import webdriver\n",
    "driver = webdriver.Chrome('./chromedriver')\n",
    "driver.get(\"https://detail.tmall.com/item.htm?id=540619456825\")\n",
    "try:\n",
    "    alert = driver.switch_to.alert\n",
    "    alert.accept()\n",
    "except:\n",
    "    time.sleep(1)"
   ]
  },
  {
   "cell_type": "code",
   "execution_count": 5,
   "metadata": {
    "ExecuteTime": {
     "end_time": "2020-06-14T13:56:07.092016Z",
     "start_time": "2020-06-14T13:55:58.736855Z"
    }
   },
   "outputs": [],
   "source": [
    "from selenium import webdriver\n",
    "driver = webdriver.Chrome('./chromedriver')\n",
    "driver.get(\"https://item.taobao.com/item.htm?id=586855541639\")\n",
    "try:\n",
    "    alert = driver.switch_to.alert\n",
    "    alert.accept()\n",
    "except:\n",
    "    time.sleep(1)"
   ]
  },
  {
   "cell_type": "code",
   "execution_count": 6,
   "metadata": {
    "ExecuteTime": {
     "end_time": "2020-06-14T13:56:19.139398Z",
     "start_time": "2020-06-14T13:56:07.094482Z"
    }
   },
   "outputs": [
    {
     "ename": "NoSuchWindowException",
     "evalue": "Message: no such window: window was already closed\n  (Session info: chrome=83.0.4103.97)\n",
     "output_type": "error",
     "traceback": [
      "\u001b[0;31m---------------------------------------------------------------------------\u001b[0m",
      "\u001b[0;31mNoSuchWindowException\u001b[0m                     Traceback (most recent call last)",
      "\u001b[0;32m<ipython-input-6-dbce05606b5a>\u001b[0m in \u001b[0;36m<module>\u001b[0;34m\u001b[0m\n\u001b[1;32m     38\u001b[0m     element = WebDriverWait(driver, 10).until(\n\u001b[0;32m---> 39\u001b[0;31m         \u001b[0mEC\u001b[0m\u001b[0;34m.\u001b[0m\u001b[0mpresence_of_element_located\u001b[0m\u001b[0;34m(\u001b[0m\u001b[0;34m(\u001b[0m\u001b[0mBy\u001b[0m\u001b[0;34m.\u001b[0m\u001b[0mID\u001b[0m\u001b[0;34m,\u001b[0m \u001b[0;34m\"J_PromoPriceNum\"\u001b[0m\u001b[0;34m)\u001b[0m\u001b[0;34m)\u001b[0m\u001b[0;34m\u001b[0m\u001b[0;34m\u001b[0m\u001b[0m\n\u001b[0m\u001b[1;32m     40\u001b[0m     )\n",
      "\u001b[0;32m~/opt/anaconda3/envs/fastcampus/lib/python3.7/site-packages/selenium/webdriver/support/wait.py\u001b[0m in \u001b[0;36muntil\u001b[0;34m(self, method, message)\u001b[0m\n\u001b[1;32m     70\u001b[0m             \u001b[0;32mtry\u001b[0m\u001b[0;34m:\u001b[0m\u001b[0;34m\u001b[0m\u001b[0;34m\u001b[0m\u001b[0m\n\u001b[0;32m---> 71\u001b[0;31m                 \u001b[0mvalue\u001b[0m \u001b[0;34m=\u001b[0m \u001b[0mmethod\u001b[0m\u001b[0;34m(\u001b[0m\u001b[0mself\u001b[0m\u001b[0;34m.\u001b[0m\u001b[0m_driver\u001b[0m\u001b[0;34m)\u001b[0m\u001b[0;34m\u001b[0m\u001b[0;34m\u001b[0m\u001b[0m\n\u001b[0m\u001b[1;32m     72\u001b[0m                 \u001b[0;32mif\u001b[0m \u001b[0mvalue\u001b[0m\u001b[0;34m:\u001b[0m\u001b[0;34m\u001b[0m\u001b[0;34m\u001b[0m\u001b[0m\n",
      "\u001b[0;32m~/opt/anaconda3/envs/fastcampus/lib/python3.7/site-packages/selenium/webdriver/support/expected_conditions.py\u001b[0m in \u001b[0;36m__call__\u001b[0;34m(self, driver)\u001b[0m\n\u001b[1;32m     63\u001b[0m     \u001b[0;32mdef\u001b[0m \u001b[0m__call__\u001b[0m\u001b[0;34m(\u001b[0m\u001b[0mself\u001b[0m\u001b[0;34m,\u001b[0m \u001b[0mdriver\u001b[0m\u001b[0;34m)\u001b[0m\u001b[0;34m:\u001b[0m\u001b[0;34m\u001b[0m\u001b[0;34m\u001b[0m\u001b[0m\n\u001b[0;32m---> 64\u001b[0;31m         \u001b[0;32mreturn\u001b[0m \u001b[0m_find_element\u001b[0m\u001b[0;34m(\u001b[0m\u001b[0mdriver\u001b[0m\u001b[0;34m,\u001b[0m \u001b[0mself\u001b[0m\u001b[0;34m.\u001b[0m\u001b[0mlocator\u001b[0m\u001b[0;34m)\u001b[0m\u001b[0;34m\u001b[0m\u001b[0;34m\u001b[0m\u001b[0m\n\u001b[0m\u001b[1;32m     65\u001b[0m \u001b[0;34m\u001b[0m\u001b[0m\n",
      "\u001b[0;32m~/opt/anaconda3/envs/fastcampus/lib/python3.7/site-packages/selenium/webdriver/support/expected_conditions.py\u001b[0m in \u001b[0;36m_find_element\u001b[0;34m(driver, by)\u001b[0m\n\u001b[1;32m    414\u001b[0m     \u001b[0;32mexcept\u001b[0m \u001b[0mWebDriverException\u001b[0m \u001b[0;32mas\u001b[0m \u001b[0me\u001b[0m\u001b[0;34m:\u001b[0m\u001b[0;34m\u001b[0m\u001b[0;34m\u001b[0m\u001b[0m\n\u001b[0;32m--> 415\u001b[0;31m         \u001b[0;32mraise\u001b[0m \u001b[0me\u001b[0m\u001b[0;34m\u001b[0m\u001b[0;34m\u001b[0m\u001b[0m\n\u001b[0m\u001b[1;32m    416\u001b[0m \u001b[0;34m\u001b[0m\u001b[0m\n",
      "\u001b[0;32m~/opt/anaconda3/envs/fastcampus/lib/python3.7/site-packages/selenium/webdriver/support/expected_conditions.py\u001b[0m in \u001b[0;36m_find_element\u001b[0;34m(driver, by)\u001b[0m\n\u001b[1;32m    410\u001b[0m     \u001b[0;32mtry\u001b[0m\u001b[0;34m:\u001b[0m\u001b[0;34m\u001b[0m\u001b[0;34m\u001b[0m\u001b[0m\n\u001b[0;32m--> 411\u001b[0;31m         \u001b[0;32mreturn\u001b[0m \u001b[0mdriver\u001b[0m\u001b[0;34m.\u001b[0m\u001b[0mfind_element\u001b[0m\u001b[0;34m(\u001b[0m\u001b[0;34m*\u001b[0m\u001b[0mby\u001b[0m\u001b[0;34m)\u001b[0m\u001b[0;34m\u001b[0m\u001b[0;34m\u001b[0m\u001b[0m\n\u001b[0m\u001b[1;32m    412\u001b[0m     \u001b[0;32mexcept\u001b[0m \u001b[0mNoSuchElementException\u001b[0m \u001b[0;32mas\u001b[0m \u001b[0me\u001b[0m\u001b[0;34m:\u001b[0m\u001b[0;34m\u001b[0m\u001b[0;34m\u001b[0m\u001b[0m\n",
      "\u001b[0;32m~/opt/anaconda3/envs/fastcampus/lib/python3.7/site-packages/selenium/webdriver/remote/webdriver.py\u001b[0m in \u001b[0;36mfind_element\u001b[0;34m(self, by, value)\u001b[0m\n\u001b[1;32m    977\u001b[0m             \u001b[0;34m'using'\u001b[0m\u001b[0;34m:\u001b[0m \u001b[0mby\u001b[0m\u001b[0;34m,\u001b[0m\u001b[0;34m\u001b[0m\u001b[0;34m\u001b[0m\u001b[0m\n\u001b[0;32m--> 978\u001b[0;31m             'value': value})['value']\n\u001b[0m\u001b[1;32m    979\u001b[0m \u001b[0;34m\u001b[0m\u001b[0m\n",
      "\u001b[0;32m~/opt/anaconda3/envs/fastcampus/lib/python3.7/site-packages/selenium/webdriver/remote/webdriver.py\u001b[0m in \u001b[0;36mexecute\u001b[0;34m(self, driver_command, params)\u001b[0m\n\u001b[1;32m    320\u001b[0m         \u001b[0;32mif\u001b[0m \u001b[0mresponse\u001b[0m\u001b[0;34m:\u001b[0m\u001b[0;34m\u001b[0m\u001b[0;34m\u001b[0m\u001b[0m\n\u001b[0;32m--> 321\u001b[0;31m             \u001b[0mself\u001b[0m\u001b[0;34m.\u001b[0m\u001b[0merror_handler\u001b[0m\u001b[0;34m.\u001b[0m\u001b[0mcheck_response\u001b[0m\u001b[0;34m(\u001b[0m\u001b[0mresponse\u001b[0m\u001b[0;34m)\u001b[0m\u001b[0;34m\u001b[0m\u001b[0;34m\u001b[0m\u001b[0m\n\u001b[0m\u001b[1;32m    322\u001b[0m             response['value'] = self._unwrap_value(\n",
      "\u001b[0;32m~/opt/anaconda3/envs/fastcampus/lib/python3.7/site-packages/selenium/webdriver/remote/errorhandler.py\u001b[0m in \u001b[0;36mcheck_response\u001b[0;34m(self, response)\u001b[0m\n\u001b[1;32m    241\u001b[0m             \u001b[0;32mraise\u001b[0m \u001b[0mexception_class\u001b[0m\u001b[0;34m(\u001b[0m\u001b[0mmessage\u001b[0m\u001b[0;34m,\u001b[0m \u001b[0mscreen\u001b[0m\u001b[0;34m,\u001b[0m \u001b[0mstacktrace\u001b[0m\u001b[0;34m,\u001b[0m \u001b[0malert_text\u001b[0m\u001b[0;34m)\u001b[0m\u001b[0;34m\u001b[0m\u001b[0;34m\u001b[0m\u001b[0m\n\u001b[0;32m--> 242\u001b[0;31m         \u001b[0;32mraise\u001b[0m \u001b[0mexception_class\u001b[0m\u001b[0;34m(\u001b[0m\u001b[0mmessage\u001b[0m\u001b[0;34m,\u001b[0m \u001b[0mscreen\u001b[0m\u001b[0;34m,\u001b[0m \u001b[0mstacktrace\u001b[0m\u001b[0;34m)\u001b[0m\u001b[0;34m\u001b[0m\u001b[0;34m\u001b[0m\u001b[0m\n\u001b[0m\u001b[1;32m    243\u001b[0m \u001b[0;34m\u001b[0m\u001b[0m\n",
      "\u001b[0;31mNoSuchWindowException\u001b[0m: Message: no such window: window was already closed\n  (Session info: chrome=83.0.4103.97)\n",
      "\nDuring handling of the above exception, another exception occurred:\n",
      "\u001b[0;31mNoSuchWindowException\u001b[0m                     Traceback (most recent call last)",
      "\u001b[0;32m<ipython-input-6-dbce05606b5a>\u001b[0m in \u001b[0;36m<module>\u001b[0;34m\u001b[0m\n\u001b[1;32m     42\u001b[0m \u001b[0;32mfinally\u001b[0m\u001b[0;34m:\u001b[0m\u001b[0;34m\u001b[0m\u001b[0;34m\u001b[0m\u001b[0m\n\u001b[1;32m     43\u001b[0m     \u001b[0mresult\u001b[0m \u001b[0;34m=\u001b[0m \u001b[0;34m{\u001b[0m\u001b[0;34m}\u001b[0m\u001b[0;34m\u001b[0m\u001b[0;34m\u001b[0m\u001b[0m\n\u001b[0;32m---> 44\u001b[0;31m     \u001b[0mresult\u001b[0m\u001b[0;34m[\u001b[0m\u001b[0;34m'title'\u001b[0m\u001b[0;34m]\u001b[0m \u001b[0;34m=\u001b[0m \u001b[0mdriver\u001b[0m\u001b[0;34m.\u001b[0m\u001b[0mfind_element_by_xpath\u001b[0m\u001b[0;34m(\u001b[0m\u001b[0;34m'//*[@id=\"J_Title\"]/h3'\u001b[0m\u001b[0;34m)\u001b[0m\u001b[0;34m.\u001b[0m\u001b[0mtext\u001b[0m\u001b[0;34m\u001b[0m\u001b[0;34m\u001b[0m\u001b[0m\n\u001b[0m\u001b[1;32m     45\u001b[0m     \u001b[0mresult\u001b[0m\u001b[0;34m[\u001b[0m\u001b[0;34m'promo_price'\u001b[0m\u001b[0;34m]\u001b[0m \u001b[0;34m=\u001b[0m  \u001b[0;34m\"¥\"\u001b[0m \u001b[0;34m+\u001b[0m \u001b[0mdriver\u001b[0m\u001b[0;34m.\u001b[0m\u001b[0mfind_element_by_xpath\u001b[0m\u001b[0;34m(\u001b[0m\u001b[0;34m'//*[@id=\"J_PromoPriceNum\"]'\u001b[0m\u001b[0;34m)\u001b[0m\u001b[0;34m.\u001b[0m\u001b[0mtext\u001b[0m\u001b[0;34m\u001b[0m\u001b[0;34m\u001b[0m\u001b[0m\n\u001b[1;32m     46\u001b[0m     \u001b[0mresult\u001b[0m\u001b[0;34m[\u001b[0m\u001b[0;34m'og_price'\u001b[0m\u001b[0;34m]\u001b[0m \u001b[0;34m=\u001b[0m \u001b[0mdriver\u001b[0m\u001b[0;34m.\u001b[0m\u001b[0mfind_element_by_xpath\u001b[0m\u001b[0;34m(\u001b[0m\u001b[0;34m'//*[@id=\"J_StrPrice\"]'\u001b[0m\u001b[0;34m)\u001b[0m\u001b[0;34m.\u001b[0m\u001b[0mtext\u001b[0m\u001b[0;34m\u001b[0m\u001b[0;34m\u001b[0m\u001b[0m\n",
      "\u001b[0;32m~/opt/anaconda3/envs/fastcampus/lib/python3.7/site-packages/selenium/webdriver/remote/webdriver.py\u001b[0m in \u001b[0;36mfind_element_by_xpath\u001b[0;34m(self, xpath)\u001b[0m\n\u001b[1;32m    392\u001b[0m             \u001b[0melement\u001b[0m \u001b[0;34m=\u001b[0m \u001b[0mdriver\u001b[0m\u001b[0;34m.\u001b[0m\u001b[0mfind_element_by_xpath\u001b[0m\u001b[0;34m(\u001b[0m\u001b[0;34m'//div/td[1]'\u001b[0m\u001b[0;34m)\u001b[0m\u001b[0;34m\u001b[0m\u001b[0;34m\u001b[0m\u001b[0m\n\u001b[1;32m    393\u001b[0m         \"\"\"\n\u001b[0;32m--> 394\u001b[0;31m         \u001b[0;32mreturn\u001b[0m \u001b[0mself\u001b[0m\u001b[0;34m.\u001b[0m\u001b[0mfind_element\u001b[0m\u001b[0;34m(\u001b[0m\u001b[0mby\u001b[0m\u001b[0;34m=\u001b[0m\u001b[0mBy\u001b[0m\u001b[0;34m.\u001b[0m\u001b[0mXPATH\u001b[0m\u001b[0;34m,\u001b[0m \u001b[0mvalue\u001b[0m\u001b[0;34m=\u001b[0m\u001b[0mxpath\u001b[0m\u001b[0;34m)\u001b[0m\u001b[0;34m\u001b[0m\u001b[0;34m\u001b[0m\u001b[0m\n\u001b[0m\u001b[1;32m    395\u001b[0m \u001b[0;34m\u001b[0m\u001b[0m\n\u001b[1;32m    396\u001b[0m     \u001b[0;32mdef\u001b[0m \u001b[0mfind_elements_by_xpath\u001b[0m\u001b[0;34m(\u001b[0m\u001b[0mself\u001b[0m\u001b[0;34m,\u001b[0m \u001b[0mxpath\u001b[0m\u001b[0;34m)\u001b[0m\u001b[0;34m:\u001b[0m\u001b[0;34m\u001b[0m\u001b[0;34m\u001b[0m\u001b[0m\n",
      "\u001b[0;32m~/opt/anaconda3/envs/fastcampus/lib/python3.7/site-packages/selenium/webdriver/remote/webdriver.py\u001b[0m in \u001b[0;36mfind_element\u001b[0;34m(self, by, value)\u001b[0m\n\u001b[1;32m    976\u001b[0m         return self.execute(Command.FIND_ELEMENT, {\n\u001b[1;32m    977\u001b[0m             \u001b[0;34m'using'\u001b[0m\u001b[0;34m:\u001b[0m \u001b[0mby\u001b[0m\u001b[0;34m,\u001b[0m\u001b[0;34m\u001b[0m\u001b[0;34m\u001b[0m\u001b[0m\n\u001b[0;32m--> 978\u001b[0;31m             'value': value})['value']\n\u001b[0m\u001b[1;32m    979\u001b[0m \u001b[0;34m\u001b[0m\u001b[0m\n\u001b[1;32m    980\u001b[0m     \u001b[0;32mdef\u001b[0m \u001b[0mfind_elements\u001b[0m\u001b[0;34m(\u001b[0m\u001b[0mself\u001b[0m\u001b[0;34m,\u001b[0m \u001b[0mby\u001b[0m\u001b[0;34m=\u001b[0m\u001b[0mBy\u001b[0m\u001b[0;34m.\u001b[0m\u001b[0mID\u001b[0m\u001b[0;34m,\u001b[0m \u001b[0mvalue\u001b[0m\u001b[0;34m=\u001b[0m\u001b[0;32mNone\u001b[0m\u001b[0;34m)\u001b[0m\u001b[0;34m:\u001b[0m\u001b[0;34m\u001b[0m\u001b[0;34m\u001b[0m\u001b[0m\n",
      "\u001b[0;32m~/opt/anaconda3/envs/fastcampus/lib/python3.7/site-packages/selenium/webdriver/remote/webdriver.py\u001b[0m in \u001b[0;36mexecute\u001b[0;34m(self, driver_command, params)\u001b[0m\n\u001b[1;32m    319\u001b[0m         \u001b[0mresponse\u001b[0m \u001b[0;34m=\u001b[0m \u001b[0mself\u001b[0m\u001b[0;34m.\u001b[0m\u001b[0mcommand_executor\u001b[0m\u001b[0;34m.\u001b[0m\u001b[0mexecute\u001b[0m\u001b[0;34m(\u001b[0m\u001b[0mdriver_command\u001b[0m\u001b[0;34m,\u001b[0m \u001b[0mparams\u001b[0m\u001b[0;34m)\u001b[0m\u001b[0;34m\u001b[0m\u001b[0;34m\u001b[0m\u001b[0m\n\u001b[1;32m    320\u001b[0m         \u001b[0;32mif\u001b[0m \u001b[0mresponse\u001b[0m\u001b[0;34m:\u001b[0m\u001b[0;34m\u001b[0m\u001b[0;34m\u001b[0m\u001b[0m\n\u001b[0;32m--> 321\u001b[0;31m             \u001b[0mself\u001b[0m\u001b[0;34m.\u001b[0m\u001b[0merror_handler\u001b[0m\u001b[0;34m.\u001b[0m\u001b[0mcheck_response\u001b[0m\u001b[0;34m(\u001b[0m\u001b[0mresponse\u001b[0m\u001b[0;34m)\u001b[0m\u001b[0;34m\u001b[0m\u001b[0;34m\u001b[0m\u001b[0m\n\u001b[0m\u001b[1;32m    322\u001b[0m             response['value'] = self._unwrap_value(\n\u001b[1;32m    323\u001b[0m                 response.get('value', None))\n",
      "\u001b[0;32m~/opt/anaconda3/envs/fastcampus/lib/python3.7/site-packages/selenium/webdriver/remote/errorhandler.py\u001b[0m in \u001b[0;36mcheck_response\u001b[0;34m(self, response)\u001b[0m\n\u001b[1;32m    240\u001b[0m                 \u001b[0malert_text\u001b[0m \u001b[0;34m=\u001b[0m \u001b[0mvalue\u001b[0m\u001b[0;34m[\u001b[0m\u001b[0;34m'alert'\u001b[0m\u001b[0;34m]\u001b[0m\u001b[0;34m.\u001b[0m\u001b[0mget\u001b[0m\u001b[0;34m(\u001b[0m\u001b[0;34m'text'\u001b[0m\u001b[0;34m)\u001b[0m\u001b[0;34m\u001b[0m\u001b[0;34m\u001b[0m\u001b[0m\n\u001b[1;32m    241\u001b[0m             \u001b[0;32mraise\u001b[0m \u001b[0mexception_class\u001b[0m\u001b[0;34m(\u001b[0m\u001b[0mmessage\u001b[0m\u001b[0;34m,\u001b[0m \u001b[0mscreen\u001b[0m\u001b[0;34m,\u001b[0m \u001b[0mstacktrace\u001b[0m\u001b[0;34m,\u001b[0m \u001b[0malert_text\u001b[0m\u001b[0;34m)\u001b[0m\u001b[0;34m\u001b[0m\u001b[0;34m\u001b[0m\u001b[0m\n\u001b[0;32m--> 242\u001b[0;31m         \u001b[0;32mraise\u001b[0m \u001b[0mexception_class\u001b[0m\u001b[0;34m(\u001b[0m\u001b[0mmessage\u001b[0m\u001b[0;34m,\u001b[0m \u001b[0mscreen\u001b[0m\u001b[0;34m,\u001b[0m \u001b[0mstacktrace\u001b[0m\u001b[0;34m)\u001b[0m\u001b[0;34m\u001b[0m\u001b[0;34m\u001b[0m\u001b[0m\n\u001b[0m\u001b[1;32m    243\u001b[0m \u001b[0;34m\u001b[0m\u001b[0m\n\u001b[1;32m    244\u001b[0m     \u001b[0;32mdef\u001b[0m \u001b[0m_value_or_default\u001b[0m\u001b[0;34m(\u001b[0m\u001b[0mself\u001b[0m\u001b[0;34m,\u001b[0m \u001b[0mobj\u001b[0m\u001b[0;34m,\u001b[0m \u001b[0mkey\u001b[0m\u001b[0;34m,\u001b[0m \u001b[0mdefault\u001b[0m\u001b[0;34m)\u001b[0m\u001b[0;34m:\u001b[0m\u001b[0;34m\u001b[0m\u001b[0;34m\u001b[0m\u001b[0m\n",
      "\u001b[0;31mNoSuchWindowException\u001b[0m: Message: no such window: window was already closed\n  (Session info: chrome=83.0.4103.97)\n"
     ]
    }
   ],
   "source": [
    "from selenium import webdriver\n",
    "from selenium.webdriver.common.by import By\n",
    "from selenium.webdriver.support.ui import WebDriverWait\n",
    "from selenium.webdriver.support import expected_conditions as EC\n",
    "\n",
    "driver = webdriver.Chrome('./chromedriver')\n",
    "driver.get(\"https://item.taobao.com/item.htm?id=586855541639\")\n",
    "try:\n",
    "    alert = driver.switch_to.alert\n",
    "    alert.accept()\n",
    "except:\n",
    "    time.sleep(1)\n",
    "\n",
    "driver.switch_to_frame(\"sufei-dialog-content\")  \n",
    "id_box = driver.find_element_by_id('fm-login-id')\n",
    "pw_box = driver.find_element_by_id('fm-login-password')\n",
    "swipe_btn = driver.find_element_by_id('nc_1_n1z')\n",
    "\n",
    "webdriver.ActionChains(driver).send_keys_to_element(id_box, 'yoohowon90').send_keys_to_element(pw_box,'ghdnjs77').perform()\n",
    "time.sleep(1)\n",
    "\n",
    "try:\n",
    "    element = WebDriverWait(driver, 10).until(\n",
    "        EC.presence_of_element_located((By.ID, \"nc_1_n1z\"))\n",
    "    )\n",
    "\n",
    "finally:\n",
    "    webdriver.ActionChains(driver).click_and_hold(swipe_btn).move_to_element_with_offset(swipe_btn, 300,10).release().perform()\n",
    "time.sleep(1)\n",
    "\n",
    "login_btn = driver.find_element_by_class_name('fm-btn').find_element_by_tag_name('button')\n",
    "webdriver.ActionChains(driver).click(login_btn).perform()\n",
    "\n",
    "\n",
    "driver.switch_to.default_content()\n",
    "\n",
    "try:\n",
    "    element = WebDriverWait(driver, 10).until(\n",
    "        EC.presence_of_element_located((By.ID, \"J_PromoPriceNum\"))\n",
    "    )\n",
    "\n",
    "finally:\n",
    "    result = {}\n",
    "    result['title'] = driver.find_element_by_xpath('//*[@id=\"J_Title\"]/h3').text\n",
    "    result['promo_price'] =  \"¥\" + driver.find_element_by_xpath('//*[@id=\"J_PromoPriceNum\"]').text\n",
    "    result['og_price'] = driver.find_element_by_xpath('//*[@id=\"J_StrPrice\"]').text\n",
    "    "
   ]
  },
  {
   "cell_type": "code",
   "execution_count": 371,
   "metadata": {
    "ExecuteTime": {
     "end_time": "2020-06-14T12:52:49.963832Z",
     "start_time": "2020-06-14T12:52:49.959619Z"
    }
   },
   "outputs": [
    {
     "data": {
      "text/plain": [
       "{'title': '唐麦 T3耳机 入耳式 苹果安卓华为小米通用手机K歌有线耳塞式耳麦',\n",
       " 'promo_price': '¥99.00-117.00',\n",
       " 'og_price': '¥109.00-129.00'}"
      ]
     },
     "execution_count": 371,
     "metadata": {},
     "output_type": "execute_result"
    }
   ],
   "source": [
    "result"
   ]
  },
  {
   "cell_type": "code",
   "execution_count": null,
   "metadata": {},
   "outputs": [],
   "source": []
  },
  {
   "cell_type": "code",
   "execution_count": null,
   "metadata": {},
   "outputs": [],
   "source": []
  },
  {
   "cell_type": "code",
   "execution_count": null,
   "metadata": {},
   "outputs": [],
   "source": []
  },
  {
   "cell_type": "code",
   "execution_count": null,
   "metadata": {},
   "outputs": [],
   "source": []
  },
  {
   "cell_type": "code",
   "execution_count": null,
   "metadata": {},
   "outputs": [],
   "source": []
  },
  {
   "cell_type": "code",
   "execution_count": null,
   "metadata": {},
   "outputs": [],
   "source": []
  },
  {
   "cell_type": "code",
   "execution_count": 361,
   "metadata": {
    "ExecuteTime": {
     "end_time": "2020-06-14T12:48:54.771673Z",
     "start_time": "2020-06-14T12:48:53.415208Z"
    }
   },
   "outputs": [],
   "source": [
    "# Use 'requests' to get rest of information\n",
    "\n",
    "from fake_useragent import UserAgent\n",
    "from scrapy.http import TextResponse\n",
    "\n",
    "ua = UserAgent(verify_ssl=False)\n",
    "userAgent = ua.random\n",
    "\n",
    "headers = {\n",
    "    'User-Agent': userAgent\n",
    "}\n",
    "\n",
    "url = \"https://item.taobao.com/item.htm?id=556560954603\"\n",
    "\n",
    "# https://stackoverflow.com/questions/32910093/python-requests-gets-tlsv1-alert-internal-err\n",
    "requests.packages.urllib3.util.ssl_.DEFAULT_CIPHERS = 'DH+AESGCM:ECDH+AES256:DH+AES256:ECDH+AES128:DH+AES:ECDH+HIGH:DH+HIGH:ECDH+3DES:DH+3DES:RSA+AESGCM:RSA+AES:RSA+HIGH:RSA+3DES:!aNULL:!eNULL:!MD5'\n",
    "\n",
    "response = requests.get(url=url, headers=headers)\n",
    "req = TextResponse(response.url, body=response.text, encoding=\"utf-8\")\n",
    "\n",
    "option_title = req.xpath(\n",
    "    '//*[@id=\"J_isku\"]/div/dl/dd/ul/@data-property').extract()\n",
    "r = []\n",
    "for title in option_title:\n",
    "    j = {}\n",
    "    j['option_title'] = title\n",
    "    j['option_details'] = req.xpath(\n",
    "        '//*[@id=\"J_isku\"]/div/dl/dd/ul[@data-property=\"{}\"]/li/a/span/text()'.format(title)).extract()\n",
    "    j['option_image_urls'] = [path[17:-29] for path in req.xpath(\n",
    "        '//*[@id=\"J_isku\"]/div/dl/dd/ul[@data-property=\"{}\"]/li/a/@style'.format(title)).extract()]\n",
    "    r.append(j)\n",
    "\n",
    "result['options'] = r"
   ]
  },
  {
   "cell_type": "code",
   "execution_count": 362,
   "metadata": {
    "ExecuteTime": {
     "end_time": "2020-06-14T12:48:57.917935Z",
     "start_time": "2020-06-14T12:48:57.913240Z"
    }
   },
   "outputs": [
    {
     "data": {
      "text/plain": [
       "{'og_price': '¥78.00',\n",
       " 'promo_price': '¥39.99',\n",
       " 'title': '真皮女单鞋洞洞鞋舒适防滑豆豆鞋护士鞋懒人大码鞋34-44码清仓43',\n",
       " 'options': [{'option_title': '尺码',\n",
       "   'option_details': ['34',\n",
       "    '35',\n",
       "    '36',\n",
       "    '37',\n",
       "    '38',\n",
       "    '39',\n",
       "    '40',\n",
       "    '41',\n",
       "    '42',\n",
       "    '43',\n",
       "    '44'],\n",
       "   'option_image_urls': []},\n",
       "  {'option_title': '颜色分类',\n",
       "   'option_details': ['白色',\n",
       "    '黑色',\n",
       "    '米白色',\n",
       "    '浅蓝色',\n",
       "    '西瓜红',\n",
       "    '酒红色',\n",
       "    '桔色',\n",
       "    '深蓝色',\n",
       "    '月色',\n",
       "    '咖啡色',\n",
       "    '土黄',\n",
       "    '军绿色',\n",
       "    '红色',\n",
       "    '卡其色',\n",
       "    '金色',\n",
       "    '银色',\n",
       "    '深棕色',\n",
       "    '浅绿色',\n",
       "    '粉红色',\n",
       "    '绿色',\n",
       "    '白色-1',\n",
       "    '黄色-1',\n",
       "    '红色-1',\n",
       "    '绿色-1',\n",
       "    '黑色-1',\n",
       "    '粉色-1',\n",
       "    '苹果绿-1',\n",
       "    '咖啡色-1',\n",
       "    '酒红色-1',\n",
       "    '月色-1',\n",
       "    '浅蓝色-1',\n",
       "    '卡其色-1',\n",
       "    '桔色-1',\n",
       "    '桃红色-1',\n",
       "    '米色-1',\n",
       "    '深蓝色-1'],\n",
       "   'option_image_urls': ['gd3.alicdn.com/imgextra/i2/324494186/TB2JRT6XcSfF1JjSspbXXcSkVXa_!!324494186.jpg',\n",
       "    'gd3.alicdn.com/imgextra/i3/324494186/TB2fgDxXgL8F1JjSszbXXbguVXa_!!324494186.png',\n",
       "    'gd1.alicdn.com/imgextra/i3/324494186/TB22UYxXbH8F1JjSspfXXarnXXa_!!324494186.jpg',\n",
       "    'gd4.alicdn.com/imgextra/i1/324494186/TB27c_7XdifF1Jjy0FdXXX3dpXa_!!324494186.jpg',\n",
       "    'gd4.alicdn.com/imgextra/i1/324494186/TB2kvT5XdmgF1Jjy0FaXXX5jpXa_!!324494186.jpg',\n",
       "    'gd2.alicdn.com/imgextra/i1/324494186/TB2.T6xXg28F1Jjy0FfXXa6sFXa_!!324494186.jpg',\n",
       "    'gd2.alicdn.com/imgextra/i2/324494186/TB206v5XiafF1Jjy1zcXXcu5XXa_!!324494186.jpg',\n",
       "    'gd3.alicdn.com/imgextra/i2/324494186/TB2L545XyafF1Jjy1zcXXcu5XXa_!!324494186.jpg',\n",
       "    'gd4.alicdn.com/imgextra/i3/324494186/TB2Wxv3XwIEF1JjSZFHXXbRVXXa_!!324494186.png',\n",
       "    'gd1.alicdn.com/imgextra/i2/324494186/TB22nP7XjmfF1JjSspcXXXZMXXa_!!324494186.png',\n",
       "    'gd1.alicdn.com/imgextra/i4/324494186/TB2zOB7XEyfF1Jjy0FbXXXSupXa_!!324494186.jpg',\n",
       "    'gd4.alicdn.com/imgextra/i1/324494186/TB27965XdmgF1Jjy0FaXXX5jpXa_!!324494186.png',\n",
       "    'gd3.alicdn.com/imgextra/i3/324494186/TB2KMzzXmf8F1Jjy0FeXXallpXa_!!324494186.png',\n",
       "    'gd1.alicdn.com/imgextra/i3/324494186/TB2GTP6XdmgF1Jjy1XaXXcSEFXa_!!324494186.png',\n",
       "    'gd2.alicdn.com/imgextra/i1/324494186/TB2JGomXyj_F1JjSZFCXXc5eFXa_!!324494186.jpg',\n",
       "    'gd2.alicdn.com/imgextra/i4/324494186/TB2MNzMXC.EF1JjSZPcXXaxaFXa_!!324494186.jpg',\n",
       "    'gd3.alicdn.com/imgextra/i1/324494186/TB251UzXAz_F1JjSZFkXXcCaXXa_!!324494186.png',\n",
       "    'gd1.alicdn.com/imgextra/i3/324494186/TB2oSvyXbH8F1JjSspiXXbiKpXa_!!324494186.jpg',\n",
       "    'gd4.alicdn.com/imgextra/i4/324494186/TB2EQH6XdqgF1JjSsziXXXL.XXa_!!324494186.png',\n",
       "    'gd3.alicdn.com/imgextra/i2/324494186/TB2n6dxXrH8F1JjSszfXXXPmXXa_!!324494186.jpg',\n",
       "    'gd2.alicdn.com/imgextra/i3/324494186/TB2Sx7_cfMTUeJjSZFKXXagopXa_!!324494186.jpg',\n",
       "    'gd2.alicdn.com/imgextra/i2/324494186/TB2TRVfkzoIL1JjSZFyXXbFBpXa_!!324494186.jpg',\n",
       "    'gd3.alicdn.com/imgextra/i3/324494186/TB2yjJpkBcHL1JjSZFBXXaiGXXa_!!324494186.jpg',\n",
       "    'gd1.alicdn.com/imgextra/i3/324494186/TB2JeU.cfMTUeJjSZFKXXagopXa_!!324494186.jpg',\n",
       "    'gd2.alicdn.com/imgextra/i3/324494186/TB2wSgfb1KAUKJjSZFzXXXdQFXa_!!324494186.jpg',\n",
       "    'gd4.alicdn.com/imgextra/i4/324494186/TB2OzK7c.1HTKJjSZFmXXXeYFXa_!!324494186.jpg',\n",
       "    'gd4.alicdn.com/imgextra/i3/324494186/TB2rKl5X3CYW1JjSZFCXXcxLVXa_!!324494186.jpg',\n",
       "    'gd2.alicdn.com/imgextra/i1/324494186/TB25MrhbI2vU1JjSZFwXXX2cpXa_!!324494186.jpg',\n",
       "    'gd3.alicdn.com/imgextra/i4/324494186/TB2DVdqkBcHL1JjSZFBXXaiGXXa_!!324494186.jpg',\n",
       "    'gd2.alicdn.com/imgextra/i4/324494186/TB2v_gfb1KAUKJjSZFzXXXdQFXa_!!324494186.jpg',\n",
       "    'gd1.alicdn.com/imgextra/i1/324494186/TB2fTwfb1KAUKJjSZFzXXXdQFXa_!!324494186.jpg',\n",
       "    'gd4.alicdn.com/imgextra/i3/324494186/TB2LwHhbI2vU1JjSZFwXXX2cpXa_!!324494186.jpg',\n",
       "    'gd4.alicdn.com/imgextra/i3/324494186/TB2ajNikyAKL1JjSZFoXXagCFXa_!!324494186.jpg',\n",
       "    'gd4.alicdn.com/imgextra/i2/324494186/TB2.bjgd4OMSKJjSZFlXXXqQFXa_!!324494186.jpg',\n",
       "    'gd2.alicdn.com/imgextra/i1/324494186/TB2IvJCcG_ST1JjSZFqXXcQxFXa_!!324494186.jpg',\n",
       "    'gd3.alicdn.com/imgextra/i4/324494186/TB28WECjO0TMKJjSZFNXXa_1FXa_!!324494186.jpg']}]}"
      ]
     },
     "execution_count": 362,
     "metadata": {},
     "output_type": "execute_result"
    }
   ],
   "source": [
    "result"
   ]
  },
  {
   "cell_type": "code",
   "execution_count": null,
   "metadata": {},
   "outputs": [],
   "source": []
  },
  {
   "cell_type": "code",
   "execution_count": null,
   "metadata": {},
   "outputs": [],
   "source": [
    "//*[@id=\"J_isku\"]/div/dl[2]/dd/ul/li[1]/a/span"
   ]
  },
  {
   "cell_type": "code",
   "execution_count": 358,
   "metadata": {
    "ExecuteTime": {
     "end_time": "2020-06-14T12:46:21.153216Z",
     "start_time": "2020-06-14T12:46:21.058254Z"
    }
   },
   "outputs": [
    {
     "data": {
      "text/plain": [
       "'尺码\\n34\\n35\\n36\\n37\\n38\\n39\\n40\\n41\\n42\\n43\\n44\\n› 尺码助手\\n颜色分类\\n数量\\nƛ\\nƚ\\n件\\n(库存371333件)\\n立即购买\\nŭ加入购物车'"
      ]
     },
     "execution_count": 358,
     "metadata": {},
     "output_type": "execute_result"
    }
   ],
   "source": [
    "driver.find_elements_by_css_selector('#J_isku')[0].text"
   ]
  },
  {
   "cell_type": "code",
   "execution_count": null,
   "metadata": {},
   "outputs": [],
   "source": []
  },
  {
   "cell_type": "code",
   "execution_count": 301,
   "metadata": {
    "ExecuteTime": {
     "end_time": "2020-06-14T12:37:28.554088Z",
     "start_time": "2020-06-14T12:37:27.920487Z"
    }
   },
   "outputs": [],
   "source": [
    "option_titles = driver.find_elements_by_xpath('//*[@id=\"J_isku\"]/div/dl/dd/ul')\n",
    "r = []\n",
    "import re\n",
    "for title in option_titles:\n",
    "    d = {}\n",
    "    d['option_title'] = title.get_attribute('data-property')\n",
    "    d['option_details'] = [option_detail.text for option_detail in title.find_elements_by_xpath('li')]\n",
    "    d['option_img_url'] = [title.find_elements_by_xpath('li/a')]\n",
    "    r.append(d)"
   ]
  },
  {
   "cell_type": "code",
   "execution_count": 302,
   "metadata": {
    "ExecuteTime": {
     "end_time": "2020-06-14T12:37:28.566342Z",
     "start_time": "2020-06-14T12:37:28.557474Z"
    }
   },
   "outputs": [
    {
     "data": {
      "text/plain": [
       "[{'option_title': '尺码',\n",
       "  'option_details': ['34',\n",
       "   '35',\n",
       "   '36',\n",
       "   '37',\n",
       "   '38',\n",
       "   '39',\n",
       "   '40',\n",
       "   '41',\n",
       "   '42',\n",
       "   '43',\n",
       "   '44'],\n",
       "  'option_img_url': [[<selenium.webdriver.remote.webelement.WebElement (session=\"54e407b6c3fa8581a857b63c827cb7c9\", element=\"43a7509e-aa8c-4396-b56b-888dd79600c9\")>,\n",
       "    <selenium.webdriver.remote.webelement.WebElement (session=\"54e407b6c3fa8581a857b63c827cb7c9\", element=\"445d92a6-e885-4b23-9608-0940873e0e8d\")>,\n",
       "    <selenium.webdriver.remote.webelement.WebElement (session=\"54e407b6c3fa8581a857b63c827cb7c9\", element=\"27f36215-2f22-4f67-82ac-dc42eacde4b2\")>,\n",
       "    <selenium.webdriver.remote.webelement.WebElement (session=\"54e407b6c3fa8581a857b63c827cb7c9\", element=\"8259b5aa-4b73-43e0-8ea2-94d1bd3c3da3\")>,\n",
       "    <selenium.webdriver.remote.webelement.WebElement (session=\"54e407b6c3fa8581a857b63c827cb7c9\", element=\"1e2cbb2e-ecc9-43aa-8a06-5a3aa3bb6e9c\")>,\n",
       "    <selenium.webdriver.remote.webelement.WebElement (session=\"54e407b6c3fa8581a857b63c827cb7c9\", element=\"01220991-77de-4ecd-aaf6-42dae637ae4a\")>,\n",
       "    <selenium.webdriver.remote.webelement.WebElement (session=\"54e407b6c3fa8581a857b63c827cb7c9\", element=\"36e555ce-9123-4343-a473-cfae901a1ed9\")>,\n",
       "    <selenium.webdriver.remote.webelement.WebElement (session=\"54e407b6c3fa8581a857b63c827cb7c9\", element=\"8e215bd0-7dbf-47ce-bbda-2250a55c340d\")>,\n",
       "    <selenium.webdriver.remote.webelement.WebElement (session=\"54e407b6c3fa8581a857b63c827cb7c9\", element=\"62ed75b9-220d-4a76-bd94-e419e16c9926\")>,\n",
       "    <selenium.webdriver.remote.webelement.WebElement (session=\"54e407b6c3fa8581a857b63c827cb7c9\", element=\"78966421-1b15-42d3-a8d6-9568d7b54b05\")>,\n",
       "    <selenium.webdriver.remote.webelement.WebElement (session=\"54e407b6c3fa8581a857b63c827cb7c9\", element=\"bb1cc10a-2689-4323-85da-b05085ae48a4\")>]]},\n",
       " {'option_title': '颜色分类',\n",
       "  'option_details': ['',\n",
       "   '',\n",
       "   '',\n",
       "   '',\n",
       "   '',\n",
       "   '',\n",
       "   '',\n",
       "   '',\n",
       "   '',\n",
       "   '',\n",
       "   '',\n",
       "   '',\n",
       "   '',\n",
       "   '',\n",
       "   '',\n",
       "   '',\n",
       "   '',\n",
       "   '',\n",
       "   '',\n",
       "   '',\n",
       "   '',\n",
       "   '',\n",
       "   '',\n",
       "   '',\n",
       "   '',\n",
       "   '',\n",
       "   '',\n",
       "   '',\n",
       "   '',\n",
       "   '',\n",
       "   '',\n",
       "   '',\n",
       "   '',\n",
       "   '',\n",
       "   '',\n",
       "   ''],\n",
       "  'option_img_url': [[<selenium.webdriver.remote.webelement.WebElement (session=\"54e407b6c3fa8581a857b63c827cb7c9\", element=\"c3b5b824-893b-4dd9-83ea-d27f210d5d47\")>,\n",
       "    <selenium.webdriver.remote.webelement.WebElement (session=\"54e407b6c3fa8581a857b63c827cb7c9\", element=\"d2e1ec63-cd0e-4e52-89b7-d2a72aa63702\")>,\n",
       "    <selenium.webdriver.remote.webelement.WebElement (session=\"54e407b6c3fa8581a857b63c827cb7c9\", element=\"0145442f-811d-4673-9c04-47135ed03a5e\")>,\n",
       "    <selenium.webdriver.remote.webelement.WebElement (session=\"54e407b6c3fa8581a857b63c827cb7c9\", element=\"d341f77f-a4b0-4858-9bf4-ca491204f969\")>,\n",
       "    <selenium.webdriver.remote.webelement.WebElement (session=\"54e407b6c3fa8581a857b63c827cb7c9\", element=\"02dbef09-311c-4cd3-b1ba-e792c131d4c3\")>,\n",
       "    <selenium.webdriver.remote.webelement.WebElement (session=\"54e407b6c3fa8581a857b63c827cb7c9\", element=\"20544835-0bdc-448d-9501-8ef0f8d7478d\")>,\n",
       "    <selenium.webdriver.remote.webelement.WebElement (session=\"54e407b6c3fa8581a857b63c827cb7c9\", element=\"bb201506-5dec-4b5c-a3cc-188ffbfa1e57\")>,\n",
       "    <selenium.webdriver.remote.webelement.WebElement (session=\"54e407b6c3fa8581a857b63c827cb7c9\", element=\"944d2cd6-81dc-4687-ae1e-ea1188dc0033\")>,\n",
       "    <selenium.webdriver.remote.webelement.WebElement (session=\"54e407b6c3fa8581a857b63c827cb7c9\", element=\"ffe35fc4-1067-40e0-94a0-833b3e8891e8\")>,\n",
       "    <selenium.webdriver.remote.webelement.WebElement (session=\"54e407b6c3fa8581a857b63c827cb7c9\", element=\"64d4c1d4-7ef3-4573-9ae3-4aee08a2a03e\")>,\n",
       "    <selenium.webdriver.remote.webelement.WebElement (session=\"54e407b6c3fa8581a857b63c827cb7c9\", element=\"80a33d70-220e-4a05-a4fa-a5955e111029\")>,\n",
       "    <selenium.webdriver.remote.webelement.WebElement (session=\"54e407b6c3fa8581a857b63c827cb7c9\", element=\"32b4830a-385a-449d-bdd5-add363635d8a\")>,\n",
       "    <selenium.webdriver.remote.webelement.WebElement (session=\"54e407b6c3fa8581a857b63c827cb7c9\", element=\"42febbef-373c-4009-b389-6d0ac8f05d14\")>,\n",
       "    <selenium.webdriver.remote.webelement.WebElement (session=\"54e407b6c3fa8581a857b63c827cb7c9\", element=\"c73e767a-bdf3-4ab7-b8cd-c746b722fed9\")>,\n",
       "    <selenium.webdriver.remote.webelement.WebElement (session=\"54e407b6c3fa8581a857b63c827cb7c9\", element=\"2d673e3f-d955-469d-844b-892768fbaf43\")>,\n",
       "    <selenium.webdriver.remote.webelement.WebElement (session=\"54e407b6c3fa8581a857b63c827cb7c9\", element=\"7f60689f-7470-4233-98a3-b441373789cf\")>,\n",
       "    <selenium.webdriver.remote.webelement.WebElement (session=\"54e407b6c3fa8581a857b63c827cb7c9\", element=\"e6c2052c-9e6b-4a06-9309-1b546127f6d7\")>,\n",
       "    <selenium.webdriver.remote.webelement.WebElement (session=\"54e407b6c3fa8581a857b63c827cb7c9\", element=\"b379e477-3d7a-4f4d-8cf5-e227f006343c\")>,\n",
       "    <selenium.webdriver.remote.webelement.WebElement (session=\"54e407b6c3fa8581a857b63c827cb7c9\", element=\"92984dba-1723-4d35-8a81-a76b92e11fb9\")>,\n",
       "    <selenium.webdriver.remote.webelement.WebElement (session=\"54e407b6c3fa8581a857b63c827cb7c9\", element=\"a2c03106-7146-4f58-85f7-793e8c114383\")>,\n",
       "    <selenium.webdriver.remote.webelement.WebElement (session=\"54e407b6c3fa8581a857b63c827cb7c9\", element=\"0346afd0-ff0f-4e67-a28e-0265e5967f40\")>,\n",
       "    <selenium.webdriver.remote.webelement.WebElement (session=\"54e407b6c3fa8581a857b63c827cb7c9\", element=\"5485719c-10c6-4ac4-9151-0fc4e804905f\")>,\n",
       "    <selenium.webdriver.remote.webelement.WebElement (session=\"54e407b6c3fa8581a857b63c827cb7c9\", element=\"eb3767ee-b848-4894-aab6-b4887feeb3bf\")>,\n",
       "    <selenium.webdriver.remote.webelement.WebElement (session=\"54e407b6c3fa8581a857b63c827cb7c9\", element=\"ddf5caae-be58-476b-a266-d6d701021473\")>,\n",
       "    <selenium.webdriver.remote.webelement.WebElement (session=\"54e407b6c3fa8581a857b63c827cb7c9\", element=\"bdf1bfd0-2589-4dc9-9913-2d0d569e8df2\")>,\n",
       "    <selenium.webdriver.remote.webelement.WebElement (session=\"54e407b6c3fa8581a857b63c827cb7c9\", element=\"1bb64bd0-9506-4fe5-8e73-e5683a468381\")>,\n",
       "    <selenium.webdriver.remote.webelement.WebElement (session=\"54e407b6c3fa8581a857b63c827cb7c9\", element=\"a2575485-22c6-494f-8740-327f94d11a8c\")>,\n",
       "    <selenium.webdriver.remote.webelement.WebElement (session=\"54e407b6c3fa8581a857b63c827cb7c9\", element=\"732b5947-8dec-42ca-9b1a-d00c8866351c\")>,\n",
       "    <selenium.webdriver.remote.webelement.WebElement (session=\"54e407b6c3fa8581a857b63c827cb7c9\", element=\"14982f53-22d5-484b-8c23-380f6b5be7de\")>,\n",
       "    <selenium.webdriver.remote.webelement.WebElement (session=\"54e407b6c3fa8581a857b63c827cb7c9\", element=\"3946b4fe-bf6b-4189-a98f-446c53dcf188\")>,\n",
       "    <selenium.webdriver.remote.webelement.WebElement (session=\"54e407b6c3fa8581a857b63c827cb7c9\", element=\"7b564e8a-dbbe-42da-b097-7c0c5381f5d8\")>,\n",
       "    <selenium.webdriver.remote.webelement.WebElement (session=\"54e407b6c3fa8581a857b63c827cb7c9\", element=\"ddc592a0-64ed-4684-84e0-306b4e7b4039\")>,\n",
       "    <selenium.webdriver.remote.webelement.WebElement (session=\"54e407b6c3fa8581a857b63c827cb7c9\", element=\"923d3189-89a8-4ad4-89ce-59b81a0a49fc\")>,\n",
       "    <selenium.webdriver.remote.webelement.WebElement (session=\"54e407b6c3fa8581a857b63c827cb7c9\", element=\"3f269a17-46af-4804-abc8-3d25877fc53a\")>,\n",
       "    <selenium.webdriver.remote.webelement.WebElement (session=\"54e407b6c3fa8581a857b63c827cb7c9\", element=\"5354f9cd-0e7e-4652-97a0-4e53cdff1aa1\")>,\n",
       "    <selenium.webdriver.remote.webelement.WebElement (session=\"54e407b6c3fa8581a857b63c827cb7c9\", element=\"0d45c6dd-16a9-4b62-b570-996dfed11d04\")>]]}]"
      ]
     },
     "execution_count": 302,
     "metadata": {},
     "output_type": "execute_result"
    }
   ],
   "source": [
    "r"
   ]
  },
  {
   "cell_type": "code",
   "execution_count": 289,
   "metadata": {
    "ExecuteTime": {
     "end_time": "2020-06-14T12:35:31.663273Z",
     "start_time": "2020-06-14T12:35:31.659135Z"
    }
   },
   "outputs": [
    {
     "data": {
      "text/plain": [
       "[{'option_title': '尺码',\n",
       "  'option_details': ['38', '39', '40', '41', '42', '43'],\n",
       "  'option_img_url': [[<selenium.webdriver.remote.webelement.WebElement (session=\"bb4862319ad252ed2d97baece60da747\", element=\"8741f547-3388-49a2-940b-4152ffae67b3\")>,\n",
       "    <selenium.webdriver.remote.webelement.WebElement (session=\"bb4862319ad252ed2d97baece60da747\", element=\"9f13d66f-eceb-4b98-9d07-ce8b3a38c706\")>,\n",
       "    <selenium.webdriver.remote.webelement.WebElement (session=\"bb4862319ad252ed2d97baece60da747\", element=\"6fc737b2-bf29-4ff4-8fe3-184030a211a6\")>,\n",
       "    <selenium.webdriver.remote.webelement.WebElement (session=\"bb4862319ad252ed2d97baece60da747\", element=\"b686dab7-28f8-4dc3-be99-739439efb309\")>,\n",
       "    <selenium.webdriver.remote.webelement.WebElement (session=\"bb4862319ad252ed2d97baece60da747\", element=\"1b18fe74-7b88-4f3b-8e79-008bc5c704bc\")>,\n",
       "    <selenium.webdriver.remote.webelement.WebElement (session=\"bb4862319ad252ed2d97baece60da747\", element=\"dea041a7-aede-4235-a144-d5f8a5dbedc3\")>]]},\n",
       " {'option_title': '颜色分类',\n",
       "  'option_details': [''],\n",
       "  'option_img_url': [[<selenium.webdriver.remote.webelement.WebElement (session=\"bb4862319ad252ed2d97baece60da747\", element=\"0c3ebf5c-4baa-4347-a41e-7dfee5068e74\")>]]}]"
      ]
     },
     "execution_count": 289,
     "metadata": {},
     "output_type": "execute_result"
    }
   ],
   "source": [
    "r"
   ]
  },
  {
   "cell_type": "code",
   "execution_count": 276,
   "metadata": {
    "ExecuteTime": {
     "end_time": "2020-06-14T12:32:10.884431Z",
     "start_time": "2020-06-14T12:32:10.880386Z"
    }
   },
   "outputs": [
    {
     "data": {
      "text/plain": [
       "[{'option_title': '尺码',\n",
       "  'option_details': ['38', '39', '40', '41', '42', '43'],\n",
       "  'option_img_url': ['', '', '', '', '', '']},\n",
       " {'option_title': '颜色分类',\n",
       "  'option_details': [''],\n",
       "  'option_img_url': ['background: url(\"//gd3.alicdn.com/imgextra/i4/1733493615/TB2shlCey0TMKJjSZFNXXa_1FXa_!!1733493615.jpg_30x30.jpg\") center center no-repeat;']}]"
      ]
     },
     "execution_count": 276,
     "metadata": {},
     "output_type": "execute_result"
    }
   ],
   "source": [
    "r"
   ]
  },
  {
   "cell_type": "code",
   "execution_count": 256,
   "metadata": {
    "ExecuteTime": {
     "end_time": "2020-06-14T12:28:42.910589Z",
     "start_time": "2020-06-14T12:28:42.891798Z"
    }
   },
   "outputs": [
    {
     "data": {
      "text/plain": [
       "'background: url(\"//gd3.alicdn.com/imgextra/i4/1733493615/TB2shlCey0TMKJjSZFNXXa_1FXa_!!1733493615.jpg_30x30.jpg\") center center no-repeat;'"
      ]
     },
     "execution_count": 256,
     "metadata": {},
     "output_type": "execute_result"
    }
   ],
   "source": [
    "option_titles[1].find_elements_by_xpath('li/a')[0].get_attribute('style')"
   ]
  },
  {
   "cell_type": "code",
   "execution_count": 244,
   "metadata": {
    "ExecuteTime": {
     "end_time": "2020-06-14T12:26:19.946502Z",
     "start_time": "2020-06-14T12:26:19.942726Z"
    },
    "scrolled": true
   },
   "outputs": [
    {
     "data": {
      "text/plain": [
       "['\"//gd3.alicdn.com/imgextra/i4/1733493615/TB2shlCey0TMKJjSZFNXXa_1FXa_!!1733493615.jpg_30x30.jpg\"']"
      ]
     },
     "execution_count": 244,
     "metadata": {},
     "output_type": "execute_result"
    }
   ],
   "source": [
    "img_url"
   ]
  },
  {
   "cell_type": "code",
   "execution_count": null,
   "metadata": {},
   "outputs": [],
   "source": []
  },
  {
   "cell_type": "code",
   "execution_count": 236,
   "metadata": {
    "ExecuteTime": {
     "end_time": "2020-06-14T12:24:32.260360Z",
     "start_time": "2020-06-14T12:24:32.256364Z"
    }
   },
   "outputs": [
    {
     "data": {
      "text/plain": [
       "[{'option_title': '尺码',\n",
       "  'option_details': ['38', '39', '40', '41', '42', '43']},\n",
       " {'option_title': '颜色分类', 'option_details': ['']}]"
      ]
     },
     "execution_count": 236,
     "metadata": {},
     "output_type": "execute_result"
    }
   ],
   "source": [
    "r"
   ]
  },
  {
   "cell_type": "code",
   "execution_count": 232,
   "metadata": {
    "ExecuteTime": {
     "end_time": "2020-06-14T12:22:38.522153Z",
     "start_time": "2020-06-14T12:22:38.517827Z"
    }
   },
   "outputs": [
    {
     "data": {
      "text/plain": [
       "[{'option_title': '尺码',\n",
       "  'option_details': ['38', '39', '40', '41', '42', '43'],\n",
       "  'option_img_url': ['', '', '', '', '', '']},\n",
       " {'option_title': '颜色分类',\n",
       "  'option_details': [''],\n",
       "  'option_img_url': ['background: url(\"//gd3.alicdn.com/imgextra/i4/1733493615/TB2shlCey0TMKJjSZFNXXa_1FXa_!!1733493615.jpg_30x30.jpg\") center center no-repeat;']}]"
      ]
     },
     "execution_count": 232,
     "metadata": {},
     "output_type": "execute_result"
    }
   ],
   "source": [
    "r"
   ]
  },
  {
   "cell_type": "code",
   "execution_count": 283,
   "metadata": {
    "ExecuteTime": {
     "end_time": "2020-06-14T12:34:07.457045Z",
     "start_time": "2020-06-14T12:34:07.452904Z"
    }
   },
   "outputs": [
    {
     "data": {
      "text/plain": [
       "'\"//gd3.alicdn.com/imgextra/i4/1733493615/TB2shlCey0TMKJjSZFNXXa_1FXa_!!1733493615.jpg_30x30.jpg\"'"
      ]
     },
     "execution_count": 283,
     "metadata": {},
     "output_type": "execute_result"
    }
   ],
   "source": [
    "re.findall('\\(([^)]+)', 'background: url(\"//gd3.alicdn.com/imgextra/i4/1733493615/TB2shlCey0TMKJjSZFNXXa_1FXa_!!1733493615.jpg_30x30.jpg\") center center no-repeat;')[0]\n"
   ]
  },
  {
   "cell_type": "code",
   "execution_count": 225,
   "metadata": {
    "ExecuteTime": {
     "end_time": "2020-06-14T12:20:54.998506Z",
     "start_time": "2020-06-14T12:20:54.994691Z"
    }
   },
   "outputs": [
    {
     "data": {
      "text/plain": [
       "[{'option_title': '尺码',\n",
       "  'option_details': ['38', '39', '40', '41', '42', '43'],\n",
       "  'option_img_url': ['', '', '', '', '', '']},\n",
       " {'option_title': '颜色分类',\n",
       "  'option_details': [''],\n",
       "  'option_img_url': ['background: url(\"//gd3.alicdn.com/imgextra/i4/1733493615/TB2shlCey0TMKJjSZFNXXa_1FXa_!!1733493615.jpg_30x30.jpg\") center center no-repeat;']}]"
      ]
     },
     "execution_count": 225,
     "metadata": {},
     "output_type": "execute_result"
    }
   ],
   "source": [
    "r"
   ]
  },
  {
   "cell_type": "code",
   "execution_count": 216,
   "metadata": {
    "ExecuteTime": {
     "end_time": "2020-06-14T12:18:52.684234Z",
     "start_time": "2020-06-14T12:18:52.680435Z"
    }
   },
   "outputs": [
    {
     "data": {
      "text/plain": [
       "[{'option_title': '尺码',\n",
       "  'option_details': ['38', '39', '40', '41', '42', '43']},\n",
       " {'option_title': '颜色分类', 'option_details': ['']}]"
      ]
     },
     "execution_count": 216,
     "metadata": {},
     "output_type": "execute_result"
    }
   ],
   "source": [
    "r"
   ]
  },
  {
   "cell_type": "code",
   "execution_count": 144,
   "metadata": {
    "ExecuteTime": {
     "end_time": "2020-06-14T12:06:24.082511Z",
     "start_time": "2020-06-14T12:06:24.078874Z"
    }
   },
   "outputs": [
    {
     "data": {
      "text/plain": [
       "{'og_price': '¥399.00',\n",
       " 'promo_price': '245.00',\n",
       " 'title': '20春季男士真皮工装鞋复古英伦高帮马丁靴皮靴男厚底增高短靴松糕'}"
      ]
     },
     "execution_count": 144,
     "metadata": {},
     "output_type": "execute_result"
    }
   ],
   "source": [
    "result"
   ]
  },
  {
   "cell_type": "code",
   "execution_count": 20,
   "metadata": {
    "ExecuteTime": {
     "end_time": "2020-06-14T11:44:21.947476Z",
     "start_time": "2020-06-14T11:44:13.129977Z"
    }
   },
   "outputs": [
    {
     "name": "stdout",
     "output_type": "stream",
     "text": [
      "¥399.00\n"
     ]
    }
   ],
   "source": [
    "test(558466575297)"
   ]
  },
  {
   "cell_type": "markdown",
   "metadata": {},
   "source": [
    "## 연속적으로 여러번 요청하면 배너 뜨는거 해결 해야 함"
   ]
  },
  {
   "cell_type": "markdown",
   "metadata": {},
   "source": [
    "# 쿠키 저장"
   ]
  },
  {
   "cell_type": "code",
   "execution_count": 143,
   "metadata": {
    "ExecuteTime": {
     "end_time": "2020-06-14T08:37:53.907188Z",
     "start_time": "2020-06-14T08:37:53.895648Z"
    }
   },
   "outputs": [],
   "source": [
    "c = driver.get_cookies()\n"
   ]
  },
  {
   "cell_type": "code",
   "execution_count": 144,
   "metadata": {
    "ExecuteTime": {
     "end_time": "2020-06-14T08:37:55.086309Z",
     "start_time": "2020-06-14T08:37:55.078622Z"
    },
    "scrolled": false
   },
   "outputs": [
    {
     "data": {
      "text/plain": [
       "[{'domain': '.taobao.com',\n",
       "  'expiry': 1607675865,\n",
       "  'httpOnly': False,\n",
       "  'name': 'l',\n",
       "  'path': '/',\n",
       "  'secure': False,\n",
       "  'value': 'eBEi-pOIQ5hG8u3CKOfwourza77OSIRAguPzaNbMiOCPO6Cy56WcWZxSw8Y2C3MGh6DMR3DN_pawBeYBcSmFm_R9rNWQtWDmn'},\n",
       " {'domain': '.taobao.com',\n",
       "  'httpOnly': False,\n",
       "  'name': 'uc1',\n",
       "  'path': '/',\n",
       "  'sameSite': 'None',\n",
       "  'secure': True,\n",
       "  'value': 'cookie16=W5iHLLyFPlMGbLDwA%2BdvAGZqLg%3D%3D&cookie15=URm48syIIVrSKA%3D%3D&cookie21=U%2BGCWk%2F7oPIg&existShop=false&pas=0&cookie14=UoTV7gA0rmXWog%3D%3D'},\n",
       " {'domain': '.taobao.com',\n",
       "  'httpOnly': False,\n",
       "  'name': '_nk_',\n",
       "  'path': '/',\n",
       "  'sameSite': 'None',\n",
       "  'secure': True,\n",
       "  'value': 'yoohowon90'},\n",
       " {'domain': '.taobao.com',\n",
       "  'httpOnly': False,\n",
       "  'name': '_l_g_',\n",
       "  'path': '/',\n",
       "  'sameSite': 'None',\n",
       "  'secure': True,\n",
       "  'value': 'Ug%3D%3D'},\n",
       " {'domain': '.taobao.com',\n",
       "  'expiry': 1623688664,\n",
       "  'httpOnly': False,\n",
       "  'name': '_cc_',\n",
       "  'path': '/',\n",
       "  'sameSite': 'None',\n",
       "  'secure': True,\n",
       "  'value': 'UtASsssmfA%3D%3D'},\n",
       " {'domain': '.taobao.com',\n",
       "  'expiry': 1623688664,\n",
       "  'httpOnly': False,\n",
       "  'name': 'tracknick',\n",
       "  'path': '/',\n",
       "  'sameSite': 'None',\n",
       "  'secure': True,\n",
       "  'value': 'yoohowon90'},\n",
       " {'domain': '.taobao.com',\n",
       "  'httpOnly': True,\n",
       "  'name': 'cookie17',\n",
       "  'path': '/',\n",
       "  'sameSite': 'None',\n",
       "  'secure': True,\n",
       "  'value': 'UUBe4BD7YSDlTA%3D%3D'},\n",
       " {'domain': '.taobao.com',\n",
       "  'expiry': 1592757465,\n",
       "  'httpOnly': False,\n",
       "  'name': 'mt',\n",
       "  'path': '/',\n",
       "  'sameSite': 'None',\n",
       "  'secure': True,\n",
       "  'value': 'ci=0_1'},\n",
       " {'domain': '.taobao.com',\n",
       "  'httpOnly': False,\n",
       "  'name': 'sg',\n",
       "  'path': '/',\n",
       "  'sameSite': 'None',\n",
       "  'secure': True,\n",
       "  'value': '082'},\n",
       " {'domain': '.taobao.com',\n",
       "  'expiry': 1594744664,\n",
       "  'httpOnly': False,\n",
       "  'name': 'lgc',\n",
       "  'path': '/',\n",
       "  'sameSite': 'None',\n",
       "  'secure': True,\n",
       "  'value': 'yoohowon90'},\n",
       " {'domain': '.taobao.com',\n",
       "  'expiry': 1594744664,\n",
       "  'httpOnly': True,\n",
       "  'name': 'uc3',\n",
       "  'path': '/',\n",
       "  'sameSite': 'None',\n",
       "  'secure': True,\n",
       "  'value': 'vt3=F8dBxGDY%2Fv23rw%2BsZ9k%3D&id2=UUBe4BD7YSDlTA%3D%3D&lg2=UIHiLt3xD8xYTw%3D%3D&nk2=GgTrQuS9gmNHQA%3D%3D'},\n",
       " {'domain': '.taobao.com',\n",
       "  'httpOnly': True,\n",
       "  'name': 'unb',\n",
       "  'path': '/',\n",
       "  'sameSite': 'None',\n",
       "  'secure': True,\n",
       "  'value': '2866108708'},\n",
       " {'domain': '.taobao.com',\n",
       "  'httpOnly': False,\n",
       "  'name': 'csg',\n",
       "  'path': '/',\n",
       "  'sameSite': 'None',\n",
       "  'secure': True,\n",
       "  'value': '1c50e9ad'},\n",
       " {'domain': '.taobao.com',\n",
       "  'expiry': 1607675852,\n",
       "  'httpOnly': False,\n",
       "  'name': 'tfstk',\n",
       "  'path': '/',\n",
       "  'secure': False,\n",
       "  'value': 'cIPlB34eXmtso7D0C_G7-wYTqK6OZELq2kr7g7syHrTZWrVViEp2QQbGnmqu9p1..'},\n",
       " {'domain': '.taobao.com',\n",
       "  'httpOnly': True,\n",
       "  'name': 'cookie1',\n",
       "  'path': '/',\n",
       "  'sameSite': 'None',\n",
       "  'secure': True,\n",
       "  'value': 'U7AQZV6jsZIas7o%2B3bRnP3f%2BF7K%2B3ccavPIf1dLRzOk%3D'},\n",
       " {'domain': '.taobao.com',\n",
       "  'httpOnly': False,\n",
       "  'name': 'dnk',\n",
       "  'path': '/',\n",
       "  'sameSite': 'None',\n",
       "  'secure': True,\n",
       "  'value': 'yoohowon90'},\n",
       " {'domain': '.taobao.com',\n",
       "  'httpOnly': True,\n",
       "  'name': '_samesite_flag_',\n",
       "  'path': '/',\n",
       "  'sameSite': 'None',\n",
       "  'secure': True,\n",
       "  'value': 'true'},\n",
       " {'domain': '.taobao.com',\n",
       "  'expiry': 1599928664,\n",
       "  'httpOnly': False,\n",
       "  'name': 't',\n",
       "  'path': '/',\n",
       "  'sameSite': 'None',\n",
       "  'secure': True,\n",
       "  'value': '19d870c9aceafd49ac43e995ee485852'},\n",
       " {'domain': '.taobao.com',\n",
       "  'expiry': 1599899868,\n",
       "  'httpOnly': False,\n",
       "  'name': '_fbp',\n",
       "  'path': '/',\n",
       "  'sameSite': 'Lax',\n",
       "  'secure': False,\n",
       "  'value': 'fb.1.1592123846251.633288705'},\n",
       " {'domain': '.taobao.com',\n",
       "  'httpOnly': True,\n",
       "  'name': 'cookie2',\n",
       "  'path': '/',\n",
       "  'sameSite': 'None',\n",
       "  'secure': True,\n",
       "  'value': '114beb7758188311617deda707e3d363'},\n",
       " {'domain': '.taobao.com',\n",
       "  'expiry': 1594744664,\n",
       "  'httpOnly': True,\n",
       "  'name': 'uc4',\n",
       "  'path': '/',\n",
       "  'sameSite': 'None',\n",
       "  'secure': True,\n",
       "  'value': 'nk4=0%40GIjYOh%2Fjo3p71J9gxvGooO%2BZiT%2B0&id4=0%40U2LMxS9EBQg%2B%2BpAl2ZWcksIxJiUG'},\n",
       " {'domain': '.taobao.com',\n",
       "  'httpOnly': False,\n",
       "  'name': '_tb_token_',\n",
       "  'path': '/',\n",
       "  'sameSite': 'None',\n",
       "  'secure': True,\n",
       "  'value': 'f8aeeda5ebe53'},\n",
       " {'domain': '.taobao.com',\n",
       "  'expiry': 1607675865,\n",
       "  'httpOnly': False,\n",
       "  'name': 'isg',\n",
       "  'path': '/',\n",
       "  'secure': False,\n",
       "  'value': 'BLW1bHZBB5FCTGMtRl0__wz7xDdvMmlEVHb3wTfacSx7DtUA_4J5FMMMXMs4ToH8'},\n",
       " {'domain': '.taobao.com',\n",
       "  'expiry': 1623688646,\n",
       "  'httpOnly': False,\n",
       "  'name': 'hng',\n",
       "  'path': '/',\n",
       "  'sameSite': 'None',\n",
       "  'secure': True,\n",
       "  'value': 'KR%7Czh-CN%7CKRW%7C410'},\n",
       " {'domain': '.taobao.com',\n",
       "  'expiry': 2222843843,\n",
       "  'httpOnly': False,\n",
       "  'name': 'cna',\n",
       "  'path': '/',\n",
       "  'sameSite': 'None',\n",
       "  'secure': True,\n",
       "  'value': 'w89sF+U9oj4CAXfEMdcm2lU4'},\n",
       " {'domain': '.taobao.com',\n",
       "  'expiry': 1623659911,\n",
       "  'httpOnly': False,\n",
       "  'name': 'thw',\n",
       "  'path': '/',\n",
       "  'secure': False,\n",
       "  'value': 'kr'},\n",
       " {'domain': '.taobao.com',\n",
       "  'httpOnly': False,\n",
       "  'name': 'existShop',\n",
       "  'path': '/',\n",
       "  'sameSite': 'None',\n",
       "  'secure': True,\n",
       "  'value': 'MTU5MjEyMzg2NA%3D%3D'},\n",
       " {'domain': 'world.taobao.com',\n",
       "  'httpOnly': False,\n",
       "  'name': 'isShow',\n",
       "  'path': '/',\n",
       "  'secure': False,\n",
       "  'value': '1592123845586'},\n",
       " {'domain': '.taobao.com',\n",
       "  'httpOnly': False,\n",
       "  'name': 'v',\n",
       "  'path': '/',\n",
       "  'secure': False,\n",
       "  'value': '0'},\n",
       " {'domain': '.taobao.com',\n",
       "  'expiry': 1592728645,\n",
       "  'httpOnly': False,\n",
       "  'name': '_m_h5_tk_enc',\n",
       "  'path': '/',\n",
       "  'secure': False,\n",
       "  'value': 'eb10cae08995c38a50a4ea2ccbfcde5c'},\n",
       " {'domain': '.taobao.com',\n",
       "  'httpOnly': True,\n",
       "  'name': 'skt',\n",
       "  'path': '/',\n",
       "  'sameSite': 'None',\n",
       "  'secure': True,\n",
       "  'value': '4c2920b9291a8b82'},\n",
       " {'domain': '.taobao.com',\n",
       "  'expiry': 1623688664,\n",
       "  'httpOnly': True,\n",
       "  'name': 'sgcookie',\n",
       "  'path': '/',\n",
       "  'sameSite': 'None',\n",
       "  'secure': True,\n",
       "  'value': 'E9RbTMiSwcM0bvbJ41LGV'},\n",
       " {'domain': '.taobao.com',\n",
       "  'expiry': 1592728645,\n",
       "  'httpOnly': False,\n",
       "  'name': '_m_h5_tk',\n",
       "  'path': '/',\n",
       "  'secure': False,\n",
       "  'value': '18c9728e6fd8e15daafd2e3bc717f280_1592132125363'}]"
      ]
     },
     "execution_count": 144,
     "metadata": {},
     "output_type": "execute_result"
    }
   ],
   "source": [
    "c"
   ]
  },
  {
   "cell_type": "code",
   "execution_count": 146,
   "metadata": {
    "ExecuteTime": {
     "end_time": "2020-06-14T08:39:00.375730Z",
     "start_time": "2020-06-14T08:39:00.372627Z"
    }
   },
   "outputs": [],
   "source": [
    "import pickle\n",
    "f = open('cookie_taobao.dat', 'rb')\n",
    "cookies = pickle.load(f)"
   ]
  },
  {
   "cell_type": "code",
   "execution_count": 154,
   "metadata": {
    "ExecuteTime": {
     "end_time": "2020-06-14T08:53:15.093059Z",
     "start_time": "2020-06-14T08:53:15.069623Z"
    }
   },
   "outputs": [],
   "source": [
    "import pickle\n",
    "# tmall 쿠키 백업\n",
    "c = driver.get_cookies()\n",
    "with open('cookie_taobao.dat', 'wb') as f:\n",
    "    pickle.dump(c, f)"
   ]
  },
  {
   "cell_type": "code",
   "execution_count": 160,
   "metadata": {
    "ExecuteTime": {
     "end_time": "2020-06-14T09:07:38.563798Z",
     "start_time": "2020-06-14T09:07:38.548433Z"
    }
   },
   "outputs": [],
   "source": [
    "import pickle\n",
    "# taobao 쿠키 백업\n",
    "c = driver.get_cookies()\n",
    "with open('cookie_tamll.dat', 'wb') as f:\n",
    "    pickle.dump(c, f)"
   ]
  },
  {
   "cell_type": "markdown",
   "metadata": {},
   "source": [
    "# selenium"
   ]
  },
  {
   "cell_type": "code",
   "execution_count": 124,
   "metadata": {
    "ExecuteTime": {
     "end_time": "2020-06-13T07:42:41.416224Z",
     "start_time": "2020-06-13T07:42:41.395200Z"
    }
   },
   "outputs": [],
   "source": [
    "def crawler(itemid):\n",
    "    \n",
    "    from selenium import webdriver\n",
    "    from fake_useragent import UserAgent\n",
    "\n",
    "    # userAgent 설정\n",
    "    ua = UserAgent(verify_ssl=False)\n",
    "    userAgent = ua.random\n",
    "    headers = {\n",
    "        'User-Agent': userAgent\n",
    "    }\n",
    "    options = webdriver.ChromeOptions()\n",
    "    options.add_argument(userAgent)\n",
    "\n",
    "\n",
    "    driver = webdriver.Chrome('./chromedriver',options = options)\n",
    "    \n",
    "        \n",
    "    driver.get(\"https://item.taobao.com/item.htm?id={}\".format(itemid))\n",
    "\n",
    "    # alert 창 제어\n",
    "    try:\n",
    "        alert = driver.switch_to_alert()\n",
    "        alert.accept()\n",
    "        current_url = driver.current_url\n",
    "    except:\n",
    "        current_url = driver.current_url\n",
    "    driver.quit()\n",
    "    \n",
    "    def tmall_crawler(itemid):\n",
    "        from selenium import webdriver\n",
    "        from scrapy.http import TextResponse     \n",
    "        from fake_useragent import UserAgent\n",
    "\n",
    "        import requests\n",
    "        import pickle\n",
    "\n",
    "        driver = webdriver.Chrome('./chromedriver')\n",
    "        driver.get(\"https://www.taobao.com\")\n",
    "\n",
    "\n",
    "        f = open('cookie_taobao.dat', 'rb') \n",
    "        cookies = pickle.load(f) \n",
    "        for cookie in cookies:\n",
    "            driver.add_cookie(cookie)\n",
    "\n",
    "        driver.get(\"https://item.taobao.com/item.htm?id={}\".format(itemId))   \n",
    "\n",
    "        result = {}\n",
    "        result['item_id'] = itemId\n",
    "\n",
    "        # 할인 가격\n",
    "        try:\n",
    "            result['promo_price'] = driver.find_element_by_xpath('//*[@id=\"J_PromoPrice\"]/dd/div/span').text\n",
    "        except:\n",
    "            result['promo_price'] = '할인 가격 없음'\n",
    "\n",
    "        driver.quit()\n",
    "\n",
    "        url = \"https://item.taobao.com/item.htm?id={}\".format(itemId)\n",
    "\n",
    "        ua = UserAgent(verify_ssl=False)\n",
    "        userAgent = ua.random\n",
    "\n",
    "        headers = {\n",
    "            'User-Agent': userAgent\n",
    "        }\n",
    "        response = requests.get(url=url, headers=headers)\n",
    "        req = TextResponse(response.url, body=response.text, encoding=\"utf-8\")\n",
    "\n",
    "        # item_title\n",
    "        result['item_title'] = req.xpath('//*[@id=\"J_DetailMeta\"]/div[@class=\"tm-clear\"]/div[@class=\"tb-property\"]/div/div[@class=\"tb-detail-hd\"]/h1/text()').extract_first().strip()\n",
    "\n",
    "        option_path = req.xpath('//*[@id=\"J_DetailMeta\"]/div/div/div/div[@class=\"tb-key\"]/div[@class=\"tb-skin\"]/div[@class=\"tb-sku\"]/dl[contains(@class, \"tm-sale-prop\") and contains(@class, \"tb-prop\") and contains(@class, \"tm-clear\")]')\n",
    "\n",
    "        option_ls = []\n",
    "        for path in option_path:\n",
    "            option = {}\n",
    "            option['option_title'] = path.xpath('dt/text()').extract_first()\n",
    "            option['option_detail'] = path.xpath('dd/ul/li/a/span/text()').extract()\n",
    "            image_elements = path.xpath('dd/ul[contains(@class, \"tb-img\")]/li/a')\n",
    "            option['option_image_urls'] = [element.xpath('@style').extract_first()[19:-40] for element in image_elements]\n",
    "            option_ls.append(option)\n",
    "            result['options'] = option_ls\n",
    "        \n",
    "        return result\n",
    "\n",
    "    def taobao_crawler(itemId):\n",
    "        # 패키지 임포트\n",
    "        from selenium import webdriver\n",
    "        from scrapy.http import TextResponse     \n",
    "        from fake_useragent import UserAgent\n",
    "        import pickle\n",
    "\n",
    "        import requests\n",
    "\n",
    "        driver = webdriver.Chrome('./chromedriver')\n",
    "        driver.get(\"https://www.taobao.com\")\n",
    "\n",
    "        f = open('cookie_taobao.dat', 'rb') \n",
    "        cookies = pickle.load(f) \n",
    "        for cookie in cookies:\n",
    "            driver.add_cookie(cookie)\n",
    "\n",
    "\n",
    "        driver.get(\"https://item.taobao.com/item.htm?id={}\".format(itemId))   \n",
    "\n",
    "        result = {}\n",
    "        result['item_id'] = itemId\n",
    "\n",
    "        # 할인 가격\n",
    "        try:\n",
    "            result['promo_price'] = driver.find_element_by_css_selector('#J_PromoPriceNum').text\n",
    "        except:\n",
    "            result['promo_price'] = '할인 가격 없음'\n",
    "\n",
    "        driver.quit()\n",
    "\n",
    "        ua = UserAgent(verify_ssl=False)\n",
    "        userAgent = ua.random\n",
    "\n",
    "        headers = {\n",
    "            'User-Agent': userAgent\n",
    "        }\n",
    "\n",
    "        url = \"https://item.taobao.com/item.htm?id={}\".format(itemId)\n",
    "\n",
    "        # https://stackoverflow.com/questions/32910093/python-requests-gets-tlsv1-alert-internal-err\n",
    "        requests.packages.urllib3.util.ssl_.DEFAULT_CIPHERS = 'DH+AESGCM:ECDH+AES256:DH+AES256:ECDH+AES128:DH+AES:ECDH+HIGH:DH+HIGH:ECDH+3DES:DH+3DES:RSA+AESGCM:RSA+AES:RSA+HIGH:RSA+3DES:!aNULL:!eNULL:!MD5'\n",
    "\n",
    "        response = requests.get(url=url, headers=headers)\n",
    "        req = TextResponse(response.url, body=response.text, encoding=\"utf-8\")\n",
    "        result['item_name'] = req.xpath('//*[@id=\"J_Title\"]/h3/@data-title').extract_first()\n",
    "\n",
    "        option_title = req.xpath('//*[@id=\"J_isku\"]/div/dl/dd/ul/@data-property').extract()\n",
    "        r = []\n",
    "        for title in option_title:\n",
    "            j = {}\n",
    "            j['option_title'] = title\n",
    "            j['option_details'] = req.xpath('//*[@id=\"J_isku\"]/div/dl/dd/ul[@data-property=\"{}\"]/li/a/span/text()'.format(title)).extract()\n",
    "            j['option_image_urls'] = [path[17:-29] for path in req.xpath('//*[@id=\"J_isku\"]/div/dl/dd/ul[@data-property=\"{}\"]/li/a/@style'.format(title)).extract()]\n",
    "            r.append(j)\n",
    "\n",
    "        result['options'] = r\n",
    "\n",
    "        return result\n",
    "\n",
    "    \n",
    "    if \"tmall\" in current_url:\n",
    "        return tmall_crawler(itemid)\n",
    "    else:\n",
    "        return taobao_crawler(itemid)"
   ]
  },
  {
   "cell_type": "markdown",
   "metadata": {},
   "source": [
    "# test"
   ]
  },
  {
   "cell_type": "code",
   "execution_count": 126,
   "metadata": {
    "ExecuteTime": {
     "end_time": "2020-06-13T07:43:25.275124Z",
     "start_time": "2020-06-13T07:42:59.914969Z"
    }
   },
   "outputs": [],
   "source": [
    "tmall_item = crawler(594650607691)"
   ]
  },
  {
   "cell_type": "code",
   "execution_count": 127,
   "metadata": {
    "ExecuteTime": {
     "end_time": "2020-06-13T07:43:26.006469Z",
     "start_time": "2020-06-13T07:43:26.002128Z"
    }
   },
   "outputs": [
    {
     "data": {
      "text/plain": [
       "{'item_id': 594650607691,\n",
       " 'promo_price': '118.00',\n",
       " 'item_title': '啄木鸟 丝光棉夏季男士短袖翻领t恤口袋有领中年爸爸装Polo衫大码',\n",
       " 'options': [{'option_title': '尺码',\n",
       "   'option_detail': ['165/S',\n",
       "    '170/M',\n",
       "    '175/L',\n",
       "    '180/XL',\n",
       "    '185/XXL',\n",
       "    '190/3XL'],\n",
       "   'option_image_urls': []},\n",
       "  {'option_title': '颜色',\n",
       "   'option_detail': ['ZMN7102-宝蓝', 'ZMN7102-白色', 'ZMN7102-酒红色', 'ZMN7102-灰色'],\n",
       "   'option_image_urls': ['g.alicdn.com/imgextra/i3/2997589458/O1CN01K4KHx82JjoWAy7mTB_!!299758',\n",
       "    'g.alicdn.com/imgextra/i2/2997589458/O1CN01FCMild2JjoWA7LyYw_!!299758',\n",
       "    'g.alicdn.com/imgextra/i2/2997589458/O1CN01zwiVj62JjoW7iZYMd_!!299758',\n",
       "    'g.alicdn.com/imgextra/i2/2997589458/O1CN01A2jmnN2JjoW9ExK8X_!!299758']}]}"
      ]
     },
     "execution_count": 127,
     "metadata": {},
     "output_type": "execute_result"
    }
   ],
   "source": [
    "tmall_item"
   ]
  },
  {
   "cell_type": "code",
   "execution_count": 128,
   "metadata": {
    "ExecuteTime": {
     "end_time": "2020-06-13T07:43:45.252823Z",
     "start_time": "2020-06-13T07:43:30.036708Z"
    }
   },
   "outputs": [],
   "source": [
    "taobao_item = crawler(524341898973)"
   ]
  },
  {
   "cell_type": "code",
   "execution_count": 129,
   "metadata": {
    "ExecuteTime": {
     "end_time": "2020-06-13T07:43:45.261743Z",
     "start_time": "2020-06-13T07:43:45.256202Z"
    },
    "scrolled": true
   },
   "outputs": [
    {
     "data": {
      "text/plain": [
       "{'item_id': 524341898973,\n",
       " 'promo_price': '199.00',\n",
       " 'item_name': '阎双女包双肩包女个性时尚韩版大容量花包复古风网红学生书包2093',\n",
       " 'options': [{'option_title': '颜色分类',\n",
       "   'option_details': ['荷花',\n",
       "    '吊染花',\n",
       "    '绿章',\n",
       "    '深灰色',\n",
       "    '黑白色',\n",
       "    '红咖啡',\n",
       "    '毕加索',\n",
       "    '荧光绿',\n",
       "    '莲藕',\n",
       "    '春天棉',\n",
       "    '藏码',\n",
       "    '抽图',\n",
       "    '灰色',\n",
       "    '蓝黑色',\n",
       "    '军绿色',\n",
       "    '东北红',\n",
       "    '湖蓝色',\n",
       "    '酒红色',\n",
       "    '黑色',\n",
       "    '开花',\n",
       "    '东巴蛙',\n",
       "    '宝蓝色',\n",
       "    '马勺',\n",
       "    '米白色',\n",
       "    '紫红色',\n",
       "    '品韵',\n",
       "    '老尘土',\n",
       "    '乳白色',\n",
       "    '花色',\n",
       "    '西瓜红',\n",
       "    '桔色',\n",
       "    '银色',\n",
       "    '天蓝色',\n",
       "    '浅黄色',\n",
       "    '翠绿色',\n",
       "    '浅灰色',\n",
       "    '深紫色',\n",
       "    '粉红色',\n",
       "    '季春',\n",
       "    '绽放',\n",
       "    '姜黄色',\n",
       "    '黄色',\n",
       "    '卡其色',\n",
       "    '栗色',\n",
       "    '黑白',\n",
       "    '玫红色',\n",
       "    '白色',\n",
       "    '浅蓝色',\n",
       "    '青色',\n",
       "    '驼色',\n",
       "    '巧克力色',\n",
       "    '红色',\n",
       "    '浅棕色',\n",
       "    '褐色',\n",
       "    '浅紫色',\n",
       "    '孔雀蓝',\n",
       "    '蓝色',\n",
       "    '香槟色',\n",
       "    '紫色',\n",
       "    '明黄色',\n",
       "    '深棕色',\n",
       "    '荧光黄',\n",
       "    '藏青色',\n",
       "    '咖啡色',\n",
       "    '深卡其布色',\n",
       "    '深蓝色',\n",
       "    '紫蓝色',\n",
       "    '紫罗兰',\n",
       "    '米驼色',\n",
       "    '杏色',\n",
       "    '透明',\n",
       "    '墨绿色',\n",
       "    '桔红色',\n",
       "    '柠檬黄',\n",
       "    '藕色',\n",
       "    '棕咖',\n",
       "    '蓝莓色',\n",
       "    '浅绿色'],\n",
       "   'option_image_urls': ['gd1.alicdn.com/imgextra/i2/545015033/TB2fILNaQonyKJjSZFtXXXNaVXa_!!545015033.jpg',\n",
       "    'gd3.alicdn.com/imgextra/i2/545015033/TB2cVA1nR8lpuFjSspaXXXJKpXa_!!545015033.jpg',\n",
       "    'gd3.alicdn.com/imgextra/i2/545015033/O1CN01in4COM1n39wbvYZmv_!!545015033.jpg',\n",
       "    'gd4.alicdn.com/imgextra/i1/545015033/O1CN01tiF2wu1n39wYQTDkU_!!545015033.jpg',\n",
       "    'gd1.alicdn.com/imgextra/i2/545015033/O1CN01Aeuf671n39wRrmkPi_!!545015033.jpg',\n",
       "    'gd1.alicdn.com/imgextra/i1/545015033/TB2OuyynH0kpuFjy0FjXXcBbVXa_!!545015033.jpg',\n",
       "    'gd2.alicdn.com/imgextra/i3/545015033/TB2mn01nhXkpuFjy0FiXXbUfFXa_!!545015033.jpg',\n",
       "    'gd3.alicdn.com/imgextra/i1/545015033/TB26w8Dqt0opuFjSZFxXXaDNVXa_!!545015033.jpg',\n",
       "    'gd2.alicdn.com/imgextra/i1/545015033/O1CN01bZf4Ne1n39wLaYXf8_!!545015033.jpg',\n",
       "    'gd2.alicdn.com/imgextra/i2/545015033/TB2TAdDn0BopuFjSZPcXXc9EpXa_!!545015033.jpg',\n",
       "    'gd3.alicdn.com/imgextra/i1/545015033/TB22BTNnbtlpuFjSspoXXbcDpXa_!!545015033.jpg',\n",
       "    'gd4.alicdn.com/imgextra/i1/545015033/TB2yHvNaNwlyKJjSZFNXXcOlpXa_!!545015033.jpg',\n",
       "    'gd3.alicdn.com/imgextra/i4/545015033/O1CN01RA5ZVl1n39wX9et5M_!!545015033.jpg',\n",
       "    'gd1.alicdn.com/imgextra/i2/545015033/O1CN01TOgl0E1n39wUhlFz7_!!545015033.jpg',\n",
       "    'gd2.alicdn.com/imgextra/i1/545015033/TB2gZ_mnHFkpuFjy1XcXXclapXa_!!545015033.jpg',\n",
       "    'gd1.alicdn.com/imgextra/i4/545015033/O1CN01QmYK7f1n39wYUoN0Q_!!545015033.jpg',\n",
       "    'gd4.alicdn.com/imgextra/i2/545015033/TB2NY9YniOYBuNjSsD4XXbSkFXa_!!545015033.jpg',\n",
       "    'gd1.alicdn.com/imgextra/i2/545015033/TB2laYha4TI8KJjSspiXXbM4FXa_!!545015033.jpg',\n",
       "    'gd4.alicdn.com/imgextra/i4/545015033/TB2xYzoaY_I8KJjy1XaXXbsxpXa_!!545015033.jpg',\n",
       "    'gd1.alicdn.com/imgextra/i2/545015033/TB2Yjz1v80kpuFjSsziXXa.oVXa_!!545015033.jpg',\n",
       "    'gd3.alicdn.com/imgextra/i3/545015033/TB2Q4ceqCtYBeNjSspkXXbU8VXa_!!545015033.jpg',\n",
       "    'gd2.alicdn.com/imgextra/i1/545015033/TB2uIbByOCYBuNkHFCcXXcHtVXa_!!545015033.jpg',\n",
       "    'gd4.alicdn.com/imgextra/i4/545015033/O1CN01uDRFX01n39zn1tjE5_!!545015033.jpg',\n",
       "    'gd3.alicdn.com/imgextra/i3/545015033/TB2Fw3ME25TBuNjSspmXXaDRVXa_!!545015033.jpg',\n",
       "    'gd4.alicdn.com/imgextra/i2/545015033/O1CN01aCtFo31n39wNKbtVH_!!545015033.jpg',\n",
       "    'gd3.alicdn.com/imgextra/i2/545015033/TB2XQwatyRnpuFjSZFCXXX2DXXa_!!545015033.jpg',\n",
       "    'gd2.alicdn.com/imgextra/i1/545015033/O1CN01M9cECF1n39wa8mDya_!!545015033.jpg',\n",
       "    'gd2.alicdn.com/imgextra/i1/545015033/TB2iW4gilyWBuNkSmFPXXXguVXa_!!545015033.jpg',\n",
       "    'gd1.alicdn.com/imgextra/i3/545015033/O1CN011n39rjMABIfSmg5_!!545015033.jpg',\n",
       "    'gd3.alicdn.com/imgextra/i4/545015033/O1CN01MoTKG01n39wT87r21_!!545015033.jpg',\n",
       "    'gd4.alicdn.com/imgextra/i1/545015033/O1CN011n39rj0FedQB7lO_!!545015033.jpg',\n",
       "    'gd3.alicdn.com/imgextra/i4/545015033/TB29ajhquuSBuNjy1XcXXcYjFXa_!!545015033.jpg',\n",
       "    'gd1.alicdn.com/imgextra/i4/545015033/O1CN011n39riokTVeiXTd_!!545015033.jpg',\n",
       "    'gd1.alicdn.com/imgextra/i2/545015033/O1CN01MW7Xwn1n39wNgc4j1_!!545015033.jpg',\n",
       "    'gd3.alicdn.com/imgextra/i4/545015033/O1CN01sKVNY71n39wZr0oT5_!!545015033.jpg',\n",
       "    'gd3.alicdn.com/imgextra/i3/545015033/O1CN01w8304M1n39tTPJnWQ_!!545015033.jpg',\n",
       "    'gd3.alicdn.com/imgextra/i1/545015033/O1CN01ta6t6C1n39wOf06Yq_!!545015033.jpg',\n",
       "    'gd4.alicdn.com/imgextra/i3/545015033/O1CN01HobUw91n39wRrlsPI_!!545015033.jpg',\n",
       "    'gd4.alicdn.com/imgextra/i3/545015033/O1CN01M4ReGT1n39wVVVy4D_!!545015033.jpg',\n",
       "    'gd3.alicdn.com/imgextra/i1/545015033/O1CN01Uotqw71n39wPXhP1o_!!545015033.jpg',\n",
       "    'gd1.alicdn.com/imgextra/i4/545015033/O1CN01sCkhLE1n39wQE1cVR_!!545015033.jpg',\n",
       "    'gd2.alicdn.com/imgextra/i1/545015033/O1CN01kSdC001n39zptGQfU_!!545015033.jpg',\n",
       "    'gd1.alicdn.com/imgextra/i4/545015033/O1CN01Dnthkk1n39wXGu678_!!545015033.jpg',\n",
       "    'gd4.alicdn.com/imgextra/i4/545015033/O1CN01QTtNTX1n39zrdSEug_!!545015033.jpg',\n",
       "    'gd4.alicdn.com/imgextra/i2/545015033/TB20mPkE4SYBuNjSsphXXbGvVXa_!!545015033.jpg',\n",
       "    'gd1.alicdn.com/imgextra/i1/545015033/O1CN01Hr2T7p1n39wM1nLN8_!!545015033.jpg',\n",
       "    'gd3.alicdn.com/imgextra/i2/545015033/O1CN01RJ1M761n39wQ9FFMA_!!545015033.jpg',\n",
       "    'gd3.alicdn.com/imgextra/i3/545015033/O1CN01zqnYiJ1n39x5YTS06_!!545015033.jpg',\n",
       "    'gd2.alicdn.com/imgextra/i3/545015033/O1CN01y1P80A1n39wWvMBge_!!545015033.jpg',\n",
       "    'gd2.alicdn.com/imgextra/i4/545015033/O1CN01e6iyNT1n39xPWj2E9_!!545015033.jpg',\n",
       "    'gd4.alicdn.com/imgextra/i1/545015033/O1CN01tiF2wu1n39wYQTDkU_!!545015033.jpg',\n",
       "    'gd2.alicdn.com/imgextra/i3/545015033/TB2YH6YtpXXXXcHXXXXXXXXXXXX_!!545015033.jpg',\n",
       "    'gd1.alicdn.com/imgextra/i4/545015033/TB2ZMDuuXXXXXbJXXXXXXXXXXXX_!!545015033.jpg',\n",
       "    'gd2.alicdn.com/imgextra/i3/545015033/O1CN011zDYcp1n39zpjqMJk_!!545015033.jpg',\n",
       "    'gd1.alicdn.com/imgextra/i2/545015033/O1CN01A8l8UQ1n39zn1v8WJ_!!545015033.jpg',\n",
       "    'gd2.alicdn.com/imgextra/i2/545015033/O1CN01l8wMCg1n39wXH8Kl4_!!545015033.jpg',\n",
       "    'gd4.alicdn.com/imgextra/i1/545015033/O1CN01jSoPsr1n39wWVgh7p_!!545015033.jpg',\n",
       "    'gd1.alicdn.com/imgextra/i2/545015033/O1CN01FjMPTH1n39wVVX2Yl_!!545015033.jpg',\n",
       "    'gd2.alicdn.com/imgextra/i4/545015033/O1CN01EwoXKl1n39wX9d4pI_!!545015033.jpg',\n",
       "    'gd4.alicdn.com/imgextra/i3/545015033/O1CN01cG0qfP1n39wURJDAk_!!545015033.jpg',\n",
       "    'gd2.alicdn.com/imgextra/i4/545015033/O1CN01j1AmaC1n39x6oHCLX_!!545015033.jpg',\n",
       "    'gd2.alicdn.com/imgextra/i2/545015033/O1CN011n39r6FohWe4Ovy_!!545015033.jpg',\n",
       "    'gd2.alicdn.com/imgextra/i1/545015033/O1CN01M9cECF1n39wa8mDya_!!545015033.jpg',\n",
       "    'gd2.alicdn.com/imgextra/i3/545015033/TB2w13OmBsmBKNjSZFsXXaXSVXa_!!545015033.jpg',\n",
       "    'gd1.alicdn.com/imgextra/i4/545015033/O1CN010oakgh1n39wLaY4XX_!!545015033.jpg',\n",
       "    'gd1.alicdn.com/imgextra/i4/545015033/O1CN01KfQSrJ1n39wWvLmlA_!!545015033.jpg',\n",
       "    'gd2.alicdn.com/imgextra/i4/545015033/TB2eXerqv9TBuNjy0FcXXbeiFXa_!!545015033.jpg',\n",
       "    'gd2.alicdn.com/imgextra/i4/545015033/O1CN01mPn1ir1n39zu5Uazr_!!545015033.jpg',\n",
       "    'gd3.alicdn.com/imgextra/i4/545015033/O1CN01p71Onc1n39ztmqffc_!!545015033.jpg',\n",
       "    'gd4.alicdn.com/imgextra/i3/545015033/O1CN01BFGrlt1n39zhNP3tv_!!545015033.jpg',\n",
       "    'gd1.alicdn.com/imgextra/i1/545015033/O1CN01QcxGLV1n39zrNEdIa_!!545015033.jpg',\n",
       "    'gd2.alicdn.com/imgextra/i3/545015033/O1CN01w6wN1Y1n39zhNN7NL_!!545015033.jpg',\n",
       "    'gd2.alicdn.com/imgextra/i1/545015033/O1CN01kFyPGu1n39znPtEN1_!!545015033.jpg',\n",
       "    'gd2.alicdn.com/imgextra/i1/545015033/O1CN01l4yGnZ1n39ztmpGM7_!!545015033.jpg',\n",
       "    'gd4.alicdn.com/imgextra/i3/545015033/O1CN01Vkn5fJ1n39zps8kLD_!!545015033.jpg',\n",
       "    'gd1.alicdn.com/imgextra/i2/545015033/O1CN01fp6djm1n39zpNecsV_!!545015033.jpg',\n",
       "    'gd2.alicdn.com/imgextra/i2/545015033/O1CN010566Qu1n39zsSpAWP_!!545015033.jpg',\n",
       "    'gd1.alicdn.com/imgextra/i1/545015033/O1CN01hSQZ3t1n39zpkwZCb_!!545015033.jpg']}]}"
      ]
     },
     "execution_count": 129,
     "metadata": {},
     "output_type": "execute_result"
    }
   ],
   "source": [
    "taobao_item"
   ]
  },
  {
   "cell_type": "code",
   "execution_count": null,
   "metadata": {},
   "outputs": [],
   "source": []
  },
  {
   "cell_type": "code",
   "execution_count": null,
   "metadata": {},
   "outputs": [],
   "source": []
  },
  {
   "cell_type": "code",
   "execution_count": null,
   "metadata": {},
   "outputs": [],
   "source": []
  },
  {
   "cell_type": "code",
   "execution_count": null,
   "metadata": {},
   "outputs": [],
   "source": []
  },
  {
   "cell_type": "code",
   "execution_count": null,
   "metadata": {},
   "outputs": [],
   "source": []
  },
  {
   "cell_type": "markdown",
   "metadata": {},
   "source": [
    "# tmall request 활용"
   ]
  },
  {
   "cell_type": "code",
   "execution_count": 118,
   "metadata": {
    "ExecuteTime": {
     "end_time": "2020-06-13T07:41:17.755353Z",
     "start_time": "2020-06-13T07:41:05.769941Z"
    }
   },
   "outputs": [],
   "source": [
    "from selenium import webdriver\n",
    "from scrapy.http import TextResponse     \n",
    "from fake_useragent import UserAgent\n",
    "\n",
    "import requests\n",
    "import pickle\n",
    "\n",
    "driver = webdriver.Chrome('./chromedriver')\n",
    "driver.get(\"https://www.taobao.com\")\n",
    "\n",
    "\n",
    "f = open('cookie_taobao.dat', 'rb') \n",
    "cookies = pickle.load(f) \n",
    "for cookie in cookies:\n",
    "    driver.add_cookie(cookie)\n",
    "\n",
    "driver.get(\"https://item.taobao.com/item.htm?id={}\".format(itemId))   \n",
    "\n",
    "result = {}\n",
    "result['item_id'] = itemId\n",
    "\n",
    "# 할인 가격\n",
    "try:\n",
    "    result['promo_price'] = driver.find_element_by_xpath('//*[@id=\"J_PromoPrice\"]/dd/div/span').text\n",
    "except:\n",
    "    result['promo_price'] = '할인 가격 없음'\n",
    "\n",
    "driver.quit()\n",
    "\n",
    "url = \"https://item.taobao.com/item.htm?id={}\".format(itemId)\n",
    "\n",
    "ua = UserAgent(verify_ssl=False)\n",
    "userAgent = ua.random\n",
    "\n",
    "headers = {\n",
    "    'User-Agent': userAgent\n",
    "}\n",
    "response = requests.get(url=url, headers=headers)\n",
    "req = TextResponse(response.url, body=response.text, encoding=\"utf-8\")\n",
    "\n",
    "# item_title\n",
    "result['item_title'] = req.xpath('//*[@id=\"J_DetailMeta\"]/div[@class=\"tm-clear\"]/div[@class=\"tb-property\"]/div/div[@class=\"tb-detail-hd\"]/h1/text()').extract_first().strip()\n",
    "\n",
    "option_path = req.xpath('//*[@id=\"J_DetailMeta\"]/div/div/div/div[@class=\"tb-key\"]/div[@class=\"tb-skin\"]/div[@class=\"tb-sku\"]/dl[contains(@class, \"tm-sale-prop\") and contains(@class, \"tb-prop\") and contains(@class, \"tm-clear\")]')\n",
    "\n",
    "option_ls = []\n",
    "for path in option_path:\n",
    "    option = {}\n",
    "    option['option_title'] = path.xpath('dt/text()').extract_first()\n",
    "    option['option_detail'] = path.xpath('dd/ul/li/a/span/text()').extract()\n",
    "    image_elements = path.xpath('dd/ul[contains(@class, \"tb-img\")]/li/a')\n",
    "    option['option_image_urls'] = [element.xpath('@style').extract_first()[19:-40] for element in image_elements]\n",
    "    option_ls.append(option)\n",
    "    result['options'] = option_ls"
   ]
  },
  {
   "cell_type": "code",
   "execution_count": 123,
   "metadata": {
    "ExecuteTime": {
     "end_time": "2020-06-13T07:41:22.298815Z",
     "start_time": "2020-06-13T07:41:22.293195Z"
    }
   },
   "outputs": [
    {
     "data": {
      "text/plain": [
       "{'item_id': 594650607691,\n",
       " 'promo_price': '118.00',\n",
       " 'item_title': '啄木鸟 丝光棉夏季男士短袖翻领t恤口袋有领中年爸爸装Polo衫大码',\n",
       " 'options': [{'option_title': '尺码',\n",
       "   'option_detail': ['165/S',\n",
       "    '170/M',\n",
       "    '175/L',\n",
       "    '180/XL',\n",
       "    '185/XXL',\n",
       "    '190/3XL'],\n",
       "   'option_image_urls': []},\n",
       "  {'option_title': '颜色',\n",
       "   'option_detail': ['ZMN7102-宝蓝', 'ZMN7102-白色', 'ZMN7102-酒红色', 'ZMN7102-灰色'],\n",
       "   'option_image_urls': ['g.alicdn.com/imgextra/i3/2997589458/O1CN01K4KHx82JjoWAy7mTB_!!299758',\n",
       "    'g.alicdn.com/imgextra/i2/2997589458/O1CN01FCMild2JjoWA7LyYw_!!299758',\n",
       "    'g.alicdn.com/imgextra/i2/2997589458/O1CN01zwiVj62JjoW7iZYMd_!!299758',\n",
       "    'g.alicdn.com/imgextra/i2/2997589458/O1CN01A2jmnN2JjoW9ExK8X_!!299758']}]}"
      ]
     },
     "execution_count": 123,
     "metadata": {},
     "output_type": "execute_result"
    }
   ],
   "source": [
    "result"
   ]
  },
  {
   "cell_type": "code",
   "execution_count": null,
   "metadata": {},
   "outputs": [],
   "source": []
  },
  {
   "cell_type": "code",
   "execution_count": null,
   "metadata": {},
   "outputs": [],
   "source": []
  },
  {
   "cell_type": "code",
   "execution_count": null,
   "metadata": {},
   "outputs": [],
   "source": []
  },
  {
   "cell_type": "code",
   "execution_count": 1,
   "metadata": {
    "ExecuteTime": {
     "end_time": "2020-06-12T09:24:43.983623Z",
     "start_time": "2020-06-12T09:24:43.981377Z"
    }
   },
   "outputs": [],
   "source": [
    "# tmall\n",
    "itemid = \"38012241391\""
   ]
  },
  {
   "cell_type": "code",
   "execution_count": 4,
   "metadata": {
    "ExecuteTime": {
     "end_time": "2020-06-12T09:25:03.334457Z",
     "start_time": "2020-06-12T09:25:03.332046Z"
    }
   },
   "outputs": [],
   "source": [
    "# taobao\n",
    "itemid = \"524341898973\""
   ]
  },
  {
   "cell_type": "code",
   "execution_count": 5,
   "metadata": {
    "ExecuteTime": {
     "end_time": "2020-06-12T09:25:13.475247Z",
     "start_time": "2020-06-12T09:25:04.479635Z"
    }
   },
   "outputs": [],
   "source": [
    "from selenium import webdriver\n",
    "from fake_useragent import UserAgent\n",
    "\n",
    "# userAgent 설정\n",
    "ua = UserAgent(verify_ssl=False)\n",
    "userAgent = ua.random\n",
    "headers = {\n",
    "    'User-Agent': userAgent\n",
    "}\n",
    "options = webdriver.ChromeOptions()\n",
    "options.add_argument(userAgent)\n",
    "\n",
    "\n",
    "driver = webdriver.Chrome('./chromedriver',options = options)\n",
    "driver.get(\"https://item.taobao.com/item.htm?id={}\".format(itemid))\n",
    "\n",
    "# alert 창 제어\n",
    "try:\n",
    "    alert = driver.switch_to_alert()\n",
    "    alert.accept()\n",
    "    current_url = driver.current_url\n",
    "except:\n",
    "    current_url = driver.current_url\n",
    "\n",
    "    \n",
    "driver.quit()"
   ]
  },
  {
   "cell_type": "code",
   "execution_count": 4,
   "metadata": {
    "ExecuteTime": {
     "end_time": "2020-06-12T09:20:08.603003Z",
     "start_time": "2020-06-12T09:20:08.589466Z"
    }
   },
   "outputs": [],
   "source": [
    "def tmall_crawler(itemid, driver):\n",
    "    import pickle\n",
    "    # 쿠키 복원\n",
    "    f = open('cookie_taobao.dat', 'rb') \n",
    "    cookies = pickle.load(f) \n",
    "    for c in cookies: \n",
    "        driver.add_cookie(c)\n",
    "    driver.implicitly_wait(1)\n",
    "    driver.get(\"https://item.taobao.com/item.htm?id={}\".format(itemid))\n",
    "    \n",
    "    result = {}\n",
    "    result['item_id'] = itemid\n",
    "    result['item_title'] = driver.find_element_by_xpath('//*[@id=\"J_DetailMeta\"]/div[1]/div[1]/div/div[1]/h1').text\n",
    "    result['og_price'] = driver.find_element_by_xpath('//*[@id=\"J_StrPriceModBox\"]/dd/span').text\n",
    "    result['promo_price'] = driver.find_element_by_xpath('//*[@id=\"J_PromoPrice\"]/dd/div/span').text\n",
    "    option_path = driver.find_elements_by_xpath('//*[@id=\"J_DetailMeta\"]/div/div/div/div[@class=\"tb-key\"]/div[@class=\"tb-skin\"]/div[@class=\"tb-sku\"]/dl[contains(@class, \"tm-sale-prop\") and contains(@class, \"tb-prop\") and contains(@class, \"tm-clear\")]')\n",
    "    option_ls = []\n",
    "    for path in option_path:\n",
    "        option = {}\n",
    "        option['option_title'] = path.find_element_by_xpath('dt').text\n",
    "        option['oprion_detail'] = path.find_element_by_xpath('dd/ul').text.split('\\n')\n",
    "        image_elements = path.find_elements_by_xpath('dd/ul[contains(@class, \"tb-img\")]/li/a')\n",
    "        option['option_image_urls'] = [element.get_attribute('style')[19:-40] for element in image_elements]\n",
    "        option_ls.append(option)\n",
    "        result['options'] = option_ls\n",
    "        driver.quit()\n",
    "    return result\n"
   ]
  },
  {
   "cell_type": "code",
   "execution_count": 5,
   "metadata": {
    "ExecuteTime": {
     "end_time": "2020-06-12T09:20:08.617343Z",
     "start_time": "2020-06-12T09:20:08.605740Z"
    }
   },
   "outputs": [],
   "source": [
    "def taobao_crawler(itemId,driver):\n",
    "    result = {}\n",
    "    result['itemID'] = itemId\n",
    "    \n",
    "    # 패키지 임포트\n",
    "    from selenium import webdriver\n",
    "    from scrapy.http import TextResponse     \n",
    "    from fake_useragent import UserAgent\n",
    "    \n",
    "    import pickle\n",
    "    import requests\n",
    "    import re\n",
    "    \n",
    "#     driver = webdriver.Chrome('./chromedriver')\n",
    "#     driver.get(\"https://www.taobao.com\")\n",
    "    \n",
    "    # 쿠키 복원\n",
    "    f = open('cookie_taobao.dat', 'rb') \n",
    "    cookies = pickle.load(f) \n",
    "    for cookie in cookies:\n",
    "        driver.add_cookie(cookie)\n",
    "        \n",
    "    driver.get(\"https://item.taobao.com/item.htm?id={}\".format(itemId))   \n",
    "\n",
    "    # 할인 가격\n",
    "    try:\n",
    "        result['promo_price'] = driver.find_element_by_css_selector('#J_PromoPriceNum').text\n",
    "    except:\n",
    "        result['promo_price'] = '할인 가격 없음'\n",
    "        \n",
    "    driver.quit()\n",
    "    \n",
    "    ua = UserAgent(verify_ssl=False)\n",
    "    userAgent = ua.random\n",
    "    \n",
    "    headers = {\n",
    "        'User-Agent': userAgent\n",
    "    }\n",
    "\n",
    "    url = \"https://item.taobao.com/item.htm?id={}\".format(itemId)\n",
    "\n",
    "    # https://stackoverflow.com/questions/32910093/python-requests-gets-tlsv1-alert-internal-err\n",
    "    requests.packages.urllib3.util.ssl_.DEFAULT_CIPHERS = 'DH+AESGCM:ECDH+AES256:DH+AES256:ECDH+AES128:DH+AES:ECDH+HIGH:DH+HIGH:ECDH+3DES:DH+3DES:RSA+AESGCM:RSA+AES:RSA+HIGH:RSA+3DES:!aNULL:!eNULL:!MD5'\n",
    "\n",
    "    response = requests.get(url=url, headers=headers)\n",
    "    req = TextResponse(response.url, body=response.text, encoding=\"utf-8\")\n",
    "    \n",
    "    # Taobao\n",
    "    if len(req.xpath('//div[contains(@class, \"tm-style-detail\")]')) != 1:\n",
    "        result['item_name'] = req.xpath('//*[@id=\"J_Title\"]/h3/@data-title').extract_first()\n",
    "\n",
    "        option_title = req.xpath('//*[@id=\"J_isku\"]/div/dl/dd/ul/@data-property').extract()\n",
    "        r = []\n",
    "        for title in option_title:\n",
    "            j = {}\n",
    "            j['option_title'] = title\n",
    "            j['option_details'] = req.xpath('//*[@id=\"J_isku\"]/div/dl/dd/ul[@data-property=\"{}\"]/li/a/span/text()'.format(title)).extract()\n",
    "            j['option_image_urls'] = [path[17:-29] for path in req.xpath('//*[@id=\"J_isku\"]/div/dl/dd/ul[@data-property=\"{}\"]/li/a/@style'.format(title)).extract()]\n",
    "            r.append(j)\n",
    "\n",
    "        result['options'] = r\n",
    "        \n",
    "    return result"
   ]
  },
  {
   "cell_type": "markdown",
   "metadata": {},
   "source": [
    "## T-mall or Taobao"
   ]
  },
  {
   "cell_type": "code",
   "execution_count": 6,
   "metadata": {
    "ExecuteTime": {
     "end_time": "2020-06-12T09:20:09.185353Z",
     "start_time": "2020-06-12T09:20:08.619718Z"
    }
   },
   "outputs": [
    {
     "ename": "MaxRetryError",
     "evalue": "HTTPConnectionPool(host='127.0.0.1', port=51417): Max retries exceeded with url: /session/0029e89890ef399ace27174cea15ecfe/cookie (Caused by NewConnectionError('<urllib3.connection.HTTPConnection object at 0x1c1e1a42d0>: Failed to establish a new connection: [Errno 61] Connection refused'))",
     "output_type": "error",
     "traceback": [
      "\u001b[0;31m---------------------------------------------------------------------------\u001b[0m",
      "\u001b[0;31mConnectionRefusedError\u001b[0m                    Traceback (most recent call last)",
      "\u001b[0;32m~/opt/anaconda3/envs/fastcampus/lib/python3.7/site-packages/urllib3/connection.py\u001b[0m in \u001b[0;36m_new_conn\u001b[0;34m(self)\u001b[0m\n\u001b[1;32m    158\u001b[0m             conn = connection.create_connection(\n\u001b[0;32m--> 159\u001b[0;31m                 (self._dns_host, self.port), self.timeout, **extra_kw)\n\u001b[0m\u001b[1;32m    160\u001b[0m \u001b[0;34m\u001b[0m\u001b[0m\n",
      "\u001b[0;32m~/opt/anaconda3/envs/fastcampus/lib/python3.7/site-packages/urllib3/util/connection.py\u001b[0m in \u001b[0;36mcreate_connection\u001b[0;34m(address, timeout, source_address, socket_options)\u001b[0m\n\u001b[1;32m     79\u001b[0m     \u001b[0;32mif\u001b[0m \u001b[0merr\u001b[0m \u001b[0;32mis\u001b[0m \u001b[0;32mnot\u001b[0m \u001b[0;32mNone\u001b[0m\u001b[0;34m:\u001b[0m\u001b[0;34m\u001b[0m\u001b[0;34m\u001b[0m\u001b[0m\n\u001b[0;32m---> 80\u001b[0;31m         \u001b[0;32mraise\u001b[0m \u001b[0merr\u001b[0m\u001b[0;34m\u001b[0m\u001b[0;34m\u001b[0m\u001b[0m\n\u001b[0m\u001b[1;32m     81\u001b[0m \u001b[0;34m\u001b[0m\u001b[0m\n",
      "\u001b[0;32m~/opt/anaconda3/envs/fastcampus/lib/python3.7/site-packages/urllib3/util/connection.py\u001b[0m in \u001b[0;36mcreate_connection\u001b[0;34m(address, timeout, source_address, socket_options)\u001b[0m\n\u001b[1;32m     69\u001b[0m                 \u001b[0msock\u001b[0m\u001b[0;34m.\u001b[0m\u001b[0mbind\u001b[0m\u001b[0;34m(\u001b[0m\u001b[0msource_address\u001b[0m\u001b[0;34m)\u001b[0m\u001b[0;34m\u001b[0m\u001b[0;34m\u001b[0m\u001b[0m\n\u001b[0;32m---> 70\u001b[0;31m             \u001b[0msock\u001b[0m\u001b[0;34m.\u001b[0m\u001b[0mconnect\u001b[0m\u001b[0;34m(\u001b[0m\u001b[0msa\u001b[0m\u001b[0;34m)\u001b[0m\u001b[0;34m\u001b[0m\u001b[0;34m\u001b[0m\u001b[0m\n\u001b[0m\u001b[1;32m     71\u001b[0m             \u001b[0;32mreturn\u001b[0m \u001b[0msock\u001b[0m\u001b[0;34m\u001b[0m\u001b[0;34m\u001b[0m\u001b[0m\n",
      "\u001b[0;31mConnectionRefusedError\u001b[0m: [Errno 61] Connection refused",
      "\nDuring handling of the above exception, another exception occurred:\n",
      "\u001b[0;31mNewConnectionError\u001b[0m                        Traceback (most recent call last)",
      "\u001b[0;32m~/opt/anaconda3/envs/fastcampus/lib/python3.7/site-packages/urllib3/connectionpool.py\u001b[0m in \u001b[0;36murlopen\u001b[0;34m(self, method, url, body, headers, retries, redirect, assert_same_host, timeout, pool_timeout, release_conn, chunked, body_pos, **response_kw)\u001b[0m\n\u001b[1;32m    599\u001b[0m                                                   \u001b[0mbody\u001b[0m\u001b[0;34m=\u001b[0m\u001b[0mbody\u001b[0m\u001b[0;34m,\u001b[0m \u001b[0mheaders\u001b[0m\u001b[0;34m=\u001b[0m\u001b[0mheaders\u001b[0m\u001b[0;34m,\u001b[0m\u001b[0;34m\u001b[0m\u001b[0;34m\u001b[0m\u001b[0m\n\u001b[0;32m--> 600\u001b[0;31m                                                   chunked=chunked)\n\u001b[0m\u001b[1;32m    601\u001b[0m \u001b[0;34m\u001b[0m\u001b[0m\n",
      "\u001b[0;32m~/opt/anaconda3/envs/fastcampus/lib/python3.7/site-packages/urllib3/connectionpool.py\u001b[0m in \u001b[0;36m_make_request\u001b[0;34m(self, conn, method, url, timeout, chunked, **httplib_request_kw)\u001b[0m\n\u001b[1;32m    353\u001b[0m         \u001b[0;32melse\u001b[0m\u001b[0;34m:\u001b[0m\u001b[0;34m\u001b[0m\u001b[0;34m\u001b[0m\u001b[0m\n\u001b[0;32m--> 354\u001b[0;31m             \u001b[0mconn\u001b[0m\u001b[0;34m.\u001b[0m\u001b[0mrequest\u001b[0m\u001b[0;34m(\u001b[0m\u001b[0mmethod\u001b[0m\u001b[0;34m,\u001b[0m \u001b[0murl\u001b[0m\u001b[0;34m,\u001b[0m \u001b[0;34m**\u001b[0m\u001b[0mhttplib_request_kw\u001b[0m\u001b[0;34m)\u001b[0m\u001b[0;34m\u001b[0m\u001b[0;34m\u001b[0m\u001b[0m\n\u001b[0m\u001b[1;32m    355\u001b[0m \u001b[0;34m\u001b[0m\u001b[0m\n",
      "\u001b[0;32m~/opt/anaconda3/envs/fastcampus/lib/python3.7/http/client.py\u001b[0m in \u001b[0;36mrequest\u001b[0;34m(self, method, url, body, headers, encode_chunked)\u001b[0m\n\u001b[1;32m   1243\u001b[0m         \u001b[0;34m\"\"\"Send a complete request to the server.\"\"\"\u001b[0m\u001b[0;34m\u001b[0m\u001b[0;34m\u001b[0m\u001b[0m\n\u001b[0;32m-> 1244\u001b[0;31m         \u001b[0mself\u001b[0m\u001b[0;34m.\u001b[0m\u001b[0m_send_request\u001b[0m\u001b[0;34m(\u001b[0m\u001b[0mmethod\u001b[0m\u001b[0;34m,\u001b[0m \u001b[0murl\u001b[0m\u001b[0;34m,\u001b[0m \u001b[0mbody\u001b[0m\u001b[0;34m,\u001b[0m \u001b[0mheaders\u001b[0m\u001b[0;34m,\u001b[0m \u001b[0mencode_chunked\u001b[0m\u001b[0;34m)\u001b[0m\u001b[0;34m\u001b[0m\u001b[0;34m\u001b[0m\u001b[0m\n\u001b[0m\u001b[1;32m   1245\u001b[0m \u001b[0;34m\u001b[0m\u001b[0m\n",
      "\u001b[0;32m~/opt/anaconda3/envs/fastcampus/lib/python3.7/http/client.py\u001b[0m in \u001b[0;36m_send_request\u001b[0;34m(self, method, url, body, headers, encode_chunked)\u001b[0m\n\u001b[1;32m   1289\u001b[0m             \u001b[0mbody\u001b[0m \u001b[0;34m=\u001b[0m \u001b[0m_encode\u001b[0m\u001b[0;34m(\u001b[0m\u001b[0mbody\u001b[0m\u001b[0;34m,\u001b[0m \u001b[0;34m'body'\u001b[0m\u001b[0;34m)\u001b[0m\u001b[0;34m\u001b[0m\u001b[0;34m\u001b[0m\u001b[0m\n\u001b[0;32m-> 1290\u001b[0;31m         \u001b[0mself\u001b[0m\u001b[0;34m.\u001b[0m\u001b[0mendheaders\u001b[0m\u001b[0;34m(\u001b[0m\u001b[0mbody\u001b[0m\u001b[0;34m,\u001b[0m \u001b[0mencode_chunked\u001b[0m\u001b[0;34m=\u001b[0m\u001b[0mencode_chunked\u001b[0m\u001b[0;34m)\u001b[0m\u001b[0;34m\u001b[0m\u001b[0;34m\u001b[0m\u001b[0m\n\u001b[0m\u001b[1;32m   1291\u001b[0m \u001b[0;34m\u001b[0m\u001b[0m\n",
      "\u001b[0;32m~/opt/anaconda3/envs/fastcampus/lib/python3.7/http/client.py\u001b[0m in \u001b[0;36mendheaders\u001b[0;34m(self, message_body, encode_chunked)\u001b[0m\n\u001b[1;32m   1238\u001b[0m             \u001b[0;32mraise\u001b[0m \u001b[0mCannotSendHeader\u001b[0m\u001b[0;34m(\u001b[0m\u001b[0;34m)\u001b[0m\u001b[0;34m\u001b[0m\u001b[0;34m\u001b[0m\u001b[0m\n\u001b[0;32m-> 1239\u001b[0;31m         \u001b[0mself\u001b[0m\u001b[0;34m.\u001b[0m\u001b[0m_send_output\u001b[0m\u001b[0;34m(\u001b[0m\u001b[0mmessage_body\u001b[0m\u001b[0;34m,\u001b[0m \u001b[0mencode_chunked\u001b[0m\u001b[0;34m=\u001b[0m\u001b[0mencode_chunked\u001b[0m\u001b[0;34m)\u001b[0m\u001b[0;34m\u001b[0m\u001b[0;34m\u001b[0m\u001b[0m\n\u001b[0m\u001b[1;32m   1240\u001b[0m \u001b[0;34m\u001b[0m\u001b[0m\n",
      "\u001b[0;32m~/opt/anaconda3/envs/fastcampus/lib/python3.7/http/client.py\u001b[0m in \u001b[0;36m_send_output\u001b[0;34m(self, message_body, encode_chunked)\u001b[0m\n\u001b[1;32m   1025\u001b[0m         \u001b[0;32mdel\u001b[0m \u001b[0mself\u001b[0m\u001b[0;34m.\u001b[0m\u001b[0m_buffer\u001b[0m\u001b[0;34m[\u001b[0m\u001b[0;34m:\u001b[0m\u001b[0;34m]\u001b[0m\u001b[0;34m\u001b[0m\u001b[0;34m\u001b[0m\u001b[0m\n\u001b[0;32m-> 1026\u001b[0;31m         \u001b[0mself\u001b[0m\u001b[0;34m.\u001b[0m\u001b[0msend\u001b[0m\u001b[0;34m(\u001b[0m\u001b[0mmsg\u001b[0m\u001b[0;34m)\u001b[0m\u001b[0;34m\u001b[0m\u001b[0;34m\u001b[0m\u001b[0m\n\u001b[0m\u001b[1;32m   1027\u001b[0m \u001b[0;34m\u001b[0m\u001b[0m\n",
      "\u001b[0;32m~/opt/anaconda3/envs/fastcampus/lib/python3.7/http/client.py\u001b[0m in \u001b[0;36msend\u001b[0;34m(self, data)\u001b[0m\n\u001b[1;32m    965\u001b[0m             \u001b[0;32mif\u001b[0m \u001b[0mself\u001b[0m\u001b[0;34m.\u001b[0m\u001b[0mauto_open\u001b[0m\u001b[0;34m:\u001b[0m\u001b[0;34m\u001b[0m\u001b[0;34m\u001b[0m\u001b[0m\n\u001b[0;32m--> 966\u001b[0;31m                 \u001b[0mself\u001b[0m\u001b[0;34m.\u001b[0m\u001b[0mconnect\u001b[0m\u001b[0;34m(\u001b[0m\u001b[0;34m)\u001b[0m\u001b[0;34m\u001b[0m\u001b[0;34m\u001b[0m\u001b[0m\n\u001b[0m\u001b[1;32m    967\u001b[0m             \u001b[0;32melse\u001b[0m\u001b[0;34m:\u001b[0m\u001b[0;34m\u001b[0m\u001b[0;34m\u001b[0m\u001b[0m\n",
      "\u001b[0;32m~/opt/anaconda3/envs/fastcampus/lib/python3.7/site-packages/urllib3/connection.py\u001b[0m in \u001b[0;36mconnect\u001b[0;34m(self)\u001b[0m\n\u001b[1;32m    180\u001b[0m     \u001b[0;32mdef\u001b[0m \u001b[0mconnect\u001b[0m\u001b[0;34m(\u001b[0m\u001b[0mself\u001b[0m\u001b[0;34m)\u001b[0m\u001b[0;34m:\u001b[0m\u001b[0;34m\u001b[0m\u001b[0;34m\u001b[0m\u001b[0m\n\u001b[0;32m--> 181\u001b[0;31m         \u001b[0mconn\u001b[0m \u001b[0;34m=\u001b[0m \u001b[0mself\u001b[0m\u001b[0;34m.\u001b[0m\u001b[0m_new_conn\u001b[0m\u001b[0;34m(\u001b[0m\u001b[0;34m)\u001b[0m\u001b[0;34m\u001b[0m\u001b[0;34m\u001b[0m\u001b[0m\n\u001b[0m\u001b[1;32m    182\u001b[0m         \u001b[0mself\u001b[0m\u001b[0;34m.\u001b[0m\u001b[0m_prepare_conn\u001b[0m\u001b[0;34m(\u001b[0m\u001b[0mconn\u001b[0m\u001b[0;34m)\u001b[0m\u001b[0;34m\u001b[0m\u001b[0;34m\u001b[0m\u001b[0m\n",
      "\u001b[0;32m~/opt/anaconda3/envs/fastcampus/lib/python3.7/site-packages/urllib3/connection.py\u001b[0m in \u001b[0;36m_new_conn\u001b[0;34m(self)\u001b[0m\n\u001b[1;32m    167\u001b[0m             raise NewConnectionError(\n\u001b[0;32m--> 168\u001b[0;31m                 self, \"Failed to establish a new connection: %s\" % e)\n\u001b[0m\u001b[1;32m    169\u001b[0m \u001b[0;34m\u001b[0m\u001b[0m\n",
      "\u001b[0;31mNewConnectionError\u001b[0m: <urllib3.connection.HTTPConnection object at 0x1c1e1a42d0>: Failed to establish a new connection: [Errno 61] Connection refused",
      "\nDuring handling of the above exception, another exception occurred:\n",
      "\u001b[0;31mMaxRetryError\u001b[0m                             Traceback (most recent call last)",
      "\u001b[0;32m<ipython-input-6-049f6786a0cb>\u001b[0m in \u001b[0;36m<module>\u001b[0;34m\u001b[0m\n\u001b[1;32m      2\u001b[0m     \u001b[0mresult\u001b[0m \u001b[0;34m=\u001b[0m \u001b[0mtmall_crawler\u001b[0m\u001b[0;34m(\u001b[0m\u001b[0mitemid\u001b[0m\u001b[0;34m,\u001b[0m \u001b[0mdriver\u001b[0m\u001b[0;34m)\u001b[0m\u001b[0;34m\u001b[0m\u001b[0;34m\u001b[0m\u001b[0m\n\u001b[1;32m      3\u001b[0m \u001b[0;32melse\u001b[0m\u001b[0;34m:\u001b[0m\u001b[0;34m\u001b[0m\u001b[0;34m\u001b[0m\u001b[0m\n\u001b[0;32m----> 4\u001b[0;31m     \u001b[0mresult\u001b[0m \u001b[0;34m=\u001b[0m \u001b[0mtaobao_crawler\u001b[0m\u001b[0;34m(\u001b[0m\u001b[0mitemid\u001b[0m\u001b[0;34m,\u001b[0m \u001b[0mdriver\u001b[0m\u001b[0;34m)\u001b[0m\u001b[0;34m\u001b[0m\u001b[0;34m\u001b[0m\u001b[0m\n\u001b[0m",
      "\u001b[0;32m<ipython-input-5-d6b6068666c7>\u001b[0m in \u001b[0;36mtaobao_crawler\u001b[0;34m(itemId, driver)\u001b[0m\n\u001b[1;32m     19\u001b[0m     \u001b[0mcookies\u001b[0m \u001b[0;34m=\u001b[0m \u001b[0mpickle\u001b[0m\u001b[0;34m.\u001b[0m\u001b[0mload\u001b[0m\u001b[0;34m(\u001b[0m\u001b[0mf\u001b[0m\u001b[0;34m)\u001b[0m\u001b[0;34m\u001b[0m\u001b[0;34m\u001b[0m\u001b[0m\n\u001b[1;32m     20\u001b[0m     \u001b[0;32mfor\u001b[0m \u001b[0mcookie\u001b[0m \u001b[0;32min\u001b[0m \u001b[0mcookies\u001b[0m\u001b[0;34m:\u001b[0m\u001b[0;34m\u001b[0m\u001b[0;34m\u001b[0m\u001b[0m\n\u001b[0;32m---> 21\u001b[0;31m         \u001b[0mdriver\u001b[0m\u001b[0;34m.\u001b[0m\u001b[0madd_cookie\u001b[0m\u001b[0;34m(\u001b[0m\u001b[0mcookie\u001b[0m\u001b[0;34m)\u001b[0m\u001b[0;34m\u001b[0m\u001b[0;34m\u001b[0m\u001b[0m\n\u001b[0m\u001b[1;32m     22\u001b[0m \u001b[0;34m\u001b[0m\u001b[0m\n\u001b[1;32m     23\u001b[0m     \u001b[0mdriver\u001b[0m\u001b[0;34m.\u001b[0m\u001b[0mget\u001b[0m\u001b[0;34m(\u001b[0m\u001b[0;34m\"https://item.taobao.com/item.htm?id={}\"\u001b[0m\u001b[0;34m.\u001b[0m\u001b[0mformat\u001b[0m\u001b[0;34m(\u001b[0m\u001b[0mitemId\u001b[0m\u001b[0;34m)\u001b[0m\u001b[0;34m)\u001b[0m\u001b[0;34m\u001b[0m\u001b[0;34m\u001b[0m\u001b[0m\n",
      "\u001b[0;32m~/opt/anaconda3/envs/fastcampus/lib/python3.7/site-packages/selenium/webdriver/remote/webdriver.py\u001b[0m in \u001b[0;36madd_cookie\u001b[0;34m(self, cookie_dict)\u001b[0m\n\u001b[1;32m    892\u001b[0m \u001b[0;34m\u001b[0m\u001b[0m\n\u001b[1;32m    893\u001b[0m         \"\"\"\n\u001b[0;32m--> 894\u001b[0;31m         \u001b[0mself\u001b[0m\u001b[0;34m.\u001b[0m\u001b[0mexecute\u001b[0m\u001b[0;34m(\u001b[0m\u001b[0mCommand\u001b[0m\u001b[0;34m.\u001b[0m\u001b[0mADD_COOKIE\u001b[0m\u001b[0;34m,\u001b[0m \u001b[0;34m{\u001b[0m\u001b[0;34m'cookie'\u001b[0m\u001b[0;34m:\u001b[0m \u001b[0mcookie_dict\u001b[0m\u001b[0;34m}\u001b[0m\u001b[0;34m)\u001b[0m\u001b[0;34m\u001b[0m\u001b[0;34m\u001b[0m\u001b[0m\n\u001b[0m\u001b[1;32m    895\u001b[0m \u001b[0;34m\u001b[0m\u001b[0m\n\u001b[1;32m    896\u001b[0m     \u001b[0;31m# Timeouts\u001b[0m\u001b[0;34m\u001b[0m\u001b[0;34m\u001b[0m\u001b[0;34m\u001b[0m\u001b[0m\n",
      "\u001b[0;32m~/opt/anaconda3/envs/fastcampus/lib/python3.7/site-packages/selenium/webdriver/remote/webdriver.py\u001b[0m in \u001b[0;36mexecute\u001b[0;34m(self, driver_command, params)\u001b[0m\n\u001b[1;32m    317\u001b[0m \u001b[0;34m\u001b[0m\u001b[0m\n\u001b[1;32m    318\u001b[0m         \u001b[0mparams\u001b[0m \u001b[0;34m=\u001b[0m \u001b[0mself\u001b[0m\u001b[0;34m.\u001b[0m\u001b[0m_wrap_value\u001b[0m\u001b[0;34m(\u001b[0m\u001b[0mparams\u001b[0m\u001b[0;34m)\u001b[0m\u001b[0;34m\u001b[0m\u001b[0;34m\u001b[0m\u001b[0m\n\u001b[0;32m--> 319\u001b[0;31m         \u001b[0mresponse\u001b[0m \u001b[0;34m=\u001b[0m \u001b[0mself\u001b[0m\u001b[0;34m.\u001b[0m\u001b[0mcommand_executor\u001b[0m\u001b[0;34m.\u001b[0m\u001b[0mexecute\u001b[0m\u001b[0;34m(\u001b[0m\u001b[0mdriver_command\u001b[0m\u001b[0;34m,\u001b[0m \u001b[0mparams\u001b[0m\u001b[0;34m)\u001b[0m\u001b[0;34m\u001b[0m\u001b[0;34m\u001b[0m\u001b[0m\n\u001b[0m\u001b[1;32m    320\u001b[0m         \u001b[0;32mif\u001b[0m \u001b[0mresponse\u001b[0m\u001b[0;34m:\u001b[0m\u001b[0;34m\u001b[0m\u001b[0;34m\u001b[0m\u001b[0m\n\u001b[1;32m    321\u001b[0m             \u001b[0mself\u001b[0m\u001b[0;34m.\u001b[0m\u001b[0merror_handler\u001b[0m\u001b[0;34m.\u001b[0m\u001b[0mcheck_response\u001b[0m\u001b[0;34m(\u001b[0m\u001b[0mresponse\u001b[0m\u001b[0;34m)\u001b[0m\u001b[0;34m\u001b[0m\u001b[0;34m\u001b[0m\u001b[0m\n",
      "\u001b[0;32m~/opt/anaconda3/envs/fastcampus/lib/python3.7/site-packages/selenium/webdriver/remote/remote_connection.py\u001b[0m in \u001b[0;36mexecute\u001b[0;34m(self, command, params)\u001b[0m\n\u001b[1;32m    372\u001b[0m         \u001b[0mdata\u001b[0m \u001b[0;34m=\u001b[0m \u001b[0mutils\u001b[0m\u001b[0;34m.\u001b[0m\u001b[0mdump_json\u001b[0m\u001b[0;34m(\u001b[0m\u001b[0mparams\u001b[0m\u001b[0;34m)\u001b[0m\u001b[0;34m\u001b[0m\u001b[0;34m\u001b[0m\u001b[0m\n\u001b[1;32m    373\u001b[0m         \u001b[0murl\u001b[0m \u001b[0;34m=\u001b[0m \u001b[0;34m'%s%s'\u001b[0m \u001b[0;34m%\u001b[0m \u001b[0;34m(\u001b[0m\u001b[0mself\u001b[0m\u001b[0;34m.\u001b[0m\u001b[0m_url\u001b[0m\u001b[0;34m,\u001b[0m \u001b[0mpath\u001b[0m\u001b[0;34m)\u001b[0m\u001b[0;34m\u001b[0m\u001b[0;34m\u001b[0m\u001b[0m\n\u001b[0;32m--> 374\u001b[0;31m         \u001b[0;32mreturn\u001b[0m \u001b[0mself\u001b[0m\u001b[0;34m.\u001b[0m\u001b[0m_request\u001b[0m\u001b[0;34m(\u001b[0m\u001b[0mcommand_info\u001b[0m\u001b[0;34m[\u001b[0m\u001b[0;36m0\u001b[0m\u001b[0;34m]\u001b[0m\u001b[0;34m,\u001b[0m \u001b[0murl\u001b[0m\u001b[0;34m,\u001b[0m \u001b[0mbody\u001b[0m\u001b[0;34m=\u001b[0m\u001b[0mdata\u001b[0m\u001b[0;34m)\u001b[0m\u001b[0;34m\u001b[0m\u001b[0;34m\u001b[0m\u001b[0m\n\u001b[0m\u001b[1;32m    375\u001b[0m \u001b[0;34m\u001b[0m\u001b[0m\n\u001b[1;32m    376\u001b[0m     \u001b[0;32mdef\u001b[0m \u001b[0m_request\u001b[0m\u001b[0;34m(\u001b[0m\u001b[0mself\u001b[0m\u001b[0;34m,\u001b[0m \u001b[0mmethod\u001b[0m\u001b[0;34m,\u001b[0m \u001b[0murl\u001b[0m\u001b[0;34m,\u001b[0m \u001b[0mbody\u001b[0m\u001b[0;34m=\u001b[0m\u001b[0;32mNone\u001b[0m\u001b[0;34m)\u001b[0m\u001b[0;34m:\u001b[0m\u001b[0;34m\u001b[0m\u001b[0;34m\u001b[0m\u001b[0m\n",
      "\u001b[0;32m~/opt/anaconda3/envs/fastcampus/lib/python3.7/site-packages/selenium/webdriver/remote/remote_connection.py\u001b[0m in \u001b[0;36m_request\u001b[0;34m(self, method, url, body)\u001b[0m\n\u001b[1;32m    395\u001b[0m \u001b[0;34m\u001b[0m\u001b[0m\n\u001b[1;32m    396\u001b[0m         \u001b[0;32mif\u001b[0m \u001b[0mself\u001b[0m\u001b[0;34m.\u001b[0m\u001b[0mkeep_alive\u001b[0m\u001b[0;34m:\u001b[0m\u001b[0;34m\u001b[0m\u001b[0;34m\u001b[0m\u001b[0m\n\u001b[0;32m--> 397\u001b[0;31m             \u001b[0mresp\u001b[0m \u001b[0;34m=\u001b[0m \u001b[0mself\u001b[0m\u001b[0;34m.\u001b[0m\u001b[0m_conn\u001b[0m\u001b[0;34m.\u001b[0m\u001b[0mrequest\u001b[0m\u001b[0;34m(\u001b[0m\u001b[0mmethod\u001b[0m\u001b[0;34m,\u001b[0m \u001b[0murl\u001b[0m\u001b[0;34m,\u001b[0m \u001b[0mbody\u001b[0m\u001b[0;34m=\u001b[0m\u001b[0mbody\u001b[0m\u001b[0;34m,\u001b[0m \u001b[0mheaders\u001b[0m\u001b[0;34m=\u001b[0m\u001b[0mheaders\u001b[0m\u001b[0;34m)\u001b[0m\u001b[0;34m\u001b[0m\u001b[0;34m\u001b[0m\u001b[0m\n\u001b[0m\u001b[1;32m    398\u001b[0m \u001b[0;34m\u001b[0m\u001b[0m\n\u001b[1;32m    399\u001b[0m             \u001b[0mstatuscode\u001b[0m \u001b[0;34m=\u001b[0m \u001b[0mresp\u001b[0m\u001b[0;34m.\u001b[0m\u001b[0mstatus\u001b[0m\u001b[0;34m\u001b[0m\u001b[0;34m\u001b[0m\u001b[0m\n",
      "\u001b[0;32m~/opt/anaconda3/envs/fastcampus/lib/python3.7/site-packages/urllib3/request.py\u001b[0m in \u001b[0;36mrequest\u001b[0;34m(self, method, url, fields, headers, **urlopen_kw)\u001b[0m\n\u001b[1;32m     70\u001b[0m             return self.request_encode_body(method, url, fields=fields,\n\u001b[1;32m     71\u001b[0m                                             \u001b[0mheaders\u001b[0m\u001b[0;34m=\u001b[0m\u001b[0mheaders\u001b[0m\u001b[0;34m,\u001b[0m\u001b[0;34m\u001b[0m\u001b[0;34m\u001b[0m\u001b[0m\n\u001b[0;32m---> 72\u001b[0;31m                                             **urlopen_kw)\n\u001b[0m\u001b[1;32m     73\u001b[0m \u001b[0;34m\u001b[0m\u001b[0m\n\u001b[1;32m     74\u001b[0m     def request_encode_url(self, method, url, fields=None, headers=None,\n",
      "\u001b[0;32m~/opt/anaconda3/envs/fastcampus/lib/python3.7/site-packages/urllib3/request.py\u001b[0m in \u001b[0;36mrequest_encode_body\u001b[0;34m(self, method, url, fields, headers, encode_multipart, multipart_boundary, **urlopen_kw)\u001b[0m\n\u001b[1;32m    148\u001b[0m         \u001b[0mextra_kw\u001b[0m\u001b[0;34m.\u001b[0m\u001b[0mupdate\u001b[0m\u001b[0;34m(\u001b[0m\u001b[0murlopen_kw\u001b[0m\u001b[0;34m)\u001b[0m\u001b[0;34m\u001b[0m\u001b[0;34m\u001b[0m\u001b[0m\n\u001b[1;32m    149\u001b[0m \u001b[0;34m\u001b[0m\u001b[0m\n\u001b[0;32m--> 150\u001b[0;31m         \u001b[0;32mreturn\u001b[0m \u001b[0mself\u001b[0m\u001b[0;34m.\u001b[0m\u001b[0murlopen\u001b[0m\u001b[0;34m(\u001b[0m\u001b[0mmethod\u001b[0m\u001b[0;34m,\u001b[0m \u001b[0murl\u001b[0m\u001b[0;34m,\u001b[0m \u001b[0;34m**\u001b[0m\u001b[0mextra_kw\u001b[0m\u001b[0;34m)\u001b[0m\u001b[0;34m\u001b[0m\u001b[0;34m\u001b[0m\u001b[0m\n\u001b[0m",
      "\u001b[0;32m~/opt/anaconda3/envs/fastcampus/lib/python3.7/site-packages/urllib3/poolmanager.py\u001b[0m in \u001b[0;36murlopen\u001b[0;34m(self, method, url, redirect, **kw)\u001b[0m\n\u001b[1;32m    322\u001b[0m             \u001b[0mresponse\u001b[0m \u001b[0;34m=\u001b[0m \u001b[0mconn\u001b[0m\u001b[0;34m.\u001b[0m\u001b[0murlopen\u001b[0m\u001b[0;34m(\u001b[0m\u001b[0mmethod\u001b[0m\u001b[0;34m,\u001b[0m \u001b[0murl\u001b[0m\u001b[0;34m,\u001b[0m \u001b[0;34m**\u001b[0m\u001b[0mkw\u001b[0m\u001b[0;34m)\u001b[0m\u001b[0;34m\u001b[0m\u001b[0;34m\u001b[0m\u001b[0m\n\u001b[1;32m    323\u001b[0m         \u001b[0;32melse\u001b[0m\u001b[0;34m:\u001b[0m\u001b[0;34m\u001b[0m\u001b[0;34m\u001b[0m\u001b[0m\n\u001b[0;32m--> 324\u001b[0;31m             \u001b[0mresponse\u001b[0m \u001b[0;34m=\u001b[0m \u001b[0mconn\u001b[0m\u001b[0;34m.\u001b[0m\u001b[0murlopen\u001b[0m\u001b[0;34m(\u001b[0m\u001b[0mmethod\u001b[0m\u001b[0;34m,\u001b[0m \u001b[0mu\u001b[0m\u001b[0;34m.\u001b[0m\u001b[0mrequest_uri\u001b[0m\u001b[0;34m,\u001b[0m \u001b[0;34m**\u001b[0m\u001b[0mkw\u001b[0m\u001b[0;34m)\u001b[0m\u001b[0;34m\u001b[0m\u001b[0;34m\u001b[0m\u001b[0m\n\u001b[0m\u001b[1;32m    325\u001b[0m \u001b[0;34m\u001b[0m\u001b[0m\n\u001b[1;32m    326\u001b[0m         \u001b[0mredirect_location\u001b[0m \u001b[0;34m=\u001b[0m \u001b[0mredirect\u001b[0m \u001b[0;32mand\u001b[0m \u001b[0mresponse\u001b[0m\u001b[0;34m.\u001b[0m\u001b[0mget_redirect_location\u001b[0m\u001b[0;34m(\u001b[0m\u001b[0;34m)\u001b[0m\u001b[0;34m\u001b[0m\u001b[0;34m\u001b[0m\u001b[0m\n",
      "\u001b[0;32m~/opt/anaconda3/envs/fastcampus/lib/python3.7/site-packages/urllib3/connectionpool.py\u001b[0m in \u001b[0;36murlopen\u001b[0;34m(self, method, url, body, headers, retries, redirect, assert_same_host, timeout, pool_timeout, release_conn, chunked, body_pos, **response_kw)\u001b[0m\n\u001b[1;32m    665\u001b[0m                                 \u001b[0mtimeout\u001b[0m\u001b[0;34m=\u001b[0m\u001b[0mtimeout\u001b[0m\u001b[0;34m,\u001b[0m \u001b[0mpool_timeout\u001b[0m\u001b[0;34m=\u001b[0m\u001b[0mpool_timeout\u001b[0m\u001b[0;34m,\u001b[0m\u001b[0;34m\u001b[0m\u001b[0;34m\u001b[0m\u001b[0m\n\u001b[1;32m    666\u001b[0m                                 \u001b[0mrelease_conn\u001b[0m\u001b[0;34m=\u001b[0m\u001b[0mrelease_conn\u001b[0m\u001b[0;34m,\u001b[0m \u001b[0mbody_pos\u001b[0m\u001b[0;34m=\u001b[0m\u001b[0mbody_pos\u001b[0m\u001b[0;34m,\u001b[0m\u001b[0;34m\u001b[0m\u001b[0;34m\u001b[0m\u001b[0m\n\u001b[0;32m--> 667\u001b[0;31m                                 **response_kw)\n\u001b[0m\u001b[1;32m    668\u001b[0m \u001b[0;34m\u001b[0m\u001b[0m\n\u001b[1;32m    669\u001b[0m         \u001b[0;32mdef\u001b[0m \u001b[0mdrain_and_release_conn\u001b[0m\u001b[0;34m(\u001b[0m\u001b[0mresponse\u001b[0m\u001b[0;34m)\u001b[0m\u001b[0;34m:\u001b[0m\u001b[0;34m\u001b[0m\u001b[0;34m\u001b[0m\u001b[0m\n",
      "\u001b[0;32m~/opt/anaconda3/envs/fastcampus/lib/python3.7/site-packages/urllib3/connectionpool.py\u001b[0m in \u001b[0;36murlopen\u001b[0;34m(self, method, url, body, headers, retries, redirect, assert_same_host, timeout, pool_timeout, release_conn, chunked, body_pos, **response_kw)\u001b[0m\n\u001b[1;32m    665\u001b[0m                                 \u001b[0mtimeout\u001b[0m\u001b[0;34m=\u001b[0m\u001b[0mtimeout\u001b[0m\u001b[0;34m,\u001b[0m \u001b[0mpool_timeout\u001b[0m\u001b[0;34m=\u001b[0m\u001b[0mpool_timeout\u001b[0m\u001b[0;34m,\u001b[0m\u001b[0;34m\u001b[0m\u001b[0;34m\u001b[0m\u001b[0m\n\u001b[1;32m    666\u001b[0m                                 \u001b[0mrelease_conn\u001b[0m\u001b[0;34m=\u001b[0m\u001b[0mrelease_conn\u001b[0m\u001b[0;34m,\u001b[0m \u001b[0mbody_pos\u001b[0m\u001b[0;34m=\u001b[0m\u001b[0mbody_pos\u001b[0m\u001b[0;34m,\u001b[0m\u001b[0;34m\u001b[0m\u001b[0;34m\u001b[0m\u001b[0m\n\u001b[0;32m--> 667\u001b[0;31m                                 **response_kw)\n\u001b[0m\u001b[1;32m    668\u001b[0m \u001b[0;34m\u001b[0m\u001b[0m\n\u001b[1;32m    669\u001b[0m         \u001b[0;32mdef\u001b[0m \u001b[0mdrain_and_release_conn\u001b[0m\u001b[0;34m(\u001b[0m\u001b[0mresponse\u001b[0m\u001b[0;34m)\u001b[0m\u001b[0;34m:\u001b[0m\u001b[0;34m\u001b[0m\u001b[0;34m\u001b[0m\u001b[0m\n",
      "\u001b[0;32m~/opt/anaconda3/envs/fastcampus/lib/python3.7/site-packages/urllib3/connectionpool.py\u001b[0m in \u001b[0;36murlopen\u001b[0;34m(self, method, url, body, headers, retries, redirect, assert_same_host, timeout, pool_timeout, release_conn, chunked, body_pos, **response_kw)\u001b[0m\n\u001b[1;32m    665\u001b[0m                                 \u001b[0mtimeout\u001b[0m\u001b[0;34m=\u001b[0m\u001b[0mtimeout\u001b[0m\u001b[0;34m,\u001b[0m \u001b[0mpool_timeout\u001b[0m\u001b[0;34m=\u001b[0m\u001b[0mpool_timeout\u001b[0m\u001b[0;34m,\u001b[0m\u001b[0;34m\u001b[0m\u001b[0;34m\u001b[0m\u001b[0m\n\u001b[1;32m    666\u001b[0m                                 \u001b[0mrelease_conn\u001b[0m\u001b[0;34m=\u001b[0m\u001b[0mrelease_conn\u001b[0m\u001b[0;34m,\u001b[0m \u001b[0mbody_pos\u001b[0m\u001b[0;34m=\u001b[0m\u001b[0mbody_pos\u001b[0m\u001b[0;34m,\u001b[0m\u001b[0;34m\u001b[0m\u001b[0;34m\u001b[0m\u001b[0m\n\u001b[0;32m--> 667\u001b[0;31m                                 **response_kw)\n\u001b[0m\u001b[1;32m    668\u001b[0m \u001b[0;34m\u001b[0m\u001b[0m\n\u001b[1;32m    669\u001b[0m         \u001b[0;32mdef\u001b[0m \u001b[0mdrain_and_release_conn\u001b[0m\u001b[0;34m(\u001b[0m\u001b[0mresponse\u001b[0m\u001b[0;34m)\u001b[0m\u001b[0;34m:\u001b[0m\u001b[0;34m\u001b[0m\u001b[0;34m\u001b[0m\u001b[0m\n",
      "\u001b[0;32m~/opt/anaconda3/envs/fastcampus/lib/python3.7/site-packages/urllib3/connectionpool.py\u001b[0m in \u001b[0;36murlopen\u001b[0;34m(self, method, url, body, headers, retries, redirect, assert_same_host, timeout, pool_timeout, release_conn, chunked, body_pos, **response_kw)\u001b[0m\n\u001b[1;32m    636\u001b[0m \u001b[0;34m\u001b[0m\u001b[0m\n\u001b[1;32m    637\u001b[0m             retries = retries.increment(method, url, error=e, _pool=self,\n\u001b[0;32m--> 638\u001b[0;31m                                         _stacktrace=sys.exc_info()[2])\n\u001b[0m\u001b[1;32m    639\u001b[0m             \u001b[0mretries\u001b[0m\u001b[0;34m.\u001b[0m\u001b[0msleep\u001b[0m\u001b[0;34m(\u001b[0m\u001b[0;34m)\u001b[0m\u001b[0;34m\u001b[0m\u001b[0;34m\u001b[0m\u001b[0m\n\u001b[1;32m    640\u001b[0m \u001b[0;34m\u001b[0m\u001b[0m\n",
      "\u001b[0;32m~/opt/anaconda3/envs/fastcampus/lib/python3.7/site-packages/urllib3/util/retry.py\u001b[0m in \u001b[0;36mincrement\u001b[0;34m(self, method, url, response, error, _pool, _stacktrace)\u001b[0m\n\u001b[1;32m    397\u001b[0m \u001b[0;34m\u001b[0m\u001b[0m\n\u001b[1;32m    398\u001b[0m         \u001b[0;32mif\u001b[0m \u001b[0mnew_retry\u001b[0m\u001b[0;34m.\u001b[0m\u001b[0mis_exhausted\u001b[0m\u001b[0;34m(\u001b[0m\u001b[0;34m)\u001b[0m\u001b[0;34m:\u001b[0m\u001b[0;34m\u001b[0m\u001b[0;34m\u001b[0m\u001b[0m\n\u001b[0;32m--> 399\u001b[0;31m             \u001b[0;32mraise\u001b[0m \u001b[0mMaxRetryError\u001b[0m\u001b[0;34m(\u001b[0m\u001b[0m_pool\u001b[0m\u001b[0;34m,\u001b[0m \u001b[0murl\u001b[0m\u001b[0;34m,\u001b[0m \u001b[0merror\u001b[0m \u001b[0;32mor\u001b[0m \u001b[0mResponseError\u001b[0m\u001b[0;34m(\u001b[0m\u001b[0mcause\u001b[0m\u001b[0;34m)\u001b[0m\u001b[0;34m)\u001b[0m\u001b[0;34m\u001b[0m\u001b[0;34m\u001b[0m\u001b[0m\n\u001b[0m\u001b[1;32m    400\u001b[0m \u001b[0;34m\u001b[0m\u001b[0m\n\u001b[1;32m    401\u001b[0m         \u001b[0mlog\u001b[0m\u001b[0;34m.\u001b[0m\u001b[0mdebug\u001b[0m\u001b[0;34m(\u001b[0m\u001b[0;34m\"Incremented Retry for (url='%s'): %r\"\u001b[0m\u001b[0;34m,\u001b[0m \u001b[0murl\u001b[0m\u001b[0;34m,\u001b[0m \u001b[0mnew_retry\u001b[0m\u001b[0;34m)\u001b[0m\u001b[0;34m\u001b[0m\u001b[0;34m\u001b[0m\u001b[0m\n",
      "\u001b[0;31mMaxRetryError\u001b[0m: HTTPConnectionPool(host='127.0.0.1', port=51417): Max retries exceeded with url: /session/0029e89890ef399ace27174cea15ecfe/cookie (Caused by NewConnectionError('<urllib3.connection.HTTPConnection object at 0x1c1e1a42d0>: Failed to establish a new connection: [Errno 61] Connection refused'))"
     ]
    }
   ],
   "source": [
    "if \"tmall\" in current_url:\n",
    "    result = tmall_crawler(itemid, driver)\n",
    "else:\n",
    "    result = taobao_crawler(itemid, driver)"
   ]
  },
  {
   "cell_type": "markdown",
   "metadata": {},
   "source": [
    "## tmall crawler 만들기"
   ]
  },
  {
   "cell_type": "markdown",
   "metadata": {},
   "source": [
    "## options"
   ]
  },
  {
   "cell_type": "code",
   "execution_count": 160,
   "metadata": {
    "ExecuteTime": {
     "end_time": "2020-06-12T08:32:38.265932Z",
     "start_time": "2020-06-12T08:32:38.037670Z"
    }
   },
   "outputs": [],
   "source": [
    "option_path = driver.find_elements_by_xpath('//*[@id=\"J_DetailMeta\"]/div/div/div/div[@class=\"tb-key\"]/div[@class=\"tb-skin\"]/div[@class=\"tb-sku\"]/dl[contains(@class, \"tm-sale-prop\") and contains(@class, \"tb-prop\") and contains(@class, \"tm-clear\")]')\n",
    "option_ls = []\n",
    "for path in option_path:\n",
    "    option = {}\n",
    "    test['option_title'] = path.find_element_by_xpath('dt').text\n",
    "    test['oprion_detail'] = path.find_element_by_xpath('dd/ul').text.split('\\n')\n",
    "    image_elements = path.find_elements_by_xpath('dd/ul[contains(@class, \"tb-img\")]/li/a')\n",
    "    test['option_image_urls'] = [element.get_attribute('style')[19:-40] for element in image_elements]\n",
    "    option_ls.append(option)"
   ]
  },
  {
   "cell_type": "code",
   "execution_count": 4,
   "metadata": {
    "ExecuteTime": {
     "end_time": "2020-06-12T08:42:23.592482Z",
     "start_time": "2020-06-12T08:42:23.572766Z"
    }
   },
   "outputs": [],
   "source": [
    "def tmall_crawler(itemid, driver):\n",
    "    import pickle\n",
    "    # 쿠키 복원\n",
    "    f = open('cookie_taobao.dat', 'rb') \n",
    "    cookies = pickle.load(f) \n",
    "    for c in cookies: \n",
    "        driver.add_cookie(c)\n",
    "    driver.get(\"https://item.taobao.com/item.htm?id={}\".format(itemid))\n",
    "    \n",
    "    result = {}\n",
    "    result['item_id'] = itemid\n",
    "    result['item_title'] = driver.find_element_by_xpath('//*[@id=\"J_DetailMeta\"]/div[1]/div[1]/div/div[1]/h1').text\n",
    "    result['og_price'] = driver.find_element_by_xpath('//*[@id=\"J_StrPriceModBox\"]/dd/span').text\n",
    "    result['promo_price'] = driver.find_element_by_xpath('//*[@id=\"J_PromoPrice\"]/dd/div/span').text\n",
    "    option_path = driver.find_elements_by_xpath('//*[@id=\"J_DetailMeta\"]/div/div/div/div[@class=\"tb-key\"]/div[@class=\"tb-skin\"]/div[@class=\"tb-sku\"]/dl[contains(@class, \"tm-sale-prop\") and contains(@class, \"tb-prop\") and contains(@class, \"tm-clear\")]')\n",
    "    option_ls = []\n",
    "    for path in option_path:\n",
    "        option = {}\n",
    "        option['option_title'] = path.find_element_by_xpath('dt').text\n",
    "        option['oprion_detail'] = path.find_element_by_xpath('dd/ul').text.split('\\n')\n",
    "        image_elements = path.find_elements_by_xpath('dd/ul[contains(@class, \"tb-img\")]/li/a')\n",
    "        option['option_image_urls'] = [element.get_attribute('style')[19:-40] for element in image_elements]\n",
    "        option_ls.append(option)\n",
    "        result['options'] = option_ls\n",
    "        driver.quit()\n",
    "    return result\n"
   ]
  },
  {
   "cell_type": "markdown",
   "metadata": {},
   "source": [
    "## taobao crawler 만들기"
   ]
  },
  {
   "cell_type": "code",
   "execution_count": 6,
   "metadata": {
    "ExecuteTime": {
     "end_time": "2020-06-12T08:34:27.732555Z",
     "start_time": "2020-06-12T08:34:27.729032Z"
    }
   },
   "outputs": [],
   "source": [
    "def taobao_crawler(itemid, driver):\n",
    "    import pickle\n",
    "    # 쿠키 복원\n",
    "    f = open('cookie_taobao.dat', 'rb') \n",
    "    cookies = pickle.load(f) \n",
    "    for c in cookies: \n",
    "        driver.add_cookie(c)\n",
    "    driver.get(\"https://item.taobao.com/item.htm?id={}\".format(itemid))"
   ]
  },
  {
   "cell_type": "code",
   "execution_count": null,
   "metadata": {},
   "outputs": [],
   "source": []
  },
  {
   "cell_type": "code",
   "execution_count": null,
   "metadata": {},
   "outputs": [],
   "source": []
  },
  {
   "cell_type": "code",
   "execution_count": null,
   "metadata": {},
   "outputs": [],
   "source": []
  },
  {
   "cell_type": "code",
   "execution_count": null,
   "metadata": {},
   "outputs": [],
   "source": []
  },
  {
   "cell_type": "code",
   "execution_count": null,
   "metadata": {},
   "outputs": [],
   "source": []
  },
  {
   "cell_type": "code",
   "execution_count": 10,
   "metadata": {
    "ExecuteTime": {
     "end_time": "2020-06-12T07:49:27.089167Z",
     "start_time": "2020-06-12T07:49:25.905895Z"
    }
   },
   "outputs": [],
   "source": [
    "driver.get(\"https://item.taobao.com/item.htm?id={}\".format(itemid))"
   ]
  },
  {
   "cell_type": "code",
   "execution_count": 4,
   "metadata": {
    "ExecuteTime": {
     "end_time": "2020-06-12T07:21:39.292203Z",
     "start_time": "2020-06-12T07:21:39.289781Z"
    }
   },
   "outputs": [],
   "source": [
    "itemid = \"618710171159\""
   ]
  },
  {
   "cell_type": "code",
   "execution_count": 3,
   "metadata": {
    "ExecuteTime": {
     "end_time": "2020-06-12T07:22:46.054125Z",
     "start_time": "2020-06-12T07:22:46.042039Z"
    }
   },
   "outputs": [],
   "source": [
    "itemid = \"563526727068\""
   ]
  },
  {
   "cell_type": "code",
   "execution_count": 4,
   "metadata": {
    "ExecuteTime": {
     "end_time": "2020-06-12T07:22:51.584575Z",
     "start_time": "2020-06-12T07:22:48.598310Z"
    }
   },
   "outputs": [],
   "source": [
    "driver.get(\"https://item.taobao.com/item.htm?id={}\".format(itemid))"
   ]
  },
  {
   "cell_type": "markdown",
   "metadata": {
    "ExecuteTime": {
     "end_time": "2020-06-12T04:44:32.422899Z",
     "start_time": "2020-06-12T04:44:32.420362Z"
    }
   },
   "source": [
    "## 가격"
   ]
  },
  {
   "cell_type": "code",
   "execution_count": 62,
   "metadata": {
    "ExecuteTime": {
     "end_time": "2020-06-12T07:19:09.625102Z",
     "start_time": "2020-06-12T07:19:09.602696Z"
    }
   },
   "outputs": [
    {
     "name": "stdout",
     "output_type": "stream",
     "text": [
      "할인 가격 :  99.00\n"
     ]
    }
   ],
   "source": [
    "# 할인 가격\n",
    "try:\n",
    "    print(\"할인 가격 : \", driver.find_element_by_css_selector('#J_PromoPriceNum').text)\n",
    "except:\n",
    "    print('할인 가격 없음')"
   ]
  },
  {
   "cell_type": "code",
   "execution_count": 63,
   "metadata": {
    "ExecuteTime": {
     "end_time": "2020-06-12T07:19:10.614315Z",
     "start_time": "2020-06-12T07:19:10.592899Z"
    }
   },
   "outputs": [
    {
     "name": "stdout",
     "output_type": "stream",
     "text": [
      "원가 :  198.00\n"
     ]
    }
   ],
   "source": [
    "print(\"원가 : \", driver.find_element_by_css_selector('#J_StrPrice > em.tb-rmb-num').text)"
   ]
  },
  {
   "cell_type": "markdown",
   "metadata": {},
   "source": [
    "## 상품명"
   ]
  },
  {
   "cell_type": "code",
   "execution_count": 10,
   "metadata": {
    "ExecuteTime": {
     "end_time": "2020-06-12T06:28:27.978799Z",
     "start_time": "2020-06-12T06:28:27.457142Z"
    }
   },
   "outputs": [],
   "source": [
    "import requests\n",
    "from scrapy.http import TextResponse \n",
    "import re\n",
    "from fake_useragent import UserAgent"
   ]
  },
  {
   "cell_type": "code",
   "execution_count": 11,
   "metadata": {
    "ExecuteTime": {
     "end_time": "2020-06-12T06:28:30.579512Z",
     "start_time": "2020-06-12T06:28:29.886846Z"
    }
   },
   "outputs": [],
   "source": [
    "ua = UserAgent(verify_ssl=False)\n",
    "userAgent = ua.random\n",
    "headers = {\n",
    "    'User-Agent': userAgent\n",
    "}\n",
    "\n",
    "url = \"https://item.taobao.com/item.htm?id={}\".format(itemid)\n",
    "\n",
    "# https://stackoverflow.com/questions/32910093/python-requests-gets-tlsv1-alert-internal-err\n",
    "requests.packages.urllib3.util.ssl_.DEFAULT_CIPHERS = 'DH+AESGCM:ECDH+AES256:DH+AES256:ECDH+AES128:DH+AES:ECDH+HIGH:DH+HIGH:ECDH+3DES:DH+3DES:RSA+AESGCM:RSA+AES:RSA+HIGH:RSA+3DES:!aNULL:!eNULL:!MD5'\n",
    "\n",
    "response = requests.get(url=url,headers=headers)\n",
    "req = TextResponse(response.url, body=response.text, encoding=\"utf-8\")"
   ]
  },
  {
   "cell_type": "code",
   "execution_count": null,
   "metadata": {},
   "outputs": [],
   "source": [
    "[contains(@class, 'Test')"
   ]
  },
  {
   "cell_type": "code",
   "execution_count": 178,
   "metadata": {
    "ExecuteTime": {
     "end_time": "2020-06-12T07:12:39.013799Z",
     "start_time": "2020-06-12T07:12:39.010005Z"
    }
   },
   "outputs": [
    {
     "data": {
      "text/plain": [
       "[]"
      ]
     },
     "execution_count": 178,
     "metadata": {},
     "output_type": "execute_result"
    }
   ],
   "source": [
    "req.xpath('//div[contains(@classs, \"tm-style-detail\")]')"
   ]
  },
  {
   "cell_type": "code",
   "execution_count": 12,
   "metadata": {
    "ExecuteTime": {
     "end_time": "2020-06-12T06:28:31.144716Z",
     "start_time": "2020-06-12T06:28:31.137549Z"
    }
   },
   "outputs": [
    {
     "name": "stdout",
     "output_type": "stream",
     "text": [
      "상품명 :  头层真皮豆豆鞋女春秋夏超级透气软底一脚蹬2020新款孕妇平底单鞋\n"
     ]
    }
   ],
   "source": [
    "# 제품 이름\n",
    "print(\"상품명 : \", req.xpath('//*[@id=\"J_Title\"]/h3/@data-title').extract_first())"
   ]
  },
  {
   "cell_type": "code",
   "execution_count": 13,
   "metadata": {
    "ExecuteTime": {
     "end_time": "2020-06-12T06:28:32.028710Z",
     "start_time": "2020-06-12T06:28:32.025459Z"
    }
   },
   "outputs": [],
   "source": [
    "# 옵션타이틀\n",
    "option_title = req.xpath('//*[@id=\"J_isku\"]/div/dl/dd/ul/@data-property').extract()"
   ]
  },
  {
   "cell_type": "code",
   "execution_count": 14,
   "metadata": {
    "ExecuteTime": {
     "end_time": "2020-06-12T06:28:32.863969Z",
     "start_time": "2020-06-12T06:28:32.859153Z"
    }
   },
   "outputs": [
    {
     "data": {
      "text/plain": [
       "['35', '36', '37', '38', '39', '40', '41', '42']"
      ]
     },
     "execution_count": 14,
     "metadata": {},
     "output_type": "execute_result"
    }
   ],
   "source": [
    "# 옵션 내용\n",
    "req.xpath('//*[@id=\"J_isku\"]/div/dl/dd/ul[@data-property=\"{}\"]/li/a/span/text()'.format(option_title[0])).extract()"
   ]
  },
  {
   "cell_type": "code",
   "execution_count": 73,
   "metadata": {
    "ExecuteTime": {
     "end_time": "2020-06-12T06:46:29.668533Z",
     "start_time": "2020-06-12T06:46:29.664843Z"
    }
   },
   "outputs": [
    {
     "data": {
      "text/plain": [
       "['尺码', '颜色分类']"
      ]
     },
     "execution_count": 73,
     "metadata": {},
     "output_type": "execute_result"
    }
   ],
   "source": [
    "option_title"
   ]
  },
  {
   "cell_type": "code",
   "execution_count": null,
   "metadata": {},
   "outputs": [],
   "source": []
  },
  {
   "cell_type": "code",
   "execution_count": 106,
   "metadata": {
    "ExecuteTime": {
     "end_time": "2020-06-12T06:50:40.963767Z",
     "start_time": "2020-06-12T06:50:40.956607Z"
    }
   },
   "outputs": [],
   "source": [
    "r = []\n",
    "for title in option_title:\n",
    "    j = {}\n",
    "    j['option_title'] = title\n",
    "    j['options'] = req.xpath('//*[@id=\"J_isku\"]/div/dl/dd/ul[@data-property=\"{}\"]/li/a/span/text()'.format(title)).extract()\n",
    "    j['image_urls'] = [path[17:-29] for path in req.xpath('//*[@id=\"J_isku\"]/div/dl/dd/ul[@data-property=\"{}\"]/li/a/@style'.format(title)).extract()]\n",
    "    r.append(j)"
   ]
  },
  {
   "cell_type": "code",
   "execution_count": null,
   "metadata": {},
   "outputs": [],
   "source": []
  },
  {
   "cell_type": "code",
   "execution_count": null,
   "metadata": {},
   "outputs": [],
   "source": []
  },
  {
   "cell_type": "code",
   "execution_count": null,
   "metadata": {},
   "outputs": [],
   "source": []
  },
  {
   "cell_type": "code",
   "execution_count": null,
   "metadata": {},
   "outputs": [],
   "source": []
  },
  {
   "cell_type": "code",
   "execution_count": 7,
   "metadata": {
    "ExecuteTime": {
     "end_time": "2020-06-12T09:15:13.276964Z",
     "start_time": "2020-06-12T09:15:13.266324Z"
    }
   },
   "outputs": [],
   "source": [
    "def taobao_crawler(itemId,driver):\n",
    "    result = {}\n",
    "    result['itemID'] = itemId\n",
    "    \n",
    "    # 패키지 임포트\n",
    "    from selenium import webdriver\n",
    "    from scrapy.http import TextResponse     \n",
    "    from fake_useragent import UserAgent\n",
    "    \n",
    "    import pickle\n",
    "    import requests\n",
    "    import re\n",
    "    \n",
    "    driver = webdriver.Chrome('./chromedriver')\n",
    "    driver.get(\"https://www.taobao.com\")\n",
    "    \n",
    "    # 쿠키 복원\n",
    "    f = open('cookie_taobao.dat', 'rb') \n",
    "    cookies = pickle.load(f) \n",
    "    for cookie in cookies:\n",
    "        driver.add_cookie(cookie)\n",
    "        \n",
    "    driver.get(\"https://item.taobao.com/item.htm?id={}\".format(itemId))   \n",
    "\n",
    "    # 할인 가격\n",
    "    try:\n",
    "        result['promo_price'] = driver.find_element_by_css_selector('#J_PromoPriceNum').text\n",
    "    except:\n",
    "        result['promo_price'] = '할인 가격 없음'\n",
    "        \n",
    "    driver.quit()\n",
    "    \n",
    "    ua = UserAgent(verify_ssl=False)\n",
    "    userAgent = ua.random\n",
    "    \n",
    "    headers = {\n",
    "        'User-Agent': userAgent\n",
    "    }\n",
    "\n",
    "    url = \"https://item.taobao.com/item.htm?id={}\".format(itemId)\n",
    "\n",
    "    # https://stackoverflow.com/questions/32910093/python-requests-gets-tlsv1-alert-internal-err\n",
    "    requests.packages.urllib3.util.ssl_.DEFAULT_CIPHERS = 'DH+AESGCM:ECDH+AES256:DH+AES256:ECDH+AES128:DH+AES:ECDH+HIGH:DH+HIGH:ECDH+3DES:DH+3DES:RSA+AESGCM:RSA+AES:RSA+HIGH:RSA+3DES:!aNULL:!eNULL:!MD5'\n",
    "\n",
    "    response = requests.get(url=url, headers=headers)\n",
    "    req = TextResponse(response.url, body=response.text, encoding=\"utf-8\")\n",
    "    \n",
    "    # Taobao\n",
    "    if len(req.xpath('//div[contains(@class, \"tm-style-detail\")]')) != 1:\n",
    "        result['item_name'] = req.xpath('//*[@id=\"J_Title\"]/h3/@data-title').extract_first()\n",
    "\n",
    "        option_title = req.xpath('//*[@id=\"J_isku\"]/div/dl/dd/ul/@data-property').extract()\n",
    "        r = []\n",
    "        for title in option_title:\n",
    "            j = {}\n",
    "            j['option_title'] = title\n",
    "            j['option_details'] = req.xpath('//*[@id=\"J_isku\"]/div/dl/dd/ul[@data-property=\"{}\"]/li/a/span/text()'.format(title)).extract()\n",
    "            j['option_image_urls'] = [path[17:-29] for path in req.xpath('//*[@id=\"J_isku\"]/div/dl/dd/ul[@data-property=\"{}\"]/li/a/@style'.format(title)).extract()]\n",
    "            r.append(j)\n",
    "\n",
    "        result['options'] = r\n",
    "        \n",
    "    return result"
   ]
  },
  {
   "cell_type": "code",
   "execution_count": null,
   "metadata": {},
   "outputs": [],
   "source": [
    "driver.fin"
   ]
  },
  {
   "cell_type": "code",
   "execution_count": null,
   "metadata": {},
   "outputs": [],
   "source": []
  },
  {
   "cell_type": "code",
   "execution_count": 128,
   "metadata": {
    "ExecuteTime": {
     "end_time": "2020-06-12T07:00:43.037641Z",
     "start_time": "2020-06-12T07:00:21.804797Z"
    }
   },
   "outputs": [],
   "source": [
    "a = taobal_crawler(618710171159)"
   ]
  },
  {
   "cell_type": "code",
   "execution_count": 129,
   "metadata": {
    "ExecuteTime": {
     "end_time": "2020-06-12T07:00:44.193484Z",
     "start_time": "2020-06-12T07:00:44.189905Z"
    }
   },
   "outputs": [
    {
     "data": {
      "text/plain": [
       "{'itemID': 618710171159,\n",
       " 'promo_price': '할인 가격 없음',\n",
       " 'item_name': None,\n",
       " 'options': []}"
      ]
     },
     "execution_count": 129,
     "metadata": {},
     "output_type": "execute_result"
    }
   ],
   "source": [
    "a"
   ]
  },
  {
   "cell_type": "code",
   "execution_count": 122,
   "metadata": {
    "ExecuteTime": {
     "end_time": "2020-06-12T06:58:04.678485Z",
     "start_time": "2020-06-12T06:58:04.675581Z"
    }
   },
   "outputs": [],
   "source": [
    "from taobao import taobao_crawler"
   ]
  },
  {
   "cell_type": "code",
   "execution_count": 123,
   "metadata": {
    "ExecuteTime": {
     "end_time": "2020-06-12T06:59:01.018556Z",
     "start_time": "2020-06-12T06:58:36.492065Z"
    }
   },
   "outputs": [],
   "source": [
    "test = taobal_crawler(618710171159)"
   ]
  },
  {
   "cell_type": "code",
   "execution_count": 38,
   "metadata": {
    "ExecuteTime": {
     "end_time": "2020-06-12T06:34:56.322610Z",
     "start_time": "2020-06-12T06:34:56.318771Z"
    }
   },
   "outputs": [
    {
     "data": {
      "text/plain": [
       "['gd1.alicdn.com/imgextra/i3/169373975/TB2Gp62iRTH8KJjy0FiXXcRsXXa_!!169373975.jpg_30x30.jpg',\n",
       " 'gd3.alicdn.com/imgextra/i4/169373975/TB2YN0DdgjN8KJjSZFCXXb3GpXa_!!169373975.jpg_30x30.jpg',\n",
       " 'gd2.alicdn.com/imgextra/i2/169373975/O1CN011fEapNqf2YxZby4_!!169373975.jpg_30x30.jpg',\n",
       " 'gd1.alicdn.com/imgextra/i1/169373975/O1CN011fEapMBnyxZlrm2_!!169373975.jpg_30x30.jpg']"
      ]
     },
     "execution_count": 38,
     "metadata": {},
     "output_type": "execute_result"
    }
   ],
   "source": [
    "a['options'][1]['images']"
   ]
  },
  {
   "cell_type": "code",
   "execution_count": 124,
   "metadata": {
    "ExecuteTime": {
     "end_time": "2020-06-12T06:59:02.787542Z",
     "start_time": "2020-06-12T06:59:02.783550Z"
    }
   },
   "outputs": [
    {
     "data": {
      "text/plain": [
       "{'itemID': 618710171159,\n",
       " 'promo_price': '할인 가격 없음',\n",
       " 'item_name': None,\n",
       " 'options': []}"
      ]
     },
     "execution_count": 124,
     "metadata": {},
     "output_type": "execute_result"
    }
   ],
   "source": [
    "test"
   ]
  },
  {
   "cell_type": "code",
   "execution_count": null,
   "metadata": {},
   "outputs": [],
   "source": []
  },
  {
   "cell_type": "code",
   "execution_count": null,
   "metadata": {},
   "outputs": [],
   "source": []
  },
  {
   "cell_type": "code",
   "execution_count": null,
   "metadata": {},
   "outputs": [],
   "source": []
  },
  {
   "cell_type": "code",
   "execution_count": null,
   "metadata": {},
   "outputs": [],
   "source": []
  },
  {
   "cell_type": "code",
   "execution_count": null,
   "metadata": {},
   "outputs": [],
   "source": []
  },
  {
   "cell_type": "code",
   "execution_count": null,
   "metadata": {},
   "outputs": [],
   "source": []
  },
  {
   "cell_type": "code",
   "execution_count": null,
   "metadata": {},
   "outputs": [],
   "source": []
  },
  {
   "cell_type": "code",
   "execution_count": null,
   "metadata": {},
   "outputs": [],
   "source": []
  },
  {
   "cell_type": "code",
   "execution_count": null,
   "metadata": {},
   "outputs": [],
   "source": []
  },
  {
   "cell_type": "code",
   "execution_count": null,
   "metadata": {},
   "outputs": [],
   "source": []
  },
  {
   "cell_type": "code",
   "execution_count": null,
   "metadata": {},
   "outputs": [],
   "source": []
  },
  {
   "cell_type": "code",
   "execution_count": null,
   "metadata": {},
   "outputs": [],
   "source": []
  },
  {
   "cell_type": "code",
   "execution_count": null,
   "metadata": {},
   "outputs": [],
   "source": []
  },
  {
   "cell_type": "code",
   "execution_count": null,
   "metadata": {},
   "outputs": [],
   "source": []
  },
  {
   "cell_type": "markdown",
   "metadata": {},
   "source": [
    "# TextResponse"
   ]
  },
  {
   "cell_type": "code",
   "execution_count": 1,
   "metadata": {
    "ExecuteTime": {
     "end_time": "2020-06-12T02:53:37.433960Z",
     "start_time": "2020-06-12T02:53:36.870154Z"
    }
   },
   "outputs": [],
   "source": [
    "import requests\n",
    "from bs4 import BeautifulSoup\n",
    "from scrapy.http import TextResponse \n",
    "import re\n",
    "from fake_useragent import UserAgent"
   ]
  },
  {
   "cell_type": "code",
   "execution_count": 255,
   "metadata": {
    "ExecuteTime": {
     "end_time": "2020-06-12T04:23:11.943147Z",
     "start_time": "2020-06-12T04:23:11.938083Z"
    },
    "scrolled": true
   },
   "outputs": [],
   "source": [
    "ua = UserAgent(verify_ssl=False)\n",
    "userAgent = ua.random"
   ]
  },
  {
   "cell_type": "code",
   "execution_count": 187,
   "metadata": {
    "ExecuteTime": {
     "end_time": "2020-06-12T03:51:22.751519Z",
     "start_time": "2020-06-12T03:51:22.749140Z"
    }
   },
   "outputs": [],
   "source": [
    "# https://stackoverflow.com/questions/32910093/python-requests-gets-tlsv1-alert-internal-err\n",
    "requests.packages.urllib3.util.ssl_.DEFAULT_CIPHERS = 'DH+AESGCM:ECDH+AES256:DH+AES256:ECDH+AES128:DH+AES:ECDH+HIGH:DH+HIGH:ECDH+3DES:DH+3DES:RSA+AESGCM:RSA+AES:RSA+HIGH:RSA+3DES:!aNULL:!eNULL:!MD5'"
   ]
  },
  {
   "cell_type": "code",
   "execution_count": 208,
   "metadata": {
    "ExecuteTime": {
     "end_time": "2020-06-12T03:57:15.857485Z",
     "start_time": "2020-06-12T03:57:14.953018Z"
    }
   },
   "outputs": [],
   "source": [
    "test_url = \"https://item.taobao.com/item.htm?id=562911697499\"\n",
    "headers = {\n",
    "    'User-Agent': userAgent}\n",
    "response = requests.get(url=test_url,headers=headers)"
   ]
  },
  {
   "cell_type": "code",
   "execution_count": 209,
   "metadata": {
    "ExecuteTime": {
     "end_time": "2020-06-12T03:57:15.864034Z",
     "start_time": "2020-06-12T03:57:15.860239Z"
    }
   },
   "outputs": [
    {
     "data": {
      "text/plain": [
       "<Response [200]>"
      ]
     },
     "execution_count": 209,
     "metadata": {},
     "output_type": "execute_result"
    }
   ],
   "source": [
    "response"
   ]
  },
  {
   "cell_type": "code",
   "execution_count": 210,
   "metadata": {
    "ExecuteTime": {
     "end_time": "2020-06-12T03:57:16.192562Z",
     "start_time": "2020-06-12T03:57:16.189349Z"
    }
   },
   "outputs": [],
   "source": [
    "req = TextResponse(response.url, body=response.text, encoding=\"utf-8\")"
   ]
  },
  {
   "cell_type": "code",
   "execution_count": 211,
   "metadata": {
    "ExecuteTime": {
     "end_time": "2020-06-12T03:57:17.388998Z",
     "start_time": "2020-06-12T03:57:17.381960Z"
    }
   },
   "outputs": [
    {
     "data": {
      "text/plain": [
       "['<li id=\"J_PromoPrice\" class=\"tb-detail-price tb-promo-price tb-clear tb-hidden\">\\n    <span class=\"tb-property-type\">淘宝价</span>\\n    <div class=\"tb-property-cont\">\\n        <div id=\"J_Promo\" class=\"tb-promo-mod\">\\n            <div id=\"J_PromoHd\" class=\"tb-promo-hd tb-promo-item\"></div>\\n            <div id=\"J_PromoBd\" class=\"tb-promo-bd\"></div>\\n        </div>\\n    </div>\\n</li>']"
      ]
     },
     "execution_count": 211,
     "metadata": {},
     "output_type": "execute_result"
    }
   ],
   "source": [
    "req.xpath('//*[@id=\"J_PromoPrice\"]').extract()"
   ]
  },
  {
   "cell_type": "code",
   "execution_count": 212,
   "metadata": {
    "ExecuteTime": {
     "end_time": "2020-06-12T03:57:19.456934Z",
     "start_time": "2020-06-12T03:57:19.452526Z"
    }
   },
   "outputs": [
    {
     "data": {
      "text/plain": [
       "'岛上定制新款春秋单鞋低跟英伦真皮女鞋粗跟圆头低帮鞋复古小皮鞋'"
      ]
     },
     "execution_count": 212,
     "metadata": {},
     "output_type": "execute_result"
    }
   ],
   "source": [
    "# 제품 이름\n",
    "req.xpath('//*[@id=\"J_Title\"]/h3/@data-title').extract_first()"
   ]
  },
  {
   "cell_type": "code",
   "execution_count": 213,
   "metadata": {
    "ExecuteTime": {
     "end_time": "2020-06-12T03:57:20.592939Z",
     "start_time": "2020-06-12T03:57:20.588469Z"
    }
   },
   "outputs": [
    {
     "data": {
      "text/plain": [
       "'580.00'"
      ]
     },
     "execution_count": 213,
     "metadata": {},
     "output_type": "execute_result"
    }
   ],
   "source": [
    "# 원가\n",
    "req.xpath('//*[@id=\"J_StrPrice\"]/em[@class=\"tb-rmb-num\"]/text()').extract_first()"
   ]
  },
  {
   "cell_type": "code",
   "execution_count": 202,
   "metadata": {
    "ExecuteTime": {
     "end_time": "2020-06-12T03:52:05.454857Z",
     "start_time": "2020-06-12T03:52:05.450133Z"
    }
   },
   "outputs": [
    {
     "data": {
      "text/plain": [
       "[<Selector xpath='//*[@id=\"J_PromoHd\"]' data='<div id=\"J_PromoHd\" class=\"tb-promo-h...'>]"
      ]
     },
     "execution_count": 202,
     "metadata": {},
     "output_type": "execute_result"
    }
   ],
   "source": [
    "# 할인 가격\n",
    "req2.xpath('//*[@id=\"J_PromoHd\"]')"
   ]
  },
  {
   "cell_type": "code",
   "execution_count": 124,
   "metadata": {
    "ExecuteTime": {
     "end_time": "2020-06-12T03:21:35.350365Z",
     "start_time": "2020-06-12T03:21:35.346663Z"
    }
   },
   "outputs": [],
   "source": [
    "# 옵션타이틀\n",
    "option_title = req.xpath('//*[@id=\"J_isku\"]/div/dl/dd/ul/@data-property').extract()"
   ]
  },
  {
   "cell_type": "code",
   "execution_count": 144,
   "metadata": {
    "ExecuteTime": {
     "end_time": "2020-06-12T03:23:48.085869Z",
     "start_time": "2020-06-12T03:23:48.081095Z"
    }
   },
   "outputs": [
    {
     "data": {
      "text/plain": [
       "['33', '34', '35', '36', '37', '38', '39', '40']"
      ]
     },
     "execution_count": 144,
     "metadata": {},
     "output_type": "execute_result"
    }
   ],
   "source": [
    "# 옵션 내용\n",
    "req.xpath('//*[@id=\"J_isku\"]/div/dl/dd/ul[@data-property=\"{}\"]/li/a/span/text()'.format(option_title[0])).extract()"
   ]
  },
  {
   "cell_type": "code",
   "execution_count": 109,
   "metadata": {
    "ExecuteTime": {
     "end_time": "2020-06-12T05:05:02.283377Z",
     "start_time": "2020-06-12T05:05:02.276739Z"
    }
   },
   "outputs": [],
   "source": [
    "r = []\n",
    "for title in option_title:\n",
    "    j = {}\n",
    "    j['option_title'] = title\n",
    "    j['options'] = req.xpath('//*[@id=\"J_isku\"]/div/dl/dd/ul[@data-property=\"{}\"]/li/a/span/text()'.format(title)).extract()\n",
    "    j['images'] = [path[17:-19] for path in req.xpath('//*[@id=\"J_isku\"]/div/dl/dd/ul[@data-property=\"{}\"]/li/a/@style'.format(title)).extract()]\n",
    "    r.append(j)"
   ]
  },
  {
   "cell_type": "code",
   "execution_count": 110,
   "metadata": {
    "ExecuteTime": {
     "end_time": "2020-06-12T05:05:03.735912Z",
     "start_time": "2020-06-12T05:05:03.731348Z"
    }
   },
   "outputs": [
    {
     "data": {
      "text/plain": [
       "[{'option_title': '尺码',\n",
       "  'options': ['37', '38', '39', '40', '41', '42', '43', '44', '45'],\n",
       "  'images': []},\n",
       " {'option_title': '颜色分类',\n",
       "  'options': ['黑色皮里', '蓝色皮里', '黑色加绒', '蓝色加绒'],\n",
       "  'images': ['gd4.alicdn.com/imgextra/i3/169373975/TB2Gp62iRTH8KJjy0FiXXcRsXXa_!!169373975.jpg_30x30.jpg',\n",
       "   'gd2.alicdn.com/imgextra/i4/169373975/TB2YN0DdgjN8KJjSZFCXXb3GpXa_!!169373975.jpg_30x30.jpg',\n",
       "   'gd1.alicdn.com/imgextra/i2/169373975/O1CN011fEapNqf2YxZby4_!!169373975.jpg_30x30.jpg',\n",
       "   'gd4.alicdn.com/imgextra/i1/169373975/O1CN011fEapMBnyxZlrm2_!!169373975.jpg_30x30.jpg']}]"
      ]
     },
     "execution_count": 110,
     "metadata": {},
     "output_type": "execute_result"
    }
   ],
   "source": [
    "r"
   ]
  },
  {
   "cell_type": "code",
   "execution_count": null,
   "metadata": {},
   "outputs": [],
   "source": []
  }
 ],
 "metadata": {
  "kernelspec": {
   "display_name": "Python 3",
   "language": "python",
   "name": "python3"
  },
  "language_info": {
   "codemirror_mode": {
    "name": "ipython",
    "version": 3
   },
   "file_extension": ".py",
   "mimetype": "text/x-python",
   "name": "python",
   "nbconvert_exporter": "python",
   "pygments_lexer": "ipython3",
   "version": "3.7.4"
  }
 },
 "nbformat": 4,
 "nbformat_minor": 2
}
