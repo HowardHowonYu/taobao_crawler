{
 "cells": [
  {
   "cell_type": "code",
   "execution_count": 1,
   "metadata": {
    "ExecuteTime": {
     "end_time": "2020-06-16T00:45:21.020616Z",
     "start_time": "2020-06-16T00:45:21.017273Z"
    }
   },
   "outputs": [],
   "source": [
    "ids1 = [534384996062, 41807701711, 555527716960,549360164208]"
   ]
  },
  {
   "cell_type": "code",
   "execution_count": 2,
   "metadata": {
    "ExecuteTime": {
     "end_time": "2020-06-16T00:45:21.096609Z",
     "start_time": "2020-06-16T00:45:21.023013Z"
    }
   },
   "outputs": [],
   "source": [
    "from taobao_crawler import ProductCrawler\n",
    "crawler = ProductCrawler()"
   ]
  },
  {
   "cell_type": "code",
   "execution_count": 3,
   "metadata": {
    "ExecuteTime": {
     "end_time": "2020-06-16T00:46:02.077773Z",
     "start_time": "2020-06-16T00:45:21.100396Z"
    }
   },
   "outputs": [
    {
     "name": "stdout",
     "output_type": "stream",
     "text": [
      "프록시 가져옴\n",
      "로그인 완료\n",
      "itemid : 549360164208 가격 정보 가져옴\n",
      "itemid : 555527716960 가격 정보 가져옴\n",
      "itemid : 41807701711 가격 정보 가져옴\n",
      "itemid : 534384996062 가격 정보 가져옴\n"
     ]
    }
   ],
   "source": [
    "result = crawler.taobao_crawler(ids1, \"user_id\", \"user_pw\")"
   ]
  },
  {
   "cell_type": "code",
   "execution_count": 4,
   "metadata": {
    "ExecuteTime": {
     "end_time": "2020-06-16T00:46:02.091113Z",
     "start_time": "2020-06-16T00:46:02.082950Z"
    }
   },
   "outputs": [
    {
     "data": {
      "text/plain": [
       "[{'item_id': 549360164208,\n",
       "  'title': '新款帆布男士手包大容量牛津布手拿包时尚休闲夹包迷彩手机包尼龙',\n",
       "  'og_price': '78.00',\n",
       "  'promo_price': '22.00',\n",
       "  'item_title': '新款帆布男士手包大容量牛津布手拿包时尚休闲夹包迷彩手机包尼龙',\n",
       "  'options': [{'option_title': '颜色分类',\n",
       "    'option_details': ['迷彩蓝', '迷彩黑', '纯黑色'],\n",
       "    'option_image_urls': ['gd2.alicdn.com/imgextra/i4/1973935423/TB2n5vDpt4opuFjSZFLXXX8mXXa_!!1973935423.jpg',\n",
       "     'gd4.alicdn.com/imgextra/i3/1973935423/TB2YMSrmYBkpuFjy1zkXXbSpFXa_!!1973935423.jpg',\n",
       "     'gd4.alicdn.com/imgextra/i3/1973935423/TB2QfpPclDH8KJjy1zeXXXjepXa_!!1973935423.jpg']}]},\n",
       " {'item_id': 555527716960,\n",
       "  'title': '天然药珀手串108颗佛珠天意菩提子念珠男女款莲花菩提根手链项链',\n",
       "  'og_price': '52.00-128.00',\n",
       "  'promo_price': '50.00-126.00',\n",
       "  'item_title': '天然药珀手串108颗佛珠天意菩提子念珠男女款莲花菩提根手链项链',\n",
       "  'options': [{'option_title': '尺寸',\n",
       "    'option_details': ['10mm', '6mm', '8mm'],\n",
       "    'option_image_urls': []},\n",
       "   {'option_title': '颜色分类',\n",
       "    'option_details': ['2圈款（16cm手围）',\n",
       "     '3圈款（16cm手围）',\n",
       "     '2圈款（17cm手围）',\n",
       "     '3圈款（17cm手围）',\n",
       "     '108颗弹力线款',\n",
       "     '3圈款（14-15cm手围）',\n",
       "     '2圈款（14-15cm手围）',\n",
       "     '108颗非弹力线款',\n",
       "     '药珀粉人工压制非塑料'],\n",
       "    'option_image_urls': []}]},\n",
       " {'item_id': 41807701711,\n",
       "  'title': 'Convoy S2+手电筒【钛色/铜电路仓/CREE LED/矩形螺纹/双伞绳孔】',\n",
       "  'og_price': '35.00-65.00',\n",
       "  'promo_price': '할인 가격 정보 없음',\n",
       "  'item_title': 'Convoy S2+手电筒【钛色/铜电路仓/CREE LED/矩形螺纹/双伞绳孔】',\n",
       "  'options': [{'option_title': '颜色分类',\n",
       "    'option_details': ['外壳（无灯珠无驱动）',\n",
       "     'T6-4C',\n",
       "     'T4-7A',\n",
       "     'U2-1A',\n",
       "     'T6-3B',\n",
       "     'T5-5B'],\n",
       "    'option_image_urls': []}]},\n",
       " {'item_id': 534384996062,\n",
       "  'title': '唐装女士上衣秋冬季新款 长袖修身显瘦大码妈妈装夹棉棉袄中国风',\n",
       "  'og_price': '61.00-66.00',\n",
       "  'promo_price': '60.00-65.00',\n",
       "  'item_title': '唐装女士上衣秋冬季新款 长袖修身显瘦大码妈妈装夹棉棉袄中国风',\n",
       "  'options': [{'option_title': '尺码',\n",
       "    'option_details': ['S', 'M', 'L', 'XL', 'XXL', 'XXXL', '4XL'],\n",
       "    'option_image_urls': []},\n",
       "   {'option_title': '颜色分类',\n",
       "    'option_details': ['加棉红色福字圈', '不加棉红色福字圈', '不加棉红色金圈', '加棉红色金圈'],\n",
       "    'option_image_urls': ['gd4.alicdn.com/imgextra/i4/424809180/TB2pZs_rFXXXXXpXXXXXXXXXXXX_!!424809180.jpg',\n",
       "     'gd3.alicdn.com/imgextra/i2/424809180/TB2uNNoXpXXXXbKXVXXXXXXXXXX_!!424809180.jpg',\n",
       "     'gd4.alicdn.com/imgextra/i1/424809180/TB2FTc6qVXXXXX5XpXXXXXXXXXX_!!424809180.jpg',\n",
       "     'gd2.alicdn.com/imgextra/i4/424809180/TB2.to7qVXXXXczXXXXXXXXXXXX_!!424809180.jpg']}]}]"
      ]
     },
     "execution_count": 4,
     "metadata": {},
     "output_type": "execute_result"
    }
   ],
   "source": [
    "result"
   ]
  },
  {
   "cell_type": "code",
   "execution_count": null,
   "metadata": {},
   "outputs": [],
   "source": []
  },
  {
   "cell_type": "code",
   "execution_count": null,
   "metadata": {},
   "outputs": [],
   "source": []
  },
  {
   "cell_type": "markdown",
   "metadata": {},
   "source": [
    "## 프록시 가져오는 함수"
   ]
  },
  {
   "cell_type": "code",
   "execution_count": 34,
   "metadata": {
    "ExecuteTime": {
     "end_time": "2020-06-14T06:33:38.194648Z",
     "start_time": "2020-06-14T06:33:38.188869Z"
    }
   },
   "outputs": [],
   "source": [
    "from selenium import webdriver\n",
    "from selenium.webdriver.chrome.options import DesiredCapabilities\n",
    "from selenium.webdriver.common.proxy import Proxy, ProxyType\n",
    "\n",
    "import time\n",
    "\n",
    "\n",
    "co = webdriver.ChromeOptions()\n",
    "co.add_argument(\"log-level=3\")\n",
    "co.add_argument(\"--headless\")\n",
    "\n",
    "def get_proxies(co=co):\n",
    "    driver = webdriver.Chrome('./chromedriver',chrome_options=co)\n",
    "    driver.get(\"https://free-proxy-list.net/\")\n",
    "\n",
    "    PROXIES = []\n",
    "    proxies = driver.find_elements_by_css_selector(\"tr[role='row']\")\n",
    "    for p in proxies:\n",
    "        result = p.text.split(\" \")\n",
    "\n",
    "        if result[-1] == \"yes\":\n",
    "            PROXIES.append(result[0]+\":\"+result[1])\n",
    "\n",
    "    driver.close()\n",
    "    return PROXIES\n",
    "\n"
   ]
  },
  {
   "cell_type": "code",
   "execution_count": 35,
   "metadata": {
    "ExecuteTime": {
     "end_time": "2020-06-14T06:33:42.148736Z",
     "start_time": "2020-06-14T06:33:38.566671Z"
    }
   },
   "outputs": [],
   "source": [
    "proxies = get_proxies()"
   ]
  },
  {
   "cell_type": "code",
   "execution_count": 36,
   "metadata": {
    "ExecuteTime": {
     "end_time": "2020-06-14T06:33:42.156414Z",
     "start_time": "2020-06-14T06:33:42.151261Z"
    }
   },
   "outputs": [
    {
     "data": {
      "text/plain": [
       "['196.1.184.6:52963',\n",
       " '86.125.112.230:57373',\n",
       " '75.109.249.111:1111',\n",
       " '154.66.241.27:52004',\n",
       " '125.26.7.124:61642']"
      ]
     },
     "execution_count": 36,
     "metadata": {},
     "output_type": "execute_result"
    }
   ],
   "source": [
    "proxies"
   ]
  },
  {
   "cell_type": "markdown",
   "metadata": {},
   "source": [
    "# 로그인창 입력"
   ]
  },
  {
   "cell_type": "code",
   "execution_count": 364,
   "metadata": {
    "ExecuteTime": {
     "end_time": "2020-06-14T12:49:56.774590Z",
     "start_time": "2020-06-14T12:49:48.986587Z"
    }
   },
   "outputs": [],
   "source": [
    "from selenium import webdriver\n",
    "driver = webdriver.Chrome('./chromedriver')\n",
    "driver.get(\"https://detail.tmall.com/item.htm?id=540619456825\")\n",
    "try:\n",
    "    alert = driver.switch_to.alert\n",
    "    alert.accept()\n",
    "except:\n",
    "    time.sleep(1)"
   ]
  },
  {
   "cell_type": "code",
   "execution_count": 5,
   "metadata": {
    "ExecuteTime": {
     "end_time": "2020-06-14T13:56:07.092016Z",
     "start_time": "2020-06-14T13:55:58.736855Z"
    }
   },
   "outputs": [],
   "source": [
    "from selenium import webdriver\n",
    "driver = webdriver.Chrome('./chromedriver')\n",
    "driver.get(\"https://item.taobao.com/item.htm?id=586855541639\")\n",
    "try:\n",
    "    alert = driver.switch_to.alert\n",
    "    alert.accept()\n",
    "except:\n",
    "    time.sleep(1)"
   ]
  },
  {
   "cell_type": "code",
   "execution_count": null,
   "metadata": {},
   "outputs": [],
   "source": [
    "from selenium import webdriver\n",
    "from selenium.webdriver.common.by import By\n",
    "from selenium.webdriver.support.ui import WebDriverWait\n",
    "from selenium.webdriver.support import expected_conditions as EC\n",
    "\n",
    "driver = webdriver.Chrome('./chromedriver')\n",
    "driver.get(\"https://item.taobao.com/item.htm?id=586855541639\")\n",
    "try:\n",
    "    alert = driver.switch_to.alert\n",
    "    alert.accept()\n",
    "except:\n",
    "    time.sleep(1)\n",
    "\n",
    "driver.switch_to_frame(\"sufei-dialog-content\")  \n",
    "id_box = driver.find_element_by_id('fm-login-id')\n",
    "pw_box = driver.find_element_by_id('fm-login-password')\n",
    "swipe_btn = driver.find_element_by_id('nc_1_n1z')\n",
    "\n",
    "webdriver.ActionChains(driver).send_keys_to_element(id_box, 'yoohowon90').send_keys_to_element(pw_box,'ghdnjs77').perform()\n",
    "time.sleep(1)\n",
    "\n",
    "try:\n",
    "    element = WebDriverWait(driver, 10).until(\n",
    "        EC.presence_of_element_located((By.ID, \"nc_1_n1z\"))\n",
    "    )\n",
    "\n",
    "finally:\n",
    "    webdriver.ActionChains(driver).click_and_hold(swipe_btn).move_to_element_with_offset(swipe_btn, 300,10).release().perform()\n",
    "time.sleep(1)\n",
    "\n",
    "login_btn = driver.find_element_by_class_name('fm-btn').find_element_by_tag_name('button')\n",
    "webdriver.ActionChains(driver).click(login_btn).perform()\n",
    "\n",
    "\n",
    "driver.switch_to.default_content()\n",
    "\n",
    "try:\n",
    "    element = WebDriverWait(driver, 10).until(\n",
    "        EC.presence_of_element_located((By.ID, \"J_PromoPriceNum\"))\n",
    "    )\n",
    "\n",
    "finally:\n",
    "    result = {}\n",
    "    result['title'] = driver.find_element_by_xpath('//*[@id=\"J_Title\"]/h3').text\n",
    "    result['promo_price'] =  \"¥\" + driver.find_element_by_xpath('//*[@id=\"J_PromoPriceNum\"]').text\n",
    "    result['og_price'] = driver.find_element_by_xpath('//*[@id=\"J_StrPrice\"]').text\n"
   ]
  },
  {
   "cell_type": "code",
   "execution_count": 371,
   "metadata": {
    "ExecuteTime": {
     "end_time": "2020-06-14T12:52:49.963832Z",
     "start_time": "2020-06-14T12:52:49.959619Z"
    }
   },
   "outputs": [
    {
     "data": {
      "text/plain": [
       "{'title': '唐麦 T3耳机 入耳式 苹果安卓华为小米通用手机K歌有线耳塞式耳麦',\n",
       " 'promo_price': '¥99.00-117.00',\n",
       " 'og_price': '¥109.00-129.00'}"
      ]
     },
     "execution_count": 371,
     "metadata": {},
     "output_type": "execute_result"
    }
   ],
   "source": [
    "result"
   ]
  },
  {
   "cell_type": "markdown",
   "metadata": {},
   "source": [
    "## 연속적으로 여러번 요청하면 배너 뜨는거 해결 해야 함"
   ]
  },
  {
   "cell_type": "markdown",
   "metadata": {},
   "source": [
    "# 쿠키 저장"
   ]
  },
  {
   "cell_type": "code",
   "execution_count": 143,
   "metadata": {
    "ExecuteTime": {
     "end_time": "2020-06-14T08:37:53.907188Z",
     "start_time": "2020-06-14T08:37:53.895648Z"
    }
   },
   "outputs": [],
   "source": [
    "c = driver.get_cookies()\n"
   ]
  },
  {
   "cell_type": "code",
   "execution_count": 146,
   "metadata": {
    "ExecuteTime": {
     "end_time": "2020-06-14T08:39:00.375730Z",
     "start_time": "2020-06-14T08:39:00.372627Z"
    }
   },
   "outputs": [],
   "source": [
    "import pickle\n",
    "f = open('cookie_taobao.dat', 'rb')\n",
    "cookies = pickle.load(f)"
   ]
  },
  {
   "cell_type": "code",
   "execution_count": 154,
   "metadata": {
    "ExecuteTime": {
     "end_time": "2020-06-14T08:53:15.093059Z",
     "start_time": "2020-06-14T08:53:15.069623Z"
    }
   },
   "outputs": [],
   "source": [
    "import pickle\n",
    "# tmall 쿠키 백업\n",
    "c = driver.get_cookies()\n",
    "with open('cookie_taobao.dat', 'wb') as f:\n",
    "    pickle.dump(c, f)"
   ]
  },
  {
   "cell_type": "code",
   "execution_count": 160,
   "metadata": {
    "ExecuteTime": {
     "end_time": "2020-06-14T09:07:38.563798Z",
     "start_time": "2020-06-14T09:07:38.548433Z"
    }
   },
   "outputs": [],
   "source": [
    "import pickle\n",
    "# taobao 쿠키 백업\n",
    "c = driver.get_cookies()\n",
    "with open('cookie_tamll.dat', 'wb') as f:\n",
    "    pickle.dump(c, f)"
   ]
  },
  {
   "cell_type": "markdown",
   "metadata": {},
   "source": [
    "# selenium"
   ]
  },
  {
   "cell_type": "code",
   "execution_count": 124,
   "metadata": {
    "ExecuteTime": {
     "end_time": "2020-06-13T07:42:41.416224Z",
     "start_time": "2020-06-13T07:42:41.395200Z"
    }
   },
   "outputs": [],
   "source": [
    "def crawler(itemid):\n",
    "    \n",
    "    from selenium import webdriver\n",
    "    from fake_useragent import UserAgent\n",
    "\n",
    "    # userAgent 설정\n",
    "    ua = UserAgent(verify_ssl=False)\n",
    "    userAgent = ua.random\n",
    "    headers = {\n",
    "        'User-Agent': userAgent\n",
    "    }\n",
    "    options = webdriver.ChromeOptions()\n",
    "    options.add_argument(userAgent)\n",
    "\n",
    "\n",
    "    driver = webdriver.Chrome('./chromedriver',options = options)\n",
    "    \n",
    "        \n",
    "    driver.get(\"https://item.taobao.com/item.htm?id={}\".format(itemid))\n",
    "\n",
    "    # alert 창 제어\n",
    "    try:\n",
    "        alert = driver.switch_to_alert()\n",
    "        alert.accept()\n",
    "        current_url = driver.current_url\n",
    "    except:\n",
    "        current_url = driver.current_url\n",
    "    driver.quit()\n",
    "    \n",
    "    def tmall_crawler(itemid):\n",
    "        from selenium import webdriver\n",
    "        from scrapy.http import TextResponse     \n",
    "        from fake_useragent import UserAgent\n",
    "\n",
    "        import requests\n",
    "        import pickle\n",
    "\n",
    "        driver = webdriver.Chrome('./chromedriver')\n",
    "        driver.get(\"https://www.taobao.com\")\n",
    "\n",
    "\n",
    "        f = open('cookie_taobao.dat', 'rb') \n",
    "        cookies = pickle.load(f) \n",
    "        for cookie in cookies:\n",
    "            driver.add_cookie(cookie)\n",
    "\n",
    "        driver.get(\"https://item.taobao.com/item.htm?id={}\".format(itemId))   \n",
    "\n",
    "        result = {}\n",
    "        result['item_id'] = itemId\n",
    "\n",
    "        # 할인 가격\n",
    "        try:\n",
    "            result['promo_price'] = driver.find_element_by_xpath('//*[@id=\"J_PromoPrice\"]/dd/div/span').text\n",
    "        except:\n",
    "            result['promo_price'] = '할인 가격 없음'\n",
    "\n",
    "        driver.quit()\n",
    "\n",
    "        url = \"https://item.taobao.com/item.htm?id={}\".format(itemId)\n",
    "\n",
    "        ua = UserAgent(verify_ssl=False)\n",
    "        userAgent = ua.random\n",
    "\n",
    "        headers = {\n",
    "            'User-Agent': userAgent\n",
    "        }\n",
    "        response = requests.get(url=url, headers=headers)\n",
    "        req = TextResponse(response.url, body=response.text, encoding=\"utf-8\")\n",
    "\n",
    "        # item_title\n",
    "        result['item_title'] = req.xpath('//*[@id=\"J_DetailMeta\"]/div[@class=\"tm-clear\"]/div[@class=\"tb-property\"]/div/div[@class=\"tb-detail-hd\"]/h1/text()').extract_first().strip()\n",
    "\n",
    "        option_path = req.xpath('//*[@id=\"J_DetailMeta\"]/div/div/div/div[@class=\"tb-key\"]/div[@class=\"tb-skin\"]/div[@class=\"tb-sku\"]/dl[contains(@class, \"tm-sale-prop\") and contains(@class, \"tb-prop\") and contains(@class, \"tm-clear\")]')\n",
    "\n",
    "        option_ls = []\n",
    "        for path in option_path:\n",
    "            option = {}\n",
    "            option['option_title'] = path.xpath('dt/text()').extract_first()\n",
    "            option['option_detail'] = path.xpath('dd/ul/li/a/span/text()').extract()\n",
    "            image_elements = path.xpath('dd/ul[contains(@class, \"tb-img\")]/li/a')\n",
    "            option['option_image_urls'] = [element.xpath('@style').extract_first()[19:-40] for element in image_elements]\n",
    "            option_ls.append(option)\n",
    "            result['options'] = option_ls\n",
    "        \n",
    "        return result\n",
    "\n",
    "    def taobao_crawler(itemId):\n",
    "        # 패키지 임포트\n",
    "        from selenium import webdriver\n",
    "        from scrapy.http import TextResponse     \n",
    "        from fake_useragent import UserAgent\n",
    "        import pickle\n",
    "\n",
    "        import requests\n",
    "\n",
    "        driver = webdriver.Chrome('./chromedriver')\n",
    "        driver.get(\"https://www.taobao.com\")\n",
    "\n",
    "        f = open('cookie_taobao.dat', 'rb') \n",
    "        cookies = pickle.load(f) \n",
    "        for cookie in cookies:\n",
    "            driver.add_cookie(cookie)\n",
    "\n",
    "\n",
    "        driver.get(\"https://item.taobao.com/item.htm?id={}\".format(itemId))   \n",
    "\n",
    "        result = {}\n",
    "        result['item_id'] = itemId\n",
    "\n",
    "        # 할인 가격\n",
    "        try:\n",
    "            result['promo_price'] = driver.find_element_by_css_selector('#J_PromoPriceNum').text\n",
    "        except:\n",
    "            result['promo_price'] = '할인 가격 없음'\n",
    "\n",
    "        driver.quit()\n",
    "\n",
    "        ua = UserAgent(verify_ssl=False)\n",
    "        userAgent = ua.random\n",
    "\n",
    "        headers = {\n",
    "            'User-Agent': userAgent\n",
    "        }\n",
    "\n",
    "        url = \"https://item.taobao.com/item.htm?id={}\".format(itemId)\n",
    "\n",
    "        # https://stackoverflow.com/questions/32910093/python-requests-gets-tlsv1-alert-internal-err\n",
    "        requests.packages.urllib3.util.ssl_.DEFAULT_CIPHERS = 'DH+AESGCM:ECDH+AES256:DH+AES256:ECDH+AES128:DH+AES:ECDH+HIGH:DH+HIGH:ECDH+3DES:DH+3DES:RSA+AESGCM:RSA+AES:RSA+HIGH:RSA+3DES:!aNULL:!eNULL:!MD5'\n",
    "\n",
    "        response = requests.get(url=url, headers=headers)\n",
    "        req = TextResponse(response.url, body=response.text, encoding=\"utf-8\")\n",
    "        result['item_name'] = req.xpath('//*[@id=\"J_Title\"]/h3/@data-title').extract_first()\n",
    "\n",
    "        option_title = req.xpath('//*[@id=\"J_isku\"]/div/dl/dd/ul/@data-property').extract()\n",
    "        r = []\n",
    "        for title in option_title:\n",
    "            j = {}\n",
    "            j['option_title'] = title\n",
    "            j['option_details'] = req.xpath('//*[@id=\"J_isku\"]/div/dl/dd/ul[@data-property=\"{}\"]/li/a/span/text()'.format(title)).extract()\n",
    "            j['option_image_urls'] = [path[17:-29] for path in req.xpath('//*[@id=\"J_isku\"]/div/dl/dd/ul[@data-property=\"{}\"]/li/a/@style'.format(title)).extract()]\n",
    "            r.append(j)\n",
    "\n",
    "        result['options'] = r\n",
    "\n",
    "        return result\n",
    "\n",
    "    \n",
    "    if \"tmall\" in current_url:\n",
    "        return tmall_crawler(itemid)\n",
    "    else:\n",
    "        return taobao_crawler(itemid)"
   ]
  },
  {
   "cell_type": "markdown",
   "metadata": {},
   "source": [
    "# test"
   ]
  },
  {
   "cell_type": "code",
   "execution_count": 126,
   "metadata": {
    "ExecuteTime": {
     "end_time": "2020-06-13T07:43:25.275124Z",
     "start_time": "2020-06-13T07:42:59.914969Z"
    }
   },
   "outputs": [],
   "source": [
    "tmall_item = crawler(594650607691)"
   ]
  },
  {
   "cell_type": "code",
   "execution_count": 127,
   "metadata": {
    "ExecuteTime": {
     "end_time": "2020-06-13T07:43:26.006469Z",
     "start_time": "2020-06-13T07:43:26.002128Z"
    }
   },
   "outputs": [
    {
     "data": {
      "text/plain": [
       "{'item_id': 594650607691,\n",
       " 'promo_price': '118.00',\n",
       " 'item_title': '啄木鸟 丝光棉夏季男士短袖翻领t恤口袋有领中年爸爸装Polo衫大码',\n",
       " 'options': [{'option_title': '尺码',\n",
       "   'option_detail': ['165/S',\n",
       "    '170/M',\n",
       "    '175/L',\n",
       "    '180/XL',\n",
       "    '185/XXL',\n",
       "    '190/3XL'],\n",
       "   'option_image_urls': []},\n",
       "  {'option_title': '颜色',\n",
       "   'option_detail': ['ZMN7102-宝蓝', 'ZMN7102-白色', 'ZMN7102-酒红色', 'ZMN7102-灰色'],\n",
       "   'option_image_urls': ['g.alicdn.com/imgextra/i3/2997589458/O1CN01K4KHx82JjoWAy7mTB_!!299758',\n",
       "    'g.alicdn.com/imgextra/i2/2997589458/O1CN01FCMild2JjoWA7LyYw_!!299758',\n",
       "    'g.alicdn.com/imgextra/i2/2997589458/O1CN01zwiVj62JjoW7iZYMd_!!299758',\n",
       "    'g.alicdn.com/imgextra/i2/2997589458/O1CN01A2jmnN2JjoW9ExK8X_!!299758']}]}"
      ]
     },
     "execution_count": 127,
     "metadata": {},
     "output_type": "execute_result"
    }
   ],
   "source": [
    "tmall_item"
   ]
  },
  {
   "cell_type": "code",
   "execution_count": 128,
   "metadata": {
    "ExecuteTime": {
     "end_time": "2020-06-13T07:43:45.252823Z",
     "start_time": "2020-06-13T07:43:30.036708Z"
    }
   },
   "outputs": [],
   "source": [
    "taobao_item = crawler(524341898973)"
   ]
  },
  {
   "cell_type": "code",
   "execution_count": 129,
   "metadata": {
    "ExecuteTime": {
     "end_time": "2020-06-13T07:43:45.261743Z",
     "start_time": "2020-06-13T07:43:45.256202Z"
    },
    "scrolled": true
   },
   "outputs": [
    {
     "data": {
      "text/plain": [
       "{'item_id': 524341898973,\n",
       " 'promo_price': '199.00',\n",
       " 'item_name': '阎双女包双肩包女个性时尚韩版大容量花包复古风网红学生书包2093',\n",
       " 'options': [{'option_title': '颜色分类',\n",
       "   'option_details': ['荷花',\n",
       "    '吊染花',\n",
       "    '绿章',\n",
       "    '深灰色',\n",
       "    '黑白色',\n",
       "    '红咖啡',\n",
       "    '毕加索',\n",
       "    '荧光绿',\n",
       "    '莲藕',\n",
       "    '春天棉',\n",
       "    '藏码',\n",
       "    '抽图',\n",
       "    '灰色',\n",
       "    '蓝黑色',\n",
       "    '军绿色',\n",
       "    '东北红',\n",
       "    '湖蓝色',\n",
       "    '酒红色',\n",
       "    '黑色',\n",
       "    '开花',\n",
       "    '东巴蛙',\n",
       "    '宝蓝色',\n",
       "    '马勺',\n",
       "    '米白色',\n",
       "    '紫红色',\n",
       "    '品韵',\n",
       "    '老尘土',\n",
       "    '乳白色',\n",
       "    '花色',\n",
       "    '西瓜红',\n",
       "    '桔色',\n",
       "    '银色',\n",
       "    '天蓝色',\n",
       "    '浅黄色',\n",
       "    '翠绿色',\n",
       "    '浅灰色',\n",
       "    '深紫色',\n",
       "    '粉红色',\n",
       "    '季春',\n",
       "    '绽放',\n",
       "    '姜黄色',\n",
       "    '黄色',\n",
       "    '卡其色',\n",
       "    '栗色',\n",
       "    '黑白',\n",
       "    '玫红色',\n",
       "    '白色',\n",
       "    '浅蓝色',\n",
       "    '青色',\n",
       "    '驼色',\n",
       "    '巧克力色',\n",
       "    '红色',\n",
       "    '浅棕色',\n",
       "    '褐色',\n",
       "    '浅紫色',\n",
       "    '孔雀蓝',\n",
       "    '蓝色',\n",
       "    '香槟色',\n",
       "    '紫色',\n",
       "    '明黄色',\n",
       "    '深棕色',\n",
       "    '荧光黄',\n",
       "    '藏青色',\n",
       "    '咖啡色',\n",
       "    '深卡其布色',\n",
       "    '深蓝色',\n",
       "    '紫蓝色',\n",
       "    '紫罗兰',\n",
       "    '米驼色',\n",
       "    '杏色',\n",
       "    '透明',\n",
       "    '墨绿色',\n",
       "    '桔红色',\n",
       "    '柠檬黄',\n",
       "    '藕色',\n",
       "    '棕咖',\n",
       "    '蓝莓色',\n",
       "    '浅绿色'],\n",
       "   'option_image_urls': ['gd1.alicdn.com/imgextra/i2/545015033/TB2fILNaQonyKJjSZFtXXXNaVXa_!!545015033.jpg',\n",
       "    'gd3.alicdn.com/imgextra/i2/545015033/TB2cVA1nR8lpuFjSspaXXXJKpXa_!!545015033.jpg',\n",
       "    'gd3.alicdn.com/imgextra/i2/545015033/O1CN01in4COM1n39wbvYZmv_!!545015033.jpg',\n",
       "    'gd4.alicdn.com/imgextra/i1/545015033/O1CN01tiF2wu1n39wYQTDkU_!!545015033.jpg',\n",
       "    'gd1.alicdn.com/imgextra/i2/545015033/O1CN01Aeuf671n39wRrmkPi_!!545015033.jpg',\n",
       "    'gd1.alicdn.com/imgextra/i1/545015033/TB2OuyynH0kpuFjy0FjXXcBbVXa_!!545015033.jpg',\n",
       "    'gd2.alicdn.com/imgextra/i3/545015033/TB2mn01nhXkpuFjy0FiXXbUfFXa_!!545015033.jpg',\n",
       "    'gd3.alicdn.com/imgextra/i1/545015033/TB26w8Dqt0opuFjSZFxXXaDNVXa_!!545015033.jpg',\n",
       "    'gd2.alicdn.com/imgextra/i1/545015033/O1CN01bZf4Ne1n39wLaYXf8_!!545015033.jpg',\n",
       "    'gd2.alicdn.com/imgextra/i2/545015033/TB2TAdDn0BopuFjSZPcXXc9EpXa_!!545015033.jpg',\n",
       "    'gd3.alicdn.com/imgextra/i1/545015033/TB22BTNnbtlpuFjSspoXXbcDpXa_!!545015033.jpg',\n",
       "    'gd4.alicdn.com/imgextra/i1/545015033/TB2yHvNaNwlyKJjSZFNXXcOlpXa_!!545015033.jpg',\n",
       "    'gd3.alicdn.com/imgextra/i4/545015033/O1CN01RA5ZVl1n39wX9et5M_!!545015033.jpg',\n",
       "    'gd1.alicdn.com/imgextra/i2/545015033/O1CN01TOgl0E1n39wUhlFz7_!!545015033.jpg',\n",
       "    'gd2.alicdn.com/imgextra/i1/545015033/TB2gZ_mnHFkpuFjy1XcXXclapXa_!!545015033.jpg',\n",
       "    'gd1.alicdn.com/imgextra/i4/545015033/O1CN01QmYK7f1n39wYUoN0Q_!!545015033.jpg',\n",
       "    'gd4.alicdn.com/imgextra/i2/545015033/TB2NY9YniOYBuNjSsD4XXbSkFXa_!!545015033.jpg',\n",
       "    'gd1.alicdn.com/imgextra/i2/545015033/TB2laYha4TI8KJjSspiXXbM4FXa_!!545015033.jpg',\n",
       "    'gd4.alicdn.com/imgextra/i4/545015033/TB2xYzoaY_I8KJjy1XaXXbsxpXa_!!545015033.jpg',\n",
       "    'gd1.alicdn.com/imgextra/i2/545015033/TB2Yjz1v80kpuFjSsziXXa.oVXa_!!545015033.jpg',\n",
       "    'gd3.alicdn.com/imgextra/i3/545015033/TB2Q4ceqCtYBeNjSspkXXbU8VXa_!!545015033.jpg',\n",
       "    'gd2.alicdn.com/imgextra/i1/545015033/TB2uIbByOCYBuNkHFCcXXcHtVXa_!!545015033.jpg',\n",
       "    'gd4.alicdn.com/imgextra/i4/545015033/O1CN01uDRFX01n39zn1tjE5_!!545015033.jpg',\n",
       "    'gd3.alicdn.com/imgextra/i3/545015033/TB2Fw3ME25TBuNjSspmXXaDRVXa_!!545015033.jpg',\n",
       "    'gd4.alicdn.com/imgextra/i2/545015033/O1CN01aCtFo31n39wNKbtVH_!!545015033.jpg',\n",
       "    'gd3.alicdn.com/imgextra/i2/545015033/TB2XQwatyRnpuFjSZFCXXX2DXXa_!!545015033.jpg',\n",
       "    'gd2.alicdn.com/imgextra/i1/545015033/O1CN01M9cECF1n39wa8mDya_!!545015033.jpg',\n",
       "    'gd2.alicdn.com/imgextra/i1/545015033/TB2iW4gilyWBuNkSmFPXXXguVXa_!!545015033.jpg',\n",
       "    'gd1.alicdn.com/imgextra/i3/545015033/O1CN011n39rjMABIfSmg5_!!545015033.jpg',\n",
       "    'gd3.alicdn.com/imgextra/i4/545015033/O1CN01MoTKG01n39wT87r21_!!545015033.jpg',\n",
       "    'gd4.alicdn.com/imgextra/i1/545015033/O1CN011n39rj0FedQB7lO_!!545015033.jpg',\n",
       "    'gd3.alicdn.com/imgextra/i4/545015033/TB29ajhquuSBuNjy1XcXXcYjFXa_!!545015033.jpg',\n",
       "    'gd1.alicdn.com/imgextra/i4/545015033/O1CN011n39riokTVeiXTd_!!545015033.jpg',\n",
       "    'gd1.alicdn.com/imgextra/i2/545015033/O1CN01MW7Xwn1n39wNgc4j1_!!545015033.jpg',\n",
       "    'gd3.alicdn.com/imgextra/i4/545015033/O1CN01sKVNY71n39wZr0oT5_!!545015033.jpg',\n",
       "    'gd3.alicdn.com/imgextra/i3/545015033/O1CN01w8304M1n39tTPJnWQ_!!545015033.jpg',\n",
       "    'gd3.alicdn.com/imgextra/i1/545015033/O1CN01ta6t6C1n39wOf06Yq_!!545015033.jpg',\n",
       "    'gd4.alicdn.com/imgextra/i3/545015033/O1CN01HobUw91n39wRrlsPI_!!545015033.jpg',\n",
       "    'gd4.alicdn.com/imgextra/i3/545015033/O1CN01M4ReGT1n39wVVVy4D_!!545015033.jpg',\n",
       "    'gd3.alicdn.com/imgextra/i1/545015033/O1CN01Uotqw71n39wPXhP1o_!!545015033.jpg',\n",
       "    'gd1.alicdn.com/imgextra/i4/545015033/O1CN01sCkhLE1n39wQE1cVR_!!545015033.jpg',\n",
       "    'gd2.alicdn.com/imgextra/i1/545015033/O1CN01kSdC001n39zptGQfU_!!545015033.jpg',\n",
       "    'gd1.alicdn.com/imgextra/i4/545015033/O1CN01Dnthkk1n39wXGu678_!!545015033.jpg',\n",
       "    'gd4.alicdn.com/imgextra/i4/545015033/O1CN01QTtNTX1n39zrdSEug_!!545015033.jpg',\n",
       "    'gd4.alicdn.com/imgextra/i2/545015033/TB20mPkE4SYBuNjSsphXXbGvVXa_!!545015033.jpg',\n",
       "    'gd1.alicdn.com/imgextra/i1/545015033/O1CN01Hr2T7p1n39wM1nLN8_!!545015033.jpg',\n",
       "    'gd3.alicdn.com/imgextra/i2/545015033/O1CN01RJ1M761n39wQ9FFMA_!!545015033.jpg',\n",
       "    'gd3.alicdn.com/imgextra/i3/545015033/O1CN01zqnYiJ1n39x5YTS06_!!545015033.jpg',\n",
       "    'gd2.alicdn.com/imgextra/i3/545015033/O1CN01y1P80A1n39wWvMBge_!!545015033.jpg',\n",
       "    'gd2.alicdn.com/imgextra/i4/545015033/O1CN01e6iyNT1n39xPWj2E9_!!545015033.jpg',\n",
       "    'gd4.alicdn.com/imgextra/i1/545015033/O1CN01tiF2wu1n39wYQTDkU_!!545015033.jpg',\n",
       "    'gd2.alicdn.com/imgextra/i3/545015033/TB2YH6YtpXXXXcHXXXXXXXXXXXX_!!545015033.jpg',\n",
       "    'gd1.alicdn.com/imgextra/i4/545015033/TB2ZMDuuXXXXXbJXXXXXXXXXXXX_!!545015033.jpg',\n",
       "    'gd2.alicdn.com/imgextra/i3/545015033/O1CN011zDYcp1n39zpjqMJk_!!545015033.jpg',\n",
       "    'gd1.alicdn.com/imgextra/i2/545015033/O1CN01A8l8UQ1n39zn1v8WJ_!!545015033.jpg',\n",
       "    'gd2.alicdn.com/imgextra/i2/545015033/O1CN01l8wMCg1n39wXH8Kl4_!!545015033.jpg',\n",
       "    'gd4.alicdn.com/imgextra/i1/545015033/O1CN01jSoPsr1n39wWVgh7p_!!545015033.jpg',\n",
       "    'gd1.alicdn.com/imgextra/i2/545015033/O1CN01FjMPTH1n39wVVX2Yl_!!545015033.jpg',\n",
       "    'gd2.alicdn.com/imgextra/i4/545015033/O1CN01EwoXKl1n39wX9d4pI_!!545015033.jpg',\n",
       "    'gd4.alicdn.com/imgextra/i3/545015033/O1CN01cG0qfP1n39wURJDAk_!!545015033.jpg',\n",
       "    'gd2.alicdn.com/imgextra/i4/545015033/O1CN01j1AmaC1n39x6oHCLX_!!545015033.jpg',\n",
       "    'gd2.alicdn.com/imgextra/i2/545015033/O1CN011n39r6FohWe4Ovy_!!545015033.jpg',\n",
       "    'gd2.alicdn.com/imgextra/i1/545015033/O1CN01M9cECF1n39wa8mDya_!!545015033.jpg',\n",
       "    'gd2.alicdn.com/imgextra/i3/545015033/TB2w13OmBsmBKNjSZFsXXaXSVXa_!!545015033.jpg',\n",
       "    'gd1.alicdn.com/imgextra/i4/545015033/O1CN010oakgh1n39wLaY4XX_!!545015033.jpg',\n",
       "    'gd1.alicdn.com/imgextra/i4/545015033/O1CN01KfQSrJ1n39wWvLmlA_!!545015033.jpg',\n",
       "    'gd2.alicdn.com/imgextra/i4/545015033/TB2eXerqv9TBuNjy0FcXXbeiFXa_!!545015033.jpg',\n",
       "    'gd2.alicdn.com/imgextra/i4/545015033/O1CN01mPn1ir1n39zu5Uazr_!!545015033.jpg',\n",
       "    'gd3.alicdn.com/imgextra/i4/545015033/O1CN01p71Onc1n39ztmqffc_!!545015033.jpg',\n",
       "    'gd4.alicdn.com/imgextra/i3/545015033/O1CN01BFGrlt1n39zhNP3tv_!!545015033.jpg',\n",
       "    'gd1.alicdn.com/imgextra/i1/545015033/O1CN01QcxGLV1n39zrNEdIa_!!545015033.jpg',\n",
       "    'gd2.alicdn.com/imgextra/i3/545015033/O1CN01w6wN1Y1n39zhNN7NL_!!545015033.jpg',\n",
       "    'gd2.alicdn.com/imgextra/i1/545015033/O1CN01kFyPGu1n39znPtEN1_!!545015033.jpg',\n",
       "    'gd2.alicdn.com/imgextra/i1/545015033/O1CN01l4yGnZ1n39ztmpGM7_!!545015033.jpg',\n",
       "    'gd4.alicdn.com/imgextra/i3/545015033/O1CN01Vkn5fJ1n39zps8kLD_!!545015033.jpg',\n",
       "    'gd1.alicdn.com/imgextra/i2/545015033/O1CN01fp6djm1n39zpNecsV_!!545015033.jpg',\n",
       "    'gd2.alicdn.com/imgextra/i2/545015033/O1CN010566Qu1n39zsSpAWP_!!545015033.jpg',\n",
       "    'gd1.alicdn.com/imgextra/i1/545015033/O1CN01hSQZ3t1n39zpkwZCb_!!545015033.jpg']}]}"
      ]
     },
     "execution_count": 129,
     "metadata": {},
     "output_type": "execute_result"
    }
   ],
   "source": [
    "taobao_item"
   ]
  },
  {
   "cell_type": "code",
   "execution_count": null,
   "metadata": {},
   "outputs": [],
   "source": []
  },
  {
   "cell_type": "code",
   "execution_count": null,
   "metadata": {},
   "outputs": [],
   "source": []
  },
  {
   "cell_type": "code",
   "execution_count": null,
   "metadata": {},
   "outputs": [],
   "source": []
  },
  {
   "cell_type": "code",
   "execution_count": null,
   "metadata": {},
   "outputs": [],
   "source": []
  },
  {
   "cell_type": "code",
   "execution_count": null,
   "metadata": {},
   "outputs": [],
   "source": []
  },
  {
   "cell_type": "markdown",
   "metadata": {},
   "source": [
    "# tmall request 활용"
   ]
  },
  {
   "cell_type": "code",
   "execution_count": 118,
   "metadata": {
    "ExecuteTime": {
     "end_time": "2020-06-13T07:41:17.755353Z",
     "start_time": "2020-06-13T07:41:05.769941Z"
    }
   },
   "outputs": [],
   "source": [
    "from selenium import webdriver\n",
    "from scrapy.http import TextResponse     \n",
    "from fake_useragent import UserAgent\n",
    "\n",
    "import requests\n",
    "import pickle\n",
    "\n",
    "driver = webdriver.Chrome('./chromedriver')\n",
    "driver.get(\"https://www.taobao.com\")\n",
    "\n",
    "\n",
    "f = open('cookie_taobao.dat', 'rb') \n",
    "cookies = pickle.load(f) \n",
    "for cookie in cookies:\n",
    "    driver.add_cookie(cookie)\n",
    "\n",
    "driver.get(\"https://item.taobao.com/item.htm?id={}\".format(itemId))   \n",
    "\n",
    "result = {}\n",
    "result['item_id'] = itemId\n",
    "\n",
    "# 할인 가격\n",
    "try:\n",
    "    result['promo_price'] = driver.find_element_by_xpath('//*[@id=\"J_PromoPrice\"]/dd/div/span').text\n",
    "except:\n",
    "    result['promo_price'] = '할인 가격 없음'\n",
    "\n",
    "driver.quit()\n",
    "\n",
    "url = \"https://item.taobao.com/item.htm?id={}\".format(itemId)\n",
    "\n",
    "ua = UserAgent(verify_ssl=False)\n",
    "userAgent = ua.random\n",
    "\n",
    "headers = {\n",
    "    'User-Agent': userAgent\n",
    "}\n",
    "response = requests.get(url=url, headers=headers)\n",
    "req = TextResponse(response.url, body=response.text, encoding=\"utf-8\")\n",
    "\n",
    "# item_title\n",
    "result['item_title'] = req.xpath('//*[@id=\"J_DetailMeta\"]/div[@class=\"tm-clear\"]/div[@class=\"tb-property\"]/div/div[@class=\"tb-detail-hd\"]/h1/text()').extract_first().strip()\n",
    "\n",
    "option_path = req.xpath('//*[@id=\"J_DetailMeta\"]/div/div/div/div[@class=\"tb-key\"]/div[@class=\"tb-skin\"]/div[@class=\"tb-sku\"]/dl[contains(@class, \"tm-sale-prop\") and contains(@class, \"tb-prop\") and contains(@class, \"tm-clear\")]')\n",
    "\n",
    "option_ls = []\n",
    "for path in option_path:\n",
    "    option = {}\n",
    "    option['option_title'] = path.xpath('dt/text()').extract_first()\n",
    "    option['option_detail'] = path.xpath('dd/ul/li/a/span/text()').extract()\n",
    "    image_elements = path.xpath('dd/ul[contains(@class, \"tb-img\")]/li/a')\n",
    "    option['option_image_urls'] = [element.xpath('@style').extract_first()[19:-40] for element in image_elements]\n",
    "    option_ls.append(option)\n",
    "    result['options'] = option_ls"
   ]
  },
  {
   "cell_type": "code",
   "execution_count": 123,
   "metadata": {
    "ExecuteTime": {
     "end_time": "2020-06-13T07:41:22.298815Z",
     "start_time": "2020-06-13T07:41:22.293195Z"
    }
   },
   "outputs": [
    {
     "data": {
      "text/plain": [
       "{'item_id': 594650607691,\n",
       " 'promo_price': '118.00',\n",
       " 'item_title': '啄木鸟 丝光棉夏季男士短袖翻领t恤口袋有领中年爸爸装Polo衫大码',\n",
       " 'options': [{'option_title': '尺码',\n",
       "   'option_detail': ['165/S',\n",
       "    '170/M',\n",
       "    '175/L',\n",
       "    '180/XL',\n",
       "    '185/XXL',\n",
       "    '190/3XL'],\n",
       "   'option_image_urls': []},\n",
       "  {'option_title': '颜色',\n",
       "   'option_detail': ['ZMN7102-宝蓝', 'ZMN7102-白色', 'ZMN7102-酒红色', 'ZMN7102-灰色'],\n",
       "   'option_image_urls': ['g.alicdn.com/imgextra/i3/2997589458/O1CN01K4KHx82JjoWAy7mTB_!!299758',\n",
       "    'g.alicdn.com/imgextra/i2/2997589458/O1CN01FCMild2JjoWA7LyYw_!!299758',\n",
       "    'g.alicdn.com/imgextra/i2/2997589458/O1CN01zwiVj62JjoW7iZYMd_!!299758',\n",
       "    'g.alicdn.com/imgextra/i2/2997589458/O1CN01A2jmnN2JjoW9ExK8X_!!299758']}]}"
      ]
     },
     "execution_count": 123,
     "metadata": {},
     "output_type": "execute_result"
    }
   ],
   "source": [
    "result"
   ]
  },
  {
   "cell_type": "code",
   "execution_count": 1,
   "metadata": {
    "ExecuteTime": {
     "end_time": "2020-06-12T09:24:43.983623Z",
     "start_time": "2020-06-12T09:24:43.981377Z"
    }
   },
   "outputs": [],
   "source": [
    "# tmall\n",
    "itemid = \"38012241391\""
   ]
  },
  {
   "cell_type": "code",
   "execution_count": 4,
   "metadata": {
    "ExecuteTime": {
     "end_time": "2020-06-12T09:25:03.334457Z",
     "start_time": "2020-06-12T09:25:03.332046Z"
    }
   },
   "outputs": [],
   "source": [
    "# taobao\n",
    "itemid = \"524341898973\""
   ]
  },
  {
   "cell_type": "code",
   "execution_count": 5,
   "metadata": {
    "ExecuteTime": {
     "end_time": "2020-06-12T09:25:13.475247Z",
     "start_time": "2020-06-12T09:25:04.479635Z"
    }
   },
   "outputs": [],
   "source": [
    "from selenium import webdriver\n",
    "from fake_useragent import UserAgent\n",
    "\n",
    "# userAgent 설정\n",
    "ua = UserAgent(verify_ssl=False)\n",
    "userAgent = ua.random\n",
    "headers = {\n",
    "    'User-Agent': userAgent\n",
    "}\n",
    "options = webdriver.ChromeOptions()\n",
    "options.add_argument(userAgent)\n",
    "\n",
    "\n",
    "driver = webdriver.Chrome('./chromedriver',options = options)\n",
    "driver.get(\"https://item.taobao.com/item.htm?id={}\".format(itemid))\n",
    "\n",
    "# alert 창 제어\n",
    "try:\n",
    "    alert = driver.switch_to_alert()\n",
    "    alert.accept()\n",
    "    current_url = driver.current_url\n",
    "except:\n",
    "    current_url = driver.current_url\n",
    "\n",
    "    \n",
    "driver.quit()"
   ]
  },
  {
   "cell_type": "code",
   "execution_count": 4,
   "metadata": {
    "ExecuteTime": {
     "end_time": "2020-06-12T09:20:08.603003Z",
     "start_time": "2020-06-12T09:20:08.589466Z"
    }
   },
   "outputs": [],
   "source": [
    "def tmall_crawler(itemid, driver):\n",
    "    import pickle\n",
    "    # 쿠키 복원\n",
    "    f = open('cookie_taobao.dat', 'rb') \n",
    "    cookies = pickle.load(f) \n",
    "    for c in cookies: \n",
    "        driver.add_cookie(c)\n",
    "    driver.implicitly_wait(1)\n",
    "    driver.get(\"https://item.taobao.com/item.htm?id={}\".format(itemid))\n",
    "    \n",
    "    result = {}\n",
    "    result['item_id'] = itemid\n",
    "    result['item_title'] = driver.find_element_by_xpath('//*[@id=\"J_DetailMeta\"]/div[1]/div[1]/div/div[1]/h1').text\n",
    "    result['og_price'] = driver.find_element_by_xpath('//*[@id=\"J_StrPriceModBox\"]/dd/span').text\n",
    "    result['promo_price'] = driver.find_element_by_xpath('//*[@id=\"J_PromoPrice\"]/dd/div/span').text\n",
    "    option_path = driver.find_elements_by_xpath('//*[@id=\"J_DetailMeta\"]/div/div/div/div[@class=\"tb-key\"]/div[@class=\"tb-skin\"]/div[@class=\"tb-sku\"]/dl[contains(@class, \"tm-sale-prop\") and contains(@class, \"tb-prop\") and contains(@class, \"tm-clear\")]')\n",
    "    option_ls = []\n",
    "    for path in option_path:\n",
    "        option = {}\n",
    "        option['option_title'] = path.find_element_by_xpath('dt').text\n",
    "        option['oprion_detail'] = path.find_element_by_xpath('dd/ul').text.split('\\n')\n",
    "        image_elements = path.find_elements_by_xpath('dd/ul[contains(@class, \"tb-img\")]/li/a')\n",
    "        option['option_image_urls'] = [element.get_attribute('style')[19:-40] for element in image_elements]\n",
    "        option_ls.append(option)\n",
    "        result['options'] = option_ls\n",
    "        driver.quit()\n",
    "    return result\n"
   ]
  },
  {
   "cell_type": "code",
   "execution_count": 5,
   "metadata": {
    "ExecuteTime": {
     "end_time": "2020-06-12T09:20:08.617343Z",
     "start_time": "2020-06-12T09:20:08.605740Z"
    }
   },
   "outputs": [],
   "source": [
    "def taobao_crawler(itemId,driver):\n",
    "    result = {}\n",
    "    result['itemID'] = itemId\n",
    "    \n",
    "    # 패키지 임포트\n",
    "    from selenium import webdriver\n",
    "    from scrapy.http import TextResponse     \n",
    "    from fake_useragent import UserAgent\n",
    "    \n",
    "    import pickle\n",
    "    import requests\n",
    "    import re\n",
    "    \n",
    "#     driver = webdriver.Chrome('./chromedriver')\n",
    "#     driver.get(\"https://www.taobao.com\")\n",
    "    \n",
    "    # 쿠키 복원\n",
    "    f = open('cookie_taobao.dat', 'rb') \n",
    "    cookies = pickle.load(f) \n",
    "    for cookie in cookies:\n",
    "        driver.add_cookie(cookie)\n",
    "        \n",
    "    driver.get(\"https://item.taobao.com/item.htm?id={}\".format(itemId))   \n",
    "\n",
    "    # 할인 가격\n",
    "    try:\n",
    "        result['promo_price'] = driver.find_element_by_css_selector('#J_PromoPriceNum').text\n",
    "    except:\n",
    "        result['promo_price'] = '할인 가격 없음'\n",
    "        \n",
    "    driver.quit()\n",
    "    \n",
    "    ua = UserAgent(verify_ssl=False)\n",
    "    userAgent = ua.random\n",
    "    \n",
    "    headers = {\n",
    "        'User-Agent': userAgent\n",
    "    }\n",
    "\n",
    "    url = \"https://item.taobao.com/item.htm?id={}\".format(itemId)\n",
    "\n",
    "    # https://stackoverflow.com/questions/32910093/python-requests-gets-tlsv1-alert-internal-err\n",
    "    requests.packages.urllib3.util.ssl_.DEFAULT_CIPHERS = 'DH+AESGCM:ECDH+AES256:DH+AES256:ECDH+AES128:DH+AES:ECDH+HIGH:DH+HIGH:ECDH+3DES:DH+3DES:RSA+AESGCM:RSA+AES:RSA+HIGH:RSA+3DES:!aNULL:!eNULL:!MD5'\n",
    "\n",
    "    response = requests.get(url=url, headers=headers)\n",
    "    req = TextResponse(response.url, body=response.text, encoding=\"utf-8\")\n",
    "    \n",
    "    # Taobao\n",
    "    if len(req.xpath('//div[contains(@class, \"tm-style-detail\")]')) != 1:\n",
    "        result['item_name'] = req.xpath('//*[@id=\"J_Title\"]/h3/@data-title').extract_first()\n",
    "\n",
    "        option_title = req.xpath('//*[@id=\"J_isku\"]/div/dl/dd/ul/@data-property').extract()\n",
    "        r = []\n",
    "        for title in option_title:\n",
    "            j = {}\n",
    "            j['option_title'] = title\n",
    "            j['option_details'] = req.xpath('//*[@id=\"J_isku\"]/div/dl/dd/ul[@data-property=\"{}\"]/li/a/span/text()'.format(title)).extract()\n",
    "            j['option_image_urls'] = [path[17:-29] for path in req.xpath('//*[@id=\"J_isku\"]/div/dl/dd/ul[@data-property=\"{}\"]/li/a/@style'.format(title)).extract()]\n",
    "            r.append(j)\n",
    "\n",
    "        result['options'] = r\n",
    "        \n",
    "    return result"
   ]
  },
  {
   "cell_type": "markdown",
   "metadata": {},
   "source": [
    "## T-mall or Taobao"
   ]
  },
  {
   "cell_type": "code",
   "execution_count": null,
   "metadata": {},
   "outputs": [],
   "source": [
    "if \"tmall\" in current_url:\n",
    "    result = tmall_crawler(itemid, driver)\n",
    "else:\n",
    "    result = taobao_crawler(itemid, driver)"
   ]
  },
  {
   "cell_type": "markdown",
   "metadata": {},
   "source": [
    "## tmall crawler 만들기"
   ]
  },
  {
   "cell_type": "markdown",
   "metadata": {},
   "source": [
    "## options"
   ]
  },
  {
   "cell_type": "code",
   "execution_count": 160,
   "metadata": {
    "ExecuteTime": {
     "end_time": "2020-06-12T08:32:38.265932Z",
     "start_time": "2020-06-12T08:32:38.037670Z"
    }
   },
   "outputs": [],
   "source": [
    "option_path = driver.find_elements_by_xpath('//*[@id=\"J_DetailMeta\"]/div/div/div/div[@class=\"tb-key\"]/div[@class=\"tb-skin\"]/div[@class=\"tb-sku\"]/dl[contains(@class, \"tm-sale-prop\") and contains(@class, \"tb-prop\") and contains(@class, \"tm-clear\")]')\n",
    "option_ls = []\n",
    "for path in option_path:\n",
    "    option = {}\n",
    "    test['option_title'] = path.find_element_by_xpath('dt').text\n",
    "    test['oprion_detail'] = path.find_element_by_xpath('dd/ul').text.split('\\n')\n",
    "    image_elements = path.find_elements_by_xpath('dd/ul[contains(@class, \"tb-img\")]/li/a')\n",
    "    test['option_image_urls'] = [element.get_attribute('style')[19:-40] for element in image_elements]\n",
    "    option_ls.append(option)"
   ]
  },
  {
   "cell_type": "code",
   "execution_count": 4,
   "metadata": {
    "ExecuteTime": {
     "end_time": "2020-06-12T08:42:23.592482Z",
     "start_time": "2020-06-12T08:42:23.572766Z"
    }
   },
   "outputs": [],
   "source": [
    "def tmall_crawler(itemid, driver):\n",
    "    import pickle\n",
    "    # 쿠키 복원\n",
    "    f = open('cookie_taobao.dat', 'rb') \n",
    "    cookies = pickle.load(f) \n",
    "    for c in cookies: \n",
    "        driver.add_cookie(c)\n",
    "    driver.get(\"https://item.taobao.com/item.htm?id={}\".format(itemid))\n",
    "    \n",
    "    result = {}\n",
    "    result['item_id'] = itemid\n",
    "    result['item_title'] = driver.find_element_by_xpath('//*[@id=\"J_DetailMeta\"]/div[1]/div[1]/div/div[1]/h1').text\n",
    "    result['og_price'] = driver.find_element_by_xpath('//*[@id=\"J_StrPriceModBox\"]/dd/span').text\n",
    "    result['promo_price'] = driver.find_element_by_xpath('//*[@id=\"J_PromoPrice\"]/dd/div/span').text\n",
    "    option_path = driver.find_elements_by_xpath('//*[@id=\"J_DetailMeta\"]/div/div/div/div[@class=\"tb-key\"]/div[@class=\"tb-skin\"]/div[@class=\"tb-sku\"]/dl[contains(@class, \"tm-sale-prop\") and contains(@class, \"tb-prop\") and contains(@class, \"tm-clear\")]')\n",
    "    option_ls = []\n",
    "    for path in option_path:\n",
    "        option = {}\n",
    "        option['option_title'] = path.find_element_by_xpath('dt').text\n",
    "        option['oprion_detail'] = path.find_element_by_xpath('dd/ul').text.split('\\n')\n",
    "        image_elements = path.find_elements_by_xpath('dd/ul[contains(@class, \"tb-img\")]/li/a')\n",
    "        option['option_image_urls'] = [element.get_attribute('style')[19:-40] for element in image_elements]\n",
    "        option_ls.append(option)\n",
    "        result['options'] = option_ls\n",
    "        driver.quit()\n",
    "    return result\n"
   ]
  },
  {
   "cell_type": "markdown",
   "metadata": {},
   "source": [
    "## taobao crawler 만들기"
   ]
  },
  {
   "cell_type": "code",
   "execution_count": 6,
   "metadata": {
    "ExecuteTime": {
     "end_time": "2020-06-12T08:34:27.732555Z",
     "start_time": "2020-06-12T08:34:27.729032Z"
    }
   },
   "outputs": [],
   "source": [
    "def taobao_crawler(itemid, driver):\n",
    "    import pickle\n",
    "    # 쿠키 복원\n",
    "    f = open('cookie_taobao.dat', 'rb') \n",
    "    cookies = pickle.load(f) \n",
    "    for c in cookies: \n",
    "        driver.add_cookie(c)\n",
    "    driver.get(\"https://item.taobao.com/item.htm?id={}\".format(itemid))"
   ]
  },
  {
   "cell_type": "code",
   "execution_count": 10,
   "metadata": {
    "ExecuteTime": {
     "end_time": "2020-06-12T07:49:27.089167Z",
     "start_time": "2020-06-12T07:49:25.905895Z"
    }
   },
   "outputs": [],
   "source": [
    "driver.get(\"https://item.taobao.com/item.htm?id={}\".format(itemid))"
   ]
  },
  {
   "cell_type": "code",
   "execution_count": 4,
   "metadata": {
    "ExecuteTime": {
     "end_time": "2020-06-12T07:21:39.292203Z",
     "start_time": "2020-06-12T07:21:39.289781Z"
    }
   },
   "outputs": [],
   "source": [
    "itemid = \"618710171159\""
   ]
  },
  {
   "cell_type": "code",
   "execution_count": 3,
   "metadata": {
    "ExecuteTime": {
     "end_time": "2020-06-12T07:22:46.054125Z",
     "start_time": "2020-06-12T07:22:46.042039Z"
    }
   },
   "outputs": [],
   "source": [
    "itemid = \"563526727068\""
   ]
  },
  {
   "cell_type": "code",
   "execution_count": 4,
   "metadata": {
    "ExecuteTime": {
     "end_time": "2020-06-12T07:22:51.584575Z",
     "start_time": "2020-06-12T07:22:48.598310Z"
    }
   },
   "outputs": [],
   "source": [
    "driver.get(\"https://item.taobao.com/item.htm?id={}\".format(itemid))"
   ]
  },
  {
   "cell_type": "markdown",
   "metadata": {
    "ExecuteTime": {
     "end_time": "2020-06-12T04:44:32.422899Z",
     "start_time": "2020-06-12T04:44:32.420362Z"
    }
   },
   "source": [
    "## 가격"
   ]
  },
  {
   "cell_type": "code",
   "execution_count": 62,
   "metadata": {
    "ExecuteTime": {
     "end_time": "2020-06-12T07:19:09.625102Z",
     "start_time": "2020-06-12T07:19:09.602696Z"
    }
   },
   "outputs": [
    {
     "name": "stdout",
     "output_type": "stream",
     "text": [
      "할인 가격 :  99.00\n"
     ]
    }
   ],
   "source": [
    "# 할인 가격\n",
    "try:\n",
    "    print(\"할인 가격 : \", driver.find_element_by_css_selector('#J_PromoPriceNum').text)\n",
    "except:\n",
    "    print('할인 가격 없음')"
   ]
  },
  {
   "cell_type": "code",
   "execution_count": 63,
   "metadata": {
    "ExecuteTime": {
     "end_time": "2020-06-12T07:19:10.614315Z",
     "start_time": "2020-06-12T07:19:10.592899Z"
    }
   },
   "outputs": [
    {
     "name": "stdout",
     "output_type": "stream",
     "text": [
      "원가 :  198.00\n"
     ]
    }
   ],
   "source": [
    "print(\"원가 : \", driver.find_element_by_css_selector('#J_StrPrice > em.tb-rmb-num').text)"
   ]
  },
  {
   "cell_type": "markdown",
   "metadata": {},
   "source": [
    "## 상품명"
   ]
  },
  {
   "cell_type": "code",
   "execution_count": 10,
   "metadata": {
    "ExecuteTime": {
     "end_time": "2020-06-12T06:28:27.978799Z",
     "start_time": "2020-06-12T06:28:27.457142Z"
    }
   },
   "outputs": [],
   "source": [
    "import requests\n",
    "from scrapy.http import TextResponse \n",
    "import re\n",
    "from fake_useragent import UserAgent"
   ]
  },
  {
   "cell_type": "code",
   "execution_count": 11,
   "metadata": {
    "ExecuteTime": {
     "end_time": "2020-06-12T06:28:30.579512Z",
     "start_time": "2020-06-12T06:28:29.886846Z"
    }
   },
   "outputs": [],
   "source": [
    "ua = UserAgent(verify_ssl=False)\n",
    "userAgent = ua.random\n",
    "headers = {\n",
    "    'User-Agent': userAgent\n",
    "}\n",
    "\n",
    "url = \"https://item.taobao.com/item.htm?id={}\".format(itemid)\n",
    "\n",
    "# https://stackoverflow.com/questions/32910093/python-requests-gets-tlsv1-alert-internal-err\n",
    "requests.packages.urllib3.util.ssl_.DEFAULT_CIPHERS = 'DH+AESGCM:ECDH+AES256:DH+AES256:ECDH+AES128:DH+AES:ECDH+HIGH:DH+HIGH:ECDH+3DES:DH+3DES:RSA+AESGCM:RSA+AES:RSA+HIGH:RSA+3DES:!aNULL:!eNULL:!MD5'\n",
    "\n",
    "response = requests.get(url=url,headers=headers)\n",
    "req = TextResponse(response.url, body=response.text, encoding=\"utf-8\")"
   ]
  },
  {
   "cell_type": "code",
   "execution_count": null,
   "metadata": {},
   "outputs": [],
   "source": [
    "[contains(@class, 'Test')"
   ]
  },
  {
   "cell_type": "code",
   "execution_count": 178,
   "metadata": {
    "ExecuteTime": {
     "end_time": "2020-06-12T07:12:39.013799Z",
     "start_time": "2020-06-12T07:12:39.010005Z"
    }
   },
   "outputs": [
    {
     "data": {
      "text/plain": [
       "[]"
      ]
     },
     "execution_count": 178,
     "metadata": {},
     "output_type": "execute_result"
    }
   ],
   "source": [
    "req.xpath('//div[contains(@classs, \"tm-style-detail\")]')"
   ]
  },
  {
   "cell_type": "code",
   "execution_count": 12,
   "metadata": {
    "ExecuteTime": {
     "end_time": "2020-06-12T06:28:31.144716Z",
     "start_time": "2020-06-12T06:28:31.137549Z"
    }
   },
   "outputs": [
    {
     "name": "stdout",
     "output_type": "stream",
     "text": [
      "상품명 :  头层真皮豆豆鞋女春秋夏超级透气软底一脚蹬2020新款孕妇平底单鞋\n"
     ]
    }
   ],
   "source": [
    "# 제품 이름\n",
    "print(\"상품명 : \", req.xpath('//*[@id=\"J_Title\"]/h3/@data-title').extract_first())"
   ]
  },
  {
   "cell_type": "code",
   "execution_count": 13,
   "metadata": {
    "ExecuteTime": {
     "end_time": "2020-06-12T06:28:32.028710Z",
     "start_time": "2020-06-12T06:28:32.025459Z"
    }
   },
   "outputs": [],
   "source": [
    "# 옵션타이틀\n",
    "option_title = req.xpath('//*[@id=\"J_isku\"]/div/dl/dd/ul/@data-property').extract()"
   ]
  },
  {
   "cell_type": "code",
   "execution_count": 14,
   "metadata": {
    "ExecuteTime": {
     "end_time": "2020-06-12T06:28:32.863969Z",
     "start_time": "2020-06-12T06:28:32.859153Z"
    }
   },
   "outputs": [
    {
     "data": {
      "text/plain": [
       "['35', '36', '37', '38', '39', '40', '41', '42']"
      ]
     },
     "execution_count": 14,
     "metadata": {},
     "output_type": "execute_result"
    }
   ],
   "source": [
    "# 옵션 내용\n",
    "req.xpath('//*[@id=\"J_isku\"]/div/dl/dd/ul[@data-property=\"{}\"]/li/a/span/text()'.format(option_title[0])).extract()"
   ]
  },
  {
   "cell_type": "code",
   "execution_count": 73,
   "metadata": {
    "ExecuteTime": {
     "end_time": "2020-06-12T06:46:29.668533Z",
     "start_time": "2020-06-12T06:46:29.664843Z"
    }
   },
   "outputs": [
    {
     "data": {
      "text/plain": [
       "['尺码', '颜色分类']"
      ]
     },
     "execution_count": 73,
     "metadata": {},
     "output_type": "execute_result"
    }
   ],
   "source": [
    "option_title"
   ]
  },
  {
   "cell_type": "code",
   "execution_count": 106,
   "metadata": {
    "ExecuteTime": {
     "end_time": "2020-06-12T06:50:40.963767Z",
     "start_time": "2020-06-12T06:50:40.956607Z"
    }
   },
   "outputs": [],
   "source": [
    "r = []\n",
    "for title in option_title:\n",
    "    j = {}\n",
    "    j['option_title'] = title\n",
    "    j['options'] = req.xpath('//*[@id=\"J_isku\"]/div/dl/dd/ul[@data-property=\"{}\"]/li/a/span/text()'.format(title)).extract()\n",
    "    j['image_urls'] = [path[17:-29] for path in req.xpath('//*[@id=\"J_isku\"]/div/dl/dd/ul[@data-property=\"{}\"]/li/a/@style'.format(title)).extract()]\n",
    "    r.append(j)"
   ]
  },
  {
   "cell_type": "markdown",
   "metadata": {},
   "source": [
    "# TextResponse"
   ]
  },
  {
   "cell_type": "code",
   "execution_count": 1,
   "metadata": {
    "ExecuteTime": {
     "end_time": "2020-06-12T02:53:37.433960Z",
     "start_time": "2020-06-12T02:53:36.870154Z"
    }
   },
   "outputs": [],
   "source": [
    "import requests\n",
    "from bs4 import BeautifulSoup\n",
    "from scrapy.http import TextResponse \n",
    "import re\n",
    "from fake_useragent import UserAgent"
   ]
  },
  {
   "cell_type": "code",
   "execution_count": 255,
   "metadata": {
    "ExecuteTime": {
     "end_time": "2020-06-12T04:23:11.943147Z",
     "start_time": "2020-06-12T04:23:11.938083Z"
    },
    "scrolled": true
   },
   "outputs": [],
   "source": [
    "ua = UserAgent(verify_ssl=False)\n",
    "userAgent = ua.random"
   ]
  },
  {
   "cell_type": "code",
   "execution_count": 187,
   "metadata": {
    "ExecuteTime": {
     "end_time": "2020-06-12T03:51:22.751519Z",
     "start_time": "2020-06-12T03:51:22.749140Z"
    }
   },
   "outputs": [],
   "source": [
    "# https://stackoverflow.com/questions/32910093/python-requests-gets-tlsv1-alert-internal-err\n",
    "requests.packages.urllib3.util.ssl_.DEFAULT_CIPHERS = 'DH+AESGCM:ECDH+AES256:DH+AES256:ECDH+AES128:DH+AES:ECDH+HIGH:DH+HIGH:ECDH+3DES:DH+3DES:RSA+AESGCM:RSA+AES:RSA+HIGH:RSA+3DES:!aNULL:!eNULL:!MD5'"
   ]
  },
  {
   "cell_type": "code",
   "execution_count": 208,
   "metadata": {
    "ExecuteTime": {
     "end_time": "2020-06-12T03:57:15.857485Z",
     "start_time": "2020-06-12T03:57:14.953018Z"
    }
   },
   "outputs": [],
   "source": [
    "test_url = \"https://item.taobao.com/item.htm?id=562911697499\"\n",
    "headers = {\n",
    "    'User-Agent': userAgent}\n",
    "response = requests.get(url=test_url,headers=headers)"
   ]
  },
  {
   "cell_type": "code",
   "execution_count": 209,
   "metadata": {
    "ExecuteTime": {
     "end_time": "2020-06-12T03:57:15.864034Z",
     "start_time": "2020-06-12T03:57:15.860239Z"
    }
   },
   "outputs": [
    {
     "data": {
      "text/plain": [
       "<Response [200]>"
      ]
     },
     "execution_count": 209,
     "metadata": {},
     "output_type": "execute_result"
    }
   ],
   "source": [
    "response"
   ]
  },
  {
   "cell_type": "code",
   "execution_count": 210,
   "metadata": {
    "ExecuteTime": {
     "end_time": "2020-06-12T03:57:16.192562Z",
     "start_time": "2020-06-12T03:57:16.189349Z"
    }
   },
   "outputs": [],
   "source": [
    "req = TextResponse(response.url, body=response.text, encoding=\"utf-8\")"
   ]
  },
  {
   "cell_type": "code",
   "execution_count": 211,
   "metadata": {
    "ExecuteTime": {
     "end_time": "2020-06-12T03:57:17.388998Z",
     "start_time": "2020-06-12T03:57:17.381960Z"
    }
   },
   "outputs": [
    {
     "data": {
      "text/plain": [
       "['<li id=\"J_PromoPrice\" class=\"tb-detail-price tb-promo-price tb-clear tb-hidden\">\\n    <span class=\"tb-property-type\">淘宝价</span>\\n    <div class=\"tb-property-cont\">\\n        <div id=\"J_Promo\" class=\"tb-promo-mod\">\\n            <div id=\"J_PromoHd\" class=\"tb-promo-hd tb-promo-item\"></div>\\n            <div id=\"J_PromoBd\" class=\"tb-promo-bd\"></div>\\n        </div>\\n    </div>\\n</li>']"
      ]
     },
     "execution_count": 211,
     "metadata": {},
     "output_type": "execute_result"
    }
   ],
   "source": [
    "req.xpath('//*[@id=\"J_PromoPrice\"]').extract()"
   ]
  },
  {
   "cell_type": "code",
   "execution_count": 212,
   "metadata": {
    "ExecuteTime": {
     "end_time": "2020-06-12T03:57:19.456934Z",
     "start_time": "2020-06-12T03:57:19.452526Z"
    }
   },
   "outputs": [
    {
     "data": {
      "text/plain": [
       "'岛上定制新款春秋单鞋低跟英伦真皮女鞋粗跟圆头低帮鞋复古小皮鞋'"
      ]
     },
     "execution_count": 212,
     "metadata": {},
     "output_type": "execute_result"
    }
   ],
   "source": [
    "# 제품 이름\n",
    "req.xpath('//*[@id=\"J_Title\"]/h3/@data-title').extract_first()"
   ]
  },
  {
   "cell_type": "code",
   "execution_count": 213,
   "metadata": {
    "ExecuteTime": {
     "end_time": "2020-06-12T03:57:20.592939Z",
     "start_time": "2020-06-12T03:57:20.588469Z"
    }
   },
   "outputs": [
    {
     "data": {
      "text/plain": [
       "'580.00'"
      ]
     },
     "execution_count": 213,
     "metadata": {},
     "output_type": "execute_result"
    }
   ],
   "source": [
    "# 원가\n",
    "req.xpath('//*[@id=\"J_StrPrice\"]/em[@class=\"tb-rmb-num\"]/text()').extract_first()"
   ]
  },
  {
   "cell_type": "code",
   "execution_count": 202,
   "metadata": {
    "ExecuteTime": {
     "end_time": "2020-06-12T03:52:05.454857Z",
     "start_time": "2020-06-12T03:52:05.450133Z"
    }
   },
   "outputs": [
    {
     "data": {
      "text/plain": [
       "[<Selector xpath='//*[@id=\"J_PromoHd\"]' data='<div id=\"J_PromoHd\" class=\"tb-promo-h...'>]"
      ]
     },
     "execution_count": 202,
     "metadata": {},
     "output_type": "execute_result"
    }
   ],
   "source": [
    "# 할인 가격\n",
    "req2.xpath('//*[@id=\"J_PromoHd\"]')"
   ]
  },
  {
   "cell_type": "code",
   "execution_count": 124,
   "metadata": {
    "ExecuteTime": {
     "end_time": "2020-06-12T03:21:35.350365Z",
     "start_time": "2020-06-12T03:21:35.346663Z"
    }
   },
   "outputs": [],
   "source": [
    "# 옵션타이틀\n",
    "option_title = req.xpath('//*[@id=\"J_isku\"]/div/dl/dd/ul/@data-property').extract()"
   ]
  },
  {
   "cell_type": "code",
   "execution_count": 144,
   "metadata": {
    "ExecuteTime": {
     "end_time": "2020-06-12T03:23:48.085869Z",
     "start_time": "2020-06-12T03:23:48.081095Z"
    }
   },
   "outputs": [
    {
     "data": {
      "text/plain": [
       "['33', '34', '35', '36', '37', '38', '39', '40']"
      ]
     },
     "execution_count": 144,
     "metadata": {},
     "output_type": "execute_result"
    }
   ],
   "source": [
    "# 옵션 내용\n",
    "req.xpath('//*[@id=\"J_isku\"]/div/dl/dd/ul[@data-property=\"{}\"]/li/a/span/text()'.format(option_title[0])).extract()"
   ]
  },
  {
   "cell_type": "code",
   "execution_count": 109,
   "metadata": {
    "ExecuteTime": {
     "end_time": "2020-06-12T05:05:02.283377Z",
     "start_time": "2020-06-12T05:05:02.276739Z"
    }
   },
   "outputs": [],
   "source": [
    "r = []\n",
    "for title in option_title:\n",
    "    j = {}\n",
    "    j['option_title'] = title\n",
    "    j['options'] = req.xpath('//*[@id=\"J_isku\"]/div/dl/dd/ul[@data-property=\"{}\"]/li/a/span/text()'.format(title)).extract()\n",
    "    j['images'] = [path[17:-19] for path in req.xpath('//*[@id=\"J_isku\"]/div/dl/dd/ul[@data-property=\"{}\"]/li/a/@style'.format(title)).extract()]\n",
    "    r.append(j)"
   ]
  },
  {
   "cell_type": "code",
   "execution_count": 110,
   "metadata": {
    "ExecuteTime": {
     "end_time": "2020-06-12T05:05:03.735912Z",
     "start_time": "2020-06-12T05:05:03.731348Z"
    }
   },
   "outputs": [
    {
     "data": {
      "text/plain": [
       "[{'option_title': '尺码',\n",
       "  'options': ['37', '38', '39', '40', '41', '42', '43', '44', '45'],\n",
       "  'images': []},\n",
       " {'option_title': '颜色分类',\n",
       "  'options': ['黑色皮里', '蓝色皮里', '黑色加绒', '蓝色加绒'],\n",
       "  'images': ['gd4.alicdn.com/imgextra/i3/169373975/TB2Gp62iRTH8KJjy0FiXXcRsXXa_!!169373975.jpg_30x30.jpg',\n",
       "   'gd2.alicdn.com/imgextra/i4/169373975/TB2YN0DdgjN8KJjSZFCXXb3GpXa_!!169373975.jpg_30x30.jpg',\n",
       "   'gd1.alicdn.com/imgextra/i2/169373975/O1CN011fEapNqf2YxZby4_!!169373975.jpg_30x30.jpg',\n",
       "   'gd4.alicdn.com/imgextra/i1/169373975/O1CN011fEapMBnyxZlrm2_!!169373975.jpg_30x30.jpg']}]"
      ]
     },
     "execution_count": 110,
     "metadata": {},
     "output_type": "execute_result"
    }
   ],
   "source": [
    "r"
   ]
  },
  {
   "cell_type": "code",
   "execution_count": null,
   "metadata": {},
   "outputs": [],
   "source": []
  }
 ],
 "metadata": {
  "kernelspec": {
   "display_name": "Python 3",
   "language": "python",
   "name": "python3"
  },
  "language_info": {
   "codemirror_mode": {
    "name": "ipython",
    "version": 3
   },
   "file_extension": ".py",
   "mimetype": "text/x-python",
   "name": "python",
   "nbconvert_exporter": "python",
   "pygments_lexer": "ipython3",
   "version": "3.7.4"
  }
 },
 "nbformat": 4,
 "nbformat_minor": 2
}
